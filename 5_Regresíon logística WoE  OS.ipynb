{
 "cells": [
  {
   "attachments": {},
   "cell_type": "markdown",
   "metadata": {},
   "source": [
    "# Regresion logistica con over-sampling"
   ]
  },
  {
   "attachments": {},
   "cell_type": "markdown",
   "metadata": {},
   "source": [
    "## Librerias"
   ]
  },
  {
   "cell_type": "code",
   "execution_count": 2,
   "metadata": {},
   "outputs": [
    {
     "data": {
      "text/html": [
       "        <script type=\"text/javascript\">\n",
       "        window.PlotlyConfig = {MathJaxConfig: 'local'};\n",
       "        if (window.MathJax && window.MathJax.Hub && window.MathJax.Hub.Config) {window.MathJax.Hub.Config({SVG: {font: \"STIX-Web\"}});}\n",
       "        if (typeof require !== 'undefined') {\n",
       "        require.undef(\"plotly\");\n",
       "        requirejs.config({\n",
       "            paths: {\n",
       "                'plotly': ['https://cdn.plot.ly/plotly-2.20.0.min']\n",
       "            }\n",
       "        });\n",
       "        require(['plotly'], function(Plotly) {\n",
       "            window._Plotly = Plotly;\n",
       "        });\n",
       "        }\n",
       "        </script>\n",
       "        "
      ]
     },
     "metadata": {},
     "output_type": "display_data"
    }
   ],
   "source": [
    "from auxiliares import woe,iv\n",
    "\n",
    "import cufflinks as cf\n",
    "import numpy as np\n",
    "import matplotlib.pyplot as plt\n",
    "import pandas as pd\n",
    "import seaborn as sns \n",
    "import warnings\n",
    "\n",
    "from sklearn.linear_model import LogisticRegression\n",
    "from sklearn.metrics import accuracy_score\n",
    "from scikitplot.metrics import plot_roc_curve,plot_confusion_matrix,plot_ks_statistic\n",
    "from sklearn.feature_selection import chi2,SelectKBest\n",
    "from sklearn.preprocessing import LabelEncoder\n",
    "\n",
    "from imblearn.over_sampling import RandomOverSampler\n",
    "\n",
    "sns.set()\n",
    "cf.go_offline()\n",
    "pd.set_option('display.max_columns', None)\n",
    "warnings.filterwarnings('ignore')"
   ]
  },
  {
   "attachments": {},
   "cell_type": "markdown",
   "metadata": {},
   "source": [
    "## Lectura de datos"
   ]
  },
  {
   "cell_type": "code",
   "execution_count": 3,
   "metadata": {},
   "outputs": [
    {
     "data": {
      "text/html": [
       "<div>\n",
       "<style scoped>\n",
       "    .dataframe tbody tr th:only-of-type {\n",
       "        vertical-align: middle;\n",
       "    }\n",
       "\n",
       "    .dataframe tbody tr th {\n",
       "        vertical-align: top;\n",
       "    }\n",
       "\n",
       "    .dataframe thead th {\n",
       "        text-align: right;\n",
       "    }\n",
       "</style>\n",
       "<table border=\"1\" class=\"dataframe\">\n",
       "  <thead>\n",
       "    <tr style=\"text-align: right;\">\n",
       "      <th></th>\n",
       "      <th>id</th>\n",
       "      <th>loan_amnt</th>\n",
       "      <th>funded_amnt</th>\n",
       "      <th>funded_amnt_inv</th>\n",
       "      <th>int_rate</th>\n",
       "      <th>installment</th>\n",
       "      <th>annual_inc</th>\n",
       "      <th>dti</th>\n",
       "      <th>open_acc</th>\n",
       "      <th>revol_bal</th>\n",
       "      <th>revol_util</th>\n",
       "      <th>total_acc</th>\n",
       "      <th>tot_cur_bal</th>\n",
       "      <th>total_rev_hi_lim</th>\n",
       "      <th>mths_between_issued_earliest_cr</th>\n",
       "      <th>collections_12_mths_ex_med</th>\n",
       "      <th>acc_now_delinq</th>\n",
       "      <th>tot_coll_amt</th>\n",
       "      <th>delinq_2yrs</th>\n",
       "      <th>inq_last_6mths</th>\n",
       "      <th>pub_rec</th>\n",
       "      <th>disc_loan_amnt_4</th>\n",
       "      <th>disc_funded_amnt_4</th>\n",
       "      <th>disc_funded_amnt_inv_4</th>\n",
       "      <th>disc_int_rate_4</th>\n",
       "      <th>disc_installment_4</th>\n",
       "      <th>disc_annual_inc_4</th>\n",
       "      <th>disc_dti_4</th>\n",
       "      <th>disc_open_acc_4</th>\n",
       "      <th>disc_revol_bal_4</th>\n",
       "      <th>disc_revol_util_4</th>\n",
       "      <th>disc_total_acc_4</th>\n",
       "      <th>disc_tot_cur_bal_4</th>\n",
       "      <th>disc_total_rev_hi_lim_4</th>\n",
       "      <th>disc_mths_between_issued_earliest_cr_4</th>\n",
       "      <th>disc_collections_12_mths_ex_med_4</th>\n",
       "      <th>disc_acc_now_delinq_4</th>\n",
       "      <th>disc_tot_coll_amt_4</th>\n",
       "      <th>disc_delinq_2yrs_4</th>\n",
       "      <th>disc_inq_last_6mths_4</th>\n",
       "      <th>disc_pub_rec_4</th>\n",
       "      <th>disc_loan_amnt_5</th>\n",
       "      <th>disc_funded_amnt_5</th>\n",
       "      <th>disc_funded_amnt_inv_5</th>\n",
       "      <th>disc_int_rate_5</th>\n",
       "      <th>disc_installment_5</th>\n",
       "      <th>disc_annual_inc_5</th>\n",
       "      <th>disc_dti_5</th>\n",
       "      <th>disc_open_acc_5</th>\n",
       "      <th>disc_revol_bal_5</th>\n",
       "      <th>disc_revol_util_5</th>\n",
       "      <th>disc_total_acc_5</th>\n",
       "      <th>disc_tot_cur_bal_5</th>\n",
       "      <th>disc_total_rev_hi_lim_5</th>\n",
       "      <th>disc_mths_between_issued_earliest_cr_5</th>\n",
       "      <th>disc_collections_12_mths_ex_med_5</th>\n",
       "      <th>disc_acc_now_delinq_5</th>\n",
       "      <th>disc_tot_coll_amt_5</th>\n",
       "      <th>disc_delinq_2yrs_5</th>\n",
       "      <th>disc_inq_last_6mths_5</th>\n",
       "      <th>disc_pub_rec_5</th>\n",
       "      <th>disc_loan_amnt_6</th>\n",
       "      <th>disc_funded_amnt_6</th>\n",
       "      <th>disc_funded_amnt_inv_6</th>\n",
       "      <th>disc_int_rate_6</th>\n",
       "      <th>disc_installment_6</th>\n",
       "      <th>disc_annual_inc_6</th>\n",
       "      <th>disc_dti_6</th>\n",
       "      <th>disc_open_acc_6</th>\n",
       "      <th>disc_revol_bal_6</th>\n",
       "      <th>disc_revol_util_6</th>\n",
       "      <th>disc_total_acc_6</th>\n",
       "      <th>disc_tot_cur_bal_6</th>\n",
       "      <th>disc_total_rev_hi_lim_6</th>\n",
       "      <th>disc_mths_between_issued_earliest_cr_6</th>\n",
       "      <th>disc_collections_12_mths_ex_med_6</th>\n",
       "      <th>disc_acc_now_delinq_6</th>\n",
       "      <th>disc_tot_coll_amt_6</th>\n",
       "      <th>disc_delinq_2yrs_6</th>\n",
       "      <th>disc_inq_last_6mths_6</th>\n",
       "      <th>disc_pub_rec_6</th>\n",
       "      <th>disc_loan_amnt_7</th>\n",
       "      <th>disc_funded_amnt_7</th>\n",
       "      <th>disc_funded_amnt_inv_7</th>\n",
       "      <th>disc_int_rate_7</th>\n",
       "      <th>disc_installment_7</th>\n",
       "      <th>disc_annual_inc_7</th>\n",
       "      <th>disc_dti_7</th>\n",
       "      <th>disc_open_acc_7</th>\n",
       "      <th>disc_revol_bal_7</th>\n",
       "      <th>disc_revol_util_7</th>\n",
       "      <th>disc_total_acc_7</th>\n",
       "      <th>disc_tot_cur_bal_7</th>\n",
       "      <th>disc_total_rev_hi_lim_7</th>\n",
       "      <th>disc_mths_between_issued_earliest_cr_7</th>\n",
       "      <th>disc_collections_12_mths_ex_med_7</th>\n",
       "      <th>disc_acc_now_delinq_7</th>\n",
       "      <th>disc_tot_coll_amt_7</th>\n",
       "      <th>disc_delinq_2yrs_7</th>\n",
       "      <th>disc_inq_last_6mths_7</th>\n",
       "      <th>disc_pub_rec_7</th>\n",
       "      <th>disc_loan_amnt_8</th>\n",
       "      <th>disc_funded_amnt_8</th>\n",
       "      <th>disc_funded_amnt_inv_8</th>\n",
       "      <th>disc_int_rate_8</th>\n",
       "      <th>disc_installment_8</th>\n",
       "      <th>disc_annual_inc_8</th>\n",
       "      <th>disc_dti_8</th>\n",
       "      <th>disc_open_acc_8</th>\n",
       "      <th>disc_revol_bal_8</th>\n",
       "      <th>disc_revol_util_8</th>\n",
       "      <th>disc_total_acc_8</th>\n",
       "      <th>disc_tot_cur_bal_8</th>\n",
       "      <th>disc_total_rev_hi_lim_8</th>\n",
       "      <th>disc_mths_between_issued_earliest_cr_8</th>\n",
       "      <th>disc_collections_12_mths_ex_med_8</th>\n",
       "      <th>disc_acc_now_delinq_8</th>\n",
       "      <th>disc_tot_coll_amt_8</th>\n",
       "      <th>disc_delinq_2yrs_8</th>\n",
       "      <th>disc_inq_last_6mths_8</th>\n",
       "      <th>disc_pub_rec_8</th>\n",
       "      <th>disc_loan_amnt_9</th>\n",
       "      <th>disc_funded_amnt_9</th>\n",
       "      <th>disc_funded_amnt_inv_9</th>\n",
       "      <th>disc_int_rate_9</th>\n",
       "      <th>disc_installment_9</th>\n",
       "      <th>disc_annual_inc_9</th>\n",
       "      <th>disc_dti_9</th>\n",
       "      <th>disc_open_acc_9</th>\n",
       "      <th>disc_revol_bal_9</th>\n",
       "      <th>disc_revol_util_9</th>\n",
       "      <th>disc_total_acc_9</th>\n",
       "      <th>disc_tot_cur_bal_9</th>\n",
       "      <th>disc_total_rev_hi_lim_9</th>\n",
       "      <th>disc_mths_between_issued_earliest_cr_9</th>\n",
       "      <th>disc_collections_12_mths_ex_med_9</th>\n",
       "      <th>disc_acc_now_delinq_9</th>\n",
       "      <th>disc_tot_coll_amt_9</th>\n",
       "      <th>disc_delinq_2yrs_9</th>\n",
       "      <th>disc_inq_last_6mths_9</th>\n",
       "      <th>disc_pub_rec_9</th>\n",
       "      <th>disc_loan_amnt_10</th>\n",
       "      <th>disc_funded_amnt_10</th>\n",
       "      <th>disc_funded_amnt_inv_10</th>\n",
       "      <th>disc_int_rate_10</th>\n",
       "      <th>disc_installment_10</th>\n",
       "      <th>disc_annual_inc_10</th>\n",
       "      <th>disc_dti_10</th>\n",
       "      <th>disc_open_acc_10</th>\n",
       "      <th>disc_revol_bal_10</th>\n",
       "      <th>disc_revol_util_10</th>\n",
       "      <th>disc_total_acc_10</th>\n",
       "      <th>disc_tot_cur_bal_10</th>\n",
       "      <th>disc_total_rev_hi_lim_10</th>\n",
       "      <th>disc_mths_between_issued_earliest_cr_10</th>\n",
       "      <th>disc_collections_12_mths_ex_med_10</th>\n",
       "      <th>disc_acc_now_delinq_10</th>\n",
       "      <th>disc_tot_coll_amt_10</th>\n",
       "      <th>disc_delinq_2yrs_10</th>\n",
       "      <th>disc_inq_last_6mths_10</th>\n",
       "      <th>disc_pub_rec_10</th>\n",
       "      <th>term</th>\n",
       "      <th>grade</th>\n",
       "      <th>emp_length</th>\n",
       "      <th>home_ownership</th>\n",
       "      <th>verification_status</th>\n",
       "      <th>pymnt_plan</th>\n",
       "      <th>purpose</th>\n",
       "      <th>addr_state</th>\n",
       "      <th>initial_list_status</th>\n",
       "      <th>disc_mths_since_last_delinq</th>\n",
       "      <th>disc_mths_since_last_record</th>\n",
       "      <th>disc_mths_since_last_major_derog</th>\n",
       "      <th>target</th>\n",
       "      <th>woe_term</th>\n",
       "      <th>woe_grade</th>\n",
       "      <th>woe_emp_length</th>\n",
       "      <th>woe_home_ownership</th>\n",
       "      <th>woe_verification_status</th>\n",
       "      <th>woe_pymnt_plan</th>\n",
       "      <th>woe_purpose</th>\n",
       "      <th>woe_addr_state</th>\n",
       "      <th>woe_initial_list_status</th>\n",
       "      <th>woe_disc_loan_amnt_4</th>\n",
       "      <th>woe_disc_funded_amnt_4</th>\n",
       "      <th>woe_disc_funded_amnt_inv_4</th>\n",
       "      <th>woe_disc_int_rate_4</th>\n",
       "      <th>woe_disc_installment_4</th>\n",
       "      <th>woe_disc_annual_inc_4</th>\n",
       "      <th>woe_disc_dti_4</th>\n",
       "      <th>woe_disc_open_acc_4</th>\n",
       "      <th>woe_disc_revol_bal_4</th>\n",
       "      <th>woe_disc_revol_util_4</th>\n",
       "      <th>woe_disc_total_acc_4</th>\n",
       "      <th>woe_disc_tot_cur_bal_4</th>\n",
       "      <th>woe_disc_total_rev_hi_lim_4</th>\n",
       "      <th>woe_disc_mths_between_issued_earliest_cr_4</th>\n",
       "      <th>woe_disc_collections_12_mths_ex_med_4</th>\n",
       "      <th>woe_disc_acc_now_delinq_4</th>\n",
       "      <th>woe_disc_tot_coll_amt_4</th>\n",
       "      <th>woe_disc_delinq_2yrs_4</th>\n",
       "      <th>woe_disc_inq_last_6mths_4</th>\n",
       "      <th>woe_disc_pub_rec_4</th>\n",
       "      <th>woe_disc_loan_amnt_5</th>\n",
       "      <th>woe_disc_funded_amnt_5</th>\n",
       "      <th>woe_disc_funded_amnt_inv_5</th>\n",
       "      <th>woe_disc_int_rate_5</th>\n",
       "      <th>woe_disc_installment_5</th>\n",
       "      <th>woe_disc_annual_inc_5</th>\n",
       "      <th>woe_disc_dti_5</th>\n",
       "      <th>woe_disc_open_acc_5</th>\n",
       "      <th>woe_disc_revol_bal_5</th>\n",
       "      <th>woe_disc_revol_util_5</th>\n",
       "      <th>woe_disc_total_acc_5</th>\n",
       "      <th>woe_disc_tot_cur_bal_5</th>\n",
       "      <th>woe_disc_total_rev_hi_lim_5</th>\n",
       "      <th>woe_disc_mths_between_issued_earliest_cr_5</th>\n",
       "      <th>woe_disc_collections_12_mths_ex_med_5</th>\n",
       "      <th>woe_disc_acc_now_delinq_5</th>\n",
       "      <th>woe_disc_tot_coll_amt_5</th>\n",
       "      <th>woe_disc_delinq_2yrs_5</th>\n",
       "      <th>woe_disc_inq_last_6mths_5</th>\n",
       "      <th>woe_disc_pub_rec_5</th>\n",
       "      <th>woe_disc_loan_amnt_6</th>\n",
       "      <th>woe_disc_funded_amnt_6</th>\n",
       "      <th>woe_disc_funded_amnt_inv_6</th>\n",
       "      <th>woe_disc_int_rate_6</th>\n",
       "      <th>woe_disc_installment_6</th>\n",
       "      <th>woe_disc_annual_inc_6</th>\n",
       "      <th>woe_disc_dti_6</th>\n",
       "      <th>woe_disc_open_acc_6</th>\n",
       "      <th>woe_disc_revol_bal_6</th>\n",
       "      <th>woe_disc_revol_util_6</th>\n",
       "      <th>woe_disc_total_acc_6</th>\n",
       "      <th>woe_disc_tot_cur_bal_6</th>\n",
       "      <th>woe_disc_total_rev_hi_lim_6</th>\n",
       "      <th>woe_disc_mths_between_issued_earliest_cr_6</th>\n",
       "      <th>woe_disc_collections_12_mths_ex_med_6</th>\n",
       "      <th>woe_disc_acc_now_delinq_6</th>\n",
       "      <th>woe_disc_tot_coll_amt_6</th>\n",
       "      <th>woe_disc_delinq_2yrs_6</th>\n",
       "      <th>woe_disc_inq_last_6mths_6</th>\n",
       "      <th>woe_disc_pub_rec_6</th>\n",
       "      <th>woe_disc_loan_amnt_7</th>\n",
       "      <th>woe_disc_funded_amnt_7</th>\n",
       "      <th>woe_disc_funded_amnt_inv_7</th>\n",
       "      <th>woe_disc_int_rate_7</th>\n",
       "      <th>woe_disc_installment_7</th>\n",
       "      <th>woe_disc_annual_inc_7</th>\n",
       "      <th>woe_disc_dti_7</th>\n",
       "      <th>woe_disc_open_acc_7</th>\n",
       "      <th>woe_disc_revol_bal_7</th>\n",
       "      <th>woe_disc_revol_util_7</th>\n",
       "      <th>woe_disc_total_acc_7</th>\n",
       "      <th>woe_disc_tot_cur_bal_7</th>\n",
       "      <th>woe_disc_total_rev_hi_lim_7</th>\n",
       "      <th>woe_disc_mths_between_issued_earliest_cr_7</th>\n",
       "      <th>woe_disc_collections_12_mths_ex_med_7</th>\n",
       "      <th>woe_disc_acc_now_delinq_7</th>\n",
       "      <th>woe_disc_tot_coll_amt_7</th>\n",
       "      <th>woe_disc_delinq_2yrs_7</th>\n",
       "      <th>woe_disc_inq_last_6mths_7</th>\n",
       "      <th>woe_disc_pub_rec_7</th>\n",
       "      <th>woe_disc_loan_amnt_8</th>\n",
       "      <th>woe_disc_funded_amnt_8</th>\n",
       "      <th>woe_disc_funded_amnt_inv_8</th>\n",
       "      <th>woe_disc_int_rate_8</th>\n",
       "      <th>woe_disc_installment_8</th>\n",
       "      <th>woe_disc_annual_inc_8</th>\n",
       "      <th>woe_disc_dti_8</th>\n",
       "      <th>woe_disc_open_acc_8</th>\n",
       "      <th>woe_disc_revol_bal_8</th>\n",
       "      <th>woe_disc_revol_util_8</th>\n",
       "      <th>woe_disc_total_acc_8</th>\n",
       "      <th>woe_disc_tot_cur_bal_8</th>\n",
       "      <th>woe_disc_total_rev_hi_lim_8</th>\n",
       "      <th>woe_disc_mths_between_issued_earliest_cr_8</th>\n",
       "      <th>woe_disc_collections_12_mths_ex_med_8</th>\n",
       "      <th>woe_disc_acc_now_delinq_8</th>\n",
       "      <th>woe_disc_tot_coll_amt_8</th>\n",
       "      <th>woe_disc_delinq_2yrs_8</th>\n",
       "      <th>woe_disc_inq_last_6mths_8</th>\n",
       "      <th>woe_disc_pub_rec_8</th>\n",
       "      <th>woe_disc_loan_amnt_9</th>\n",
       "      <th>woe_disc_funded_amnt_9</th>\n",
       "      <th>woe_disc_funded_amnt_inv_9</th>\n",
       "      <th>woe_disc_int_rate_9</th>\n",
       "      <th>woe_disc_installment_9</th>\n",
       "      <th>woe_disc_annual_inc_9</th>\n",
       "      <th>woe_disc_dti_9</th>\n",
       "      <th>woe_disc_open_acc_9</th>\n",
       "      <th>woe_disc_revol_bal_9</th>\n",
       "      <th>woe_disc_revol_util_9</th>\n",
       "      <th>woe_disc_total_acc_9</th>\n",
       "      <th>woe_disc_tot_cur_bal_9</th>\n",
       "      <th>woe_disc_total_rev_hi_lim_9</th>\n",
       "      <th>woe_disc_mths_between_issued_earliest_cr_9</th>\n",
       "      <th>woe_disc_collections_12_mths_ex_med_9</th>\n",
       "      <th>woe_disc_acc_now_delinq_9</th>\n",
       "      <th>woe_disc_tot_coll_amt_9</th>\n",
       "      <th>woe_disc_delinq_2yrs_9</th>\n",
       "      <th>woe_disc_inq_last_6mths_9</th>\n",
       "      <th>woe_disc_pub_rec_9</th>\n",
       "      <th>woe_disc_loan_amnt_10</th>\n",
       "      <th>woe_disc_funded_amnt_10</th>\n",
       "      <th>woe_disc_funded_amnt_inv_10</th>\n",
       "      <th>woe_disc_int_rate_10</th>\n",
       "      <th>woe_disc_installment_10</th>\n",
       "      <th>woe_disc_annual_inc_10</th>\n",
       "      <th>woe_disc_dti_10</th>\n",
       "      <th>woe_disc_open_acc_10</th>\n",
       "      <th>woe_disc_revol_bal_10</th>\n",
       "      <th>woe_disc_revol_util_10</th>\n",
       "      <th>woe_disc_total_acc_10</th>\n",
       "      <th>woe_disc_tot_cur_bal_10</th>\n",
       "      <th>woe_disc_total_rev_hi_lim_10</th>\n",
       "      <th>woe_disc_mths_between_issued_earliest_cr_10</th>\n",
       "      <th>woe_disc_collections_12_mths_ex_med_10</th>\n",
       "      <th>woe_disc_acc_now_delinq_10</th>\n",
       "      <th>woe_disc_tot_coll_amt_10</th>\n",
       "      <th>woe_disc_delinq_2yrs_10</th>\n",
       "      <th>woe_disc_inq_last_6mths_10</th>\n",
       "      <th>woe_disc_pub_rec_10</th>\n",
       "      <th>woe_disc_mths_since_last_delinq</th>\n",
       "      <th>woe_disc_mths_since_last_record</th>\n",
       "      <th>woe_disc_mths_since_last_major_derog</th>\n",
       "    </tr>\n",
       "  </thead>\n",
       "  <tbody>\n",
       "    <tr>\n",
       "      <th>0</th>\n",
       "      <td>9217698</td>\n",
       "      <td>6000.0</td>\n",
       "      <td>6000.0</td>\n",
       "      <td>6000.0</td>\n",
       "      <td>13.67</td>\n",
       "      <td>204.11</td>\n",
       "      <td>36000.0</td>\n",
       "      <td>15.20</td>\n",
       "      <td>12.0</td>\n",
       "      <td>7894.0</td>\n",
       "      <td>65.8</td>\n",
       "      <td>13.0</td>\n",
       "      <td>12871.0</td>\n",
       "      <td>12000.0</td>\n",
       "      <td>51.0</td>\n",
       "      <td>0.0</td>\n",
       "      <td>0.0</td>\n",
       "      <td>0.0</td>\n",
       "      <td>0.0</td>\n",
       "      <td>1.0</td>\n",
       "      <td>0.0</td>\n",
       "      <td>(500.0, 8000.0]</td>\n",
       "      <td>(500.0, 8000.0]</td>\n",
       "      <td>(0.0, 8000.0]</td>\n",
       "      <td>(13.66, 16.49]</td>\n",
       "      <td>(15.67, 256.88]</td>\n",
       "      <td>(1896.0, 45000.0]</td>\n",
       "      <td>(11.35, 16.87]</td>\n",
       "      <td>(10.0, 14.0]</td>\n",
       "      <td>(6413.0, 11769.0]</td>\n",
       "      <td>(57.6, 74.7]</td>\n",
       "      <td>(1.0, 17.0]</td>\n",
       "      <td>(0.0, 33597.0]</td>\n",
       "      <td>(0.0, 15000.0]</td>\n",
       "      <td>(6.0, 133.0]</td>\n",
       "      <td>(0.0, 20.0]</td>\n",
       "      <td>(0.0, 5.0]</td>\n",
       "      <td>(0.0, 9152545.0]</td>\n",
       "      <td>(0.0, 29.0]</td>\n",
       "      <td>(1.0, 28.0]</td>\n",
       "      <td>(0.0, 40.0]</td>\n",
       "      <td>(500.0, 7000.0]</td>\n",
       "      <td>(500.0, 7000.0]</td>\n",
       "      <td>(0.0, 7000.0]</td>\n",
       "      <td>(12.49, 14.49]</td>\n",
       "      <td>(15.67, 226.4]</td>\n",
       "      <td>(1896.0, 41600.0]</td>\n",
       "      <td>(14.71, 19.09]</td>\n",
       "      <td>(12.0, 15.0]</td>\n",
       "      <td>(5447.0, 9457.0]</td>\n",
       "      <td>(64.3, 78.5]</td>\n",
       "      <td>(1.0, 15.0]</td>\n",
       "      <td>(0.0, 27130.0]</td>\n",
       "      <td>(0.0, 13030.2]</td>\n",
       "      <td>(6.0, 123.0]</td>\n",
       "      <td>(0.0, 20.0]</td>\n",
       "      <td>(0.0, 5.0]</td>\n",
       "      <td>(0.0, 9152545.0]</td>\n",
       "      <td>(0.0, 29.0]</td>\n",
       "      <td>(1.0, 2.0]</td>\n",
       "      <td>(0.0, 40.0]</td>\n",
       "      <td>(6000.0, 10000.0]</td>\n",
       "      <td>(6000.0, 10000.0]</td>\n",
       "      <td>(6000.0, 9900.0]</td>\n",
       "      <td>(13.66, 15.59]</td>\n",
       "      <td>(203.42, 300.61]</td>\n",
       "      <td>(1896.0, 40000.0]</td>\n",
       "      <td>(13.26, 16.87]</td>\n",
       "      <td>(12.0, 16.0]</td>\n",
       "      <td>(4805.0, 8060.0]</td>\n",
       "      <td>(57.6, 68.8]</td>\n",
       "      <td>(1.0, 14.0]</td>\n",
       "      <td>(0.0, 23168.0]</td>\n",
       "      <td>(11700.0, 18500.0]</td>\n",
       "      <td>(6.0, 115.0]</td>\n",
       "      <td>(0.0, 20.0]</td>\n",
       "      <td>(0.0, 5.0]</td>\n",
       "      <td>(0.0, 9152545.0]</td>\n",
       "      <td>(0.0, 1.0]</td>\n",
       "      <td>(1.0, 2.0]</td>\n",
       "      <td>(0.0, 40.0]</td>\n",
       "      <td>(6000.0, 8750.0]</td>\n",
       "      <td>(6000.0, 8725.0]</td>\n",
       "      <td>(5700.0, 8500.0]</td>\n",
       "      <td>(12.99, 14.33]</td>\n",
       "      <td>(189.1, 274.71]</td>\n",
       "      <td>(1896.0, 37500.0]</td>\n",
       "      <td>(12.19, 15.31]</td>\n",
       "      <td>(11.0, 13.0]</td>\n",
       "      <td>(7115.0, 10088.0]</td>\n",
       "      <td>(62.4, 72.1]</td>\n",
       "      <td>(13.0, 18.0]</td>\n",
       "      <td>(0.0, 20412.29]</td>\n",
       "      <td>(10700.0, 16500.0]</td>\n",
       "      <td>(6.0, 108.0]</td>\n",
       "      <td>(0.0, 20.0]</td>\n",
       "      <td>(0.0, 5.0]</td>\n",
       "      <td>(0.0, 9152545.0]</td>\n",
       "      <td>(0.0, 1.0]</td>\n",
       "      <td>(1.0, 2.0]</td>\n",
       "      <td>(0.0, 40.0]</td>\n",
       "      <td>(5225.0, 8000.0]</td>\n",
       "      <td>(5200.0, 8000.0]</td>\n",
       "      <td>(5000.0, 8000.0]</td>\n",
       "      <td>(13.66, 14.99]</td>\n",
       "      <td>(177.0, 256.88]</td>\n",
       "      <td>(35985.0, 45000.0]</td>\n",
       "      <td>(14.17, 16.87]</td>\n",
       "      <td>(12.0, 14.0]</td>\n",
       "      <td>(6413.0, 8925.0]</td>\n",
       "      <td>(57.6, 66.0]</td>\n",
       "      <td>(13.0, 17.0]</td>\n",
       "      <td>(0.0, 18388.0]</td>\n",
       "      <td>(10000.0, 15000.0]</td>\n",
       "      <td>(6.0, 103.0]</td>\n",
       "      <td>(0.0, 20.0]</td>\n",
       "      <td>(0.0, 5.0]</td>\n",
       "      <td>(0.0, 9152545.0]</td>\n",
       "      <td>(0.0, 1.0]</td>\n",
       "      <td>(1.0, 2.0]</td>\n",
       "      <td>(0.0, 1.0]</td>\n",
       "      <td>(5000.0, 7450.0]</td>\n",
       "      <td>(5000.0, 7397.22]</td>\n",
       "      <td>(5000.0, 7200.0]</td>\n",
       "      <td>(12.99, 14.27]</td>\n",
       "      <td>(168.45, 240.92]</td>\n",
       "      <td>(35000.0, 43000.0]</td>\n",
       "      <td>(13.26, 15.66]</td>\n",
       "      <td>(12.0, 14.0]</td>\n",
       "      <td>(5878.0, 8060.0]</td>\n",
       "      <td>(61.3, 68.8]</td>\n",
       "      <td>(12.0, 16.0]</td>\n",
       "      <td>(0.0, 16836.0]</td>\n",
       "      <td>(9400.0, 13900.0]</td>\n",
       "      <td>(6.0, 98.0]</td>\n",
       "      <td>(0.0, 20.0]</td>\n",
       "      <td>(0.0, 5.0]</td>\n",
       "      <td>(0.0, 9152545.0]</td>\n",
       "      <td>(0.0, 1.0]</td>\n",
       "      <td>(1.0, 2.0]</td>\n",
       "      <td>(0.0, 1.0]</td>\n",
       "      <td>(5000.0, 7000.0]</td>\n",
       "      <td>(5000.0, 7000.0]</td>\n",
       "      <td>(5000.0, 7000.0]</td>\n",
       "      <td>(13.66, 14.49]</td>\n",
       "      <td>(163.27, 226.4]</td>\n",
       "      <td>(34000.0, 41600.0]</td>\n",
       "      <td>(14.71, 16.87]</td>\n",
       "      <td>(12.0, 13.0]</td>\n",
       "      <td>(7399.0, 9457.0]</td>\n",
       "      <td>(64.3, 71.1]</td>\n",
       "      <td>(11.8, 15.0]</td>\n",
       "      <td>(0.0, 15583.0]</td>\n",
       "      <td>(8900.0, 13030.2]</td>\n",
       "      <td>(6.0, 94.0]</td>\n",
       "      <td>(0.0, 20.0]</td>\n",
       "      <td>(0.0, 5.0]</td>\n",
       "      <td>(0.0, 60.0]</td>\n",
       "      <td>(0.0, 1.0]</td>\n",
       "      <td>(1.0, 2.0]</td>\n",
       "      <td>(0.0, 1.0]</td>\n",
       "      <td>36</td>\n",
       "      <td>B</td>\n",
       "      <td>2-4 years</td>\n",
       "      <td>RENT</td>\n",
       "      <td>Not Verified</td>\n",
       "      <td>n</td>\n",
       "      <td>credit_card</td>\n",
       "      <td>CT</td>\n",
       "      <td>w</td>\n",
       "      <td>missing</td>\n",
       "      <td>missing</td>\n",
       "      <td>missing</td>\n",
       "      <td>0</td>\n",
       "      <td>0.134945</td>\n",
       "      <td>0.357569</td>\n",
       "      <td>-0.004173</td>\n",
       "      <td>-0.160657</td>\n",
       "      <td>0.166965</td>\n",
       "      <td>0.000077</td>\n",
       "      <td>0.253952</td>\n",
       "      <td>NaN</td>\n",
       "      <td>0.231666</td>\n",
       "      <td>0.051392</td>\n",
       "      <td>0.050432</td>\n",
       "      <td>0.027889</td>\n",
       "      <td>-0.119774</td>\n",
       "      <td>0.084315</td>\n",
       "      <td>-0.268596</td>\n",
       "      <td>0.098088</td>\n",
       "      <td>-0.018135</td>\n",
       "      <td>-0.040924</td>\n",
       "      <td>-0.058078</td>\n",
       "      <td>-0.108187</td>\n",
       "      <td>-0.051154</td>\n",
       "      <td>-0.061596</td>\n",
       "      <td>-0.199298</td>\n",
       "      <td>0.0</td>\n",
       "      <td>0.0</td>\n",
       "      <td>0.0</td>\n",
       "      <td>0.0</td>\n",
       "      <td>-0.180368</td>\n",
       "      <td>0.0</td>\n",
       "      <td>0.052676</td>\n",
       "      <td>0.050318</td>\n",
       "      <td>0.019923</td>\n",
       "      <td>0.090951</td>\n",
       "      <td>0.068589</td>\n",
       "      <td>-0.281745</td>\n",
       "      <td>0.019120</td>\n",
       "      <td>0.008159</td>\n",
       "      <td>-0.045316</td>\n",
       "      <td>-0.088852</td>\n",
       "      <td>-0.125284</td>\n",
       "      <td>-0.047341</td>\n",
       "      <td>-0.071961</td>\n",
       "      <td>-0.212823</td>\n",
       "      <td>0.0</td>\n",
       "      <td>0.0</td>\n",
       "      <td>0.0</td>\n",
       "      <td>0.0</td>\n",
       "      <td>-0.057666</td>\n",
       "      <td>0.0</td>\n",
       "      <td>0.048538</td>\n",
       "      <td>0.047048</td>\n",
       "      <td>0.054484</td>\n",
       "      <td>-0.058487</td>\n",
       "      <td>0.053649</td>\n",
       "      <td>-0.291743</td>\n",
       "      <td>0.075368</td>\n",
       "      <td>0.008937</td>\n",
       "      <td>-0.039068</td>\n",
       "      <td>-0.054397</td>\n",
       "      <td>-0.129919</td>\n",
       "      <td>-0.042889</td>\n",
       "      <td>-0.022591</td>\n",
       "      <td>-0.220034</td>\n",
       "      <td>0.0</td>\n",
       "      <td>0.0</td>\n",
       "      <td>0.0</td>\n",
       "      <td>0.002178</td>\n",
       "      <td>-0.057666</td>\n",
       "      <td>0.0</td>\n",
       "      <td>0.088340</td>\n",
       "      <td>0.091602</td>\n",
       "      <td>0.086244</td>\n",
       "      <td>0.082026</td>\n",
       "      <td>0.119962</td>\n",
       "      <td>-0.303816</td>\n",
       "      <td>0.102306</td>\n",
       "      <td>-0.034594</td>\n",
       "      <td>-0.045297</td>\n",
       "      <td>-0.059480</td>\n",
       "      <td>-0.061889</td>\n",
       "      <td>-0.032426</td>\n",
       "      <td>-0.045725</td>\n",
       "      <td>-0.241687</td>\n",
       "      <td>0.0</td>\n",
       "      <td>0.0</td>\n",
       "      <td>0.0</td>\n",
       "      <td>0.002178</td>\n",
       "      <td>-0.057666</td>\n",
       "      <td>0.0</td>\n",
       "      <td>0.091984</td>\n",
       "      <td>0.093030</td>\n",
       "      <td>0.085918</td>\n",
       "      <td>-0.034736</td>\n",
       "      <td>0.134171</td>\n",
       "      <td>-0.218980</td>\n",
       "      <td>0.079205</td>\n",
       "      <td>0.005054</td>\n",
       "      <td>-0.056601</td>\n",
       "      <td>-0.046892</td>\n",
       "      <td>-0.072448</td>\n",
       "      <td>-0.024303</td>\n",
       "      <td>-0.031853</td>\n",
       "      <td>-0.258652</td>\n",
       "      <td>0.0</td>\n",
       "      <td>0.0</td>\n",
       "      <td>0.0</td>\n",
       "      <td>0.002178</td>\n",
       "      <td>-0.057666</td>\n",
       "      <td>-0.009284</td>\n",
       "      <td>0.094890</td>\n",
       "      <td>0.093732</td>\n",
       "      <td>0.109015</td>\n",
       "      <td>0.085978</td>\n",
       "      <td>0.095153</td>\n",
       "      <td>-0.239472</td>\n",
       "      <td>0.090115</td>\n",
       "      <td>0.005054</td>\n",
       "      <td>-0.046770</td>\n",
       "      <td>-0.056118</td>\n",
       "      <td>-0.072618</td>\n",
       "      <td>-0.024701</td>\n",
       "      <td>-0.035281</td>\n",
       "      <td>-0.277203</td>\n",
       "      <td>0.0</td>\n",
       "      <td>0.0</td>\n",
       "      <td>0.0</td>\n",
       "      <td>0.002178</td>\n",
       "      <td>-0.057666</td>\n",
       "      <td>-0.009284</td>\n",
       "      <td>0.099731</td>\n",
       "      <td>0.096549</td>\n",
       "      <td>0.095407</td>\n",
       "      <td>-0.046756</td>\n",
       "      <td>0.078329</td>\n",
       "      <td>-0.242970</td>\n",
       "      <td>0.064311</td>\n",
       "      <td>-0.028519</td>\n",
       "      <td>-0.040737</td>\n",
       "      <td>-0.083744</td>\n",
       "      <td>-0.080528</td>\n",
       "      <td>-0.015421</td>\n",
       "      <td>-0.044526</td>\n",
       "      <td>-0.281931</td>\n",
       "      <td>0.0</td>\n",
       "      <td>0.0</td>\n",
       "      <td>-0.011181</td>\n",
       "      <td>0.002178</td>\n",
       "      <td>-0.057666</td>\n",
       "      <td>-0.009284</td>\n",
       "      <td>-0.014101</td>\n",
       "      <td>-0.009272</td>\n",
       "      <td>-0.018471</td>\n",
       "    </tr>\n",
       "    <tr>\n",
       "      <th>1</th>\n",
       "      <td>5795876</td>\n",
       "      <td>27075.0</td>\n",
       "      <td>27075.0</td>\n",
       "      <td>27075.0</td>\n",
       "      <td>15.80</td>\n",
       "      <td>655.54</td>\n",
       "      <td>60780.0</td>\n",
       "      <td>18.34</td>\n",
       "      <td>9.0</td>\n",
       "      <td>21686.0</td>\n",
       "      <td>58.1</td>\n",
       "      <td>20.0</td>\n",
       "      <td>111385.0</td>\n",
       "      <td>37300.0</td>\n",
       "      <td>354.0</td>\n",
       "      <td>0.0</td>\n",
       "      <td>0.0</td>\n",
       "      <td>1115.0</td>\n",
       "      <td>0.0</td>\n",
       "      <td>0.0</td>\n",
       "      <td>0.0</td>\n",
       "      <td>(20000.0, 35000.0]</td>\n",
       "      <td>(20000.0, 35000.0]</td>\n",
       "      <td>(19950.0, 35000.0]</td>\n",
       "      <td>(13.66, 16.49]</td>\n",
       "      <td>(565.62, 1409.99]</td>\n",
       "      <td>(45000.0, 63000.0]</td>\n",
       "      <td>(16.87, 22.78]</td>\n",
       "      <td>(8.0, 10.0]</td>\n",
       "      <td>(20324.0, 2568995.0]</td>\n",
       "      <td>(57.6, 74.7]</td>\n",
       "      <td>(17.0, 23.0]</td>\n",
       "      <td>(81398.5, 184569.0]</td>\n",
       "      <td>(34300.0, 9999999.0]</td>\n",
       "      <td>(238.0, 854.0]</td>\n",
       "      <td>(0.0, 20.0]</td>\n",
       "      <td>(0.0, 5.0]</td>\n",
       "      <td>(0.0, 9152545.0]</td>\n",
       "      <td>(0.0, 29.0]</td>\n",
       "      <td>(0.0, 1.0]</td>\n",
       "      <td>(0.0, 40.0]</td>\n",
       "      <td>(21000.0, 35000.0]</td>\n",
       "      <td>(20950.0, 35000.0]</td>\n",
       "      <td>(20800.0, 35000.0]</td>\n",
       "      <td>(14.49, 17.57]</td>\n",
       "      <td>(621.95, 1409.99]</td>\n",
       "      <td>(55000.0, 71000.0]</td>\n",
       "      <td>(14.71, 19.09]</td>\n",
       "      <td>(9.0, 12.0]</td>\n",
       "      <td>(14535.0, 23151.0]</td>\n",
       "      <td>(50.8, 64.3]</td>\n",
       "      <td>(15.0, 21.0]</td>\n",
       "      <td>(95242.0, 217330.4]</td>\n",
       "      <td>(24200.0, 39200.0]</td>\n",
       "      <td>(256.0, 854.0]</td>\n",
       "      <td>(0.0, 20.0]</td>\n",
       "      <td>(0.0, 5.0]</td>\n",
       "      <td>(0.0, 9152545.0]</td>\n",
       "      <td>(0.0, 29.0]</td>\n",
       "      <td>(0.0, 1.0]</td>\n",
       "      <td>(0.0, 40.0]</td>\n",
       "      <td>(23000.0, 35000.0]</td>\n",
       "      <td>(22875.0, 35000.0]</td>\n",
       "      <td>(22775.0, 35000.0]</td>\n",
       "      <td>(15.59, 18.24]</td>\n",
       "      <td>(494.97, 661.14]</td>\n",
       "      <td>(50000.0, 63000.0]</td>\n",
       "      <td>(16.87, 20.64]</td>\n",
       "      <td>(9.0, 10.0]</td>\n",
       "      <td>(16775.0, 25447.0]</td>\n",
       "      <td>(57.6, 68.8]</td>\n",
       "      <td>(19.0, 23.0]</td>\n",
       "      <td>(81398.5, 136364.33]</td>\n",
       "      <td>(28100.0, 43100.0]</td>\n",
       "      <td>(273.0, 854.0]</td>\n",
       "      <td>(0.0, 20.0]</td>\n",
       "      <td>(0.0, 5.0]</td>\n",
       "      <td>(0.0, 9152545.0]</td>\n",
       "      <td>(0.0, 1.0]</td>\n",
       "      <td>(0.0, 1.0]</td>\n",
       "      <td>(0.0, 40.0]</td>\n",
       "      <td>(24000.0, 35000.0]</td>\n",
       "      <td>(24000.0, 35000.0]</td>\n",
       "      <td>(24000.0, 35000.0]</td>\n",
       "      <td>(14.33, 15.99]</td>\n",
       "      <td>(531.08, 687.42]</td>\n",
       "      <td>(58000.0, 70000.0]</td>\n",
       "      <td>(15.31, 18.45]</td>\n",
       "      <td>(8.0, 10.0]</td>\n",
       "      <td>(18668.0, 27400.0]</td>\n",
       "      <td>(52.8, 62.4]</td>\n",
       "      <td>(18.0, 22.0]</td>\n",
       "      <td>(81398.5, 163951.71]</td>\n",
       "      <td>(31400.0, 46400.0]</td>\n",
       "      <td>(287.0, 854.0]</td>\n",
       "      <td>(0.0, 20.0]</td>\n",
       "      <td>(0.0, 5.0]</td>\n",
       "      <td>(0.0, 9152545.0]</td>\n",
       "      <td>(0.0, 1.0]</td>\n",
       "      <td>(0.0, 1.0]</td>\n",
       "      <td>(0.0, 40.0]</td>\n",
       "      <td>(25000.0, 35000.0]</td>\n",
       "      <td>(25000.0, 35000.0]</td>\n",
       "      <td>(24975.0, 35000.0]</td>\n",
       "      <td>(14.99, 16.49]</td>\n",
       "      <td>(565.62, 721.11]</td>\n",
       "      <td>(54000.0, 63000.0]</td>\n",
       "      <td>(16.87, 19.65]</td>\n",
       "      <td>(9.0, 10.0]</td>\n",
       "      <td>(20324.0, 29077.0]</td>\n",
       "      <td>(57.6, 66.0]</td>\n",
       "      <td>(20.0, 23.0]</td>\n",
       "      <td>(110652.0, 184569.0]</td>\n",
       "      <td>(34300.0, 49400.0]</td>\n",
       "      <td>(298.0, 854.0]</td>\n",
       "      <td>(0.0, 20.0]</td>\n",
       "      <td>(0.0, 5.0]</td>\n",
       "      <td>(0.0, 9152545.0]</td>\n",
       "      <td>(0.0, 1.0]</td>\n",
       "      <td>(0.0, 1.0]</td>\n",
       "      <td>(0.0, 1.0]</td>\n",
       "      <td>(25000.0, 35000.0]</td>\n",
       "      <td>(25000.0, 35000.0]</td>\n",
       "      <td>(25000.0, 35000.0]</td>\n",
       "      <td>(15.59, 17.1]</td>\n",
       "      <td>(595.76, 750.28]</td>\n",
       "      <td>(60000.0, 67500.0]</td>\n",
       "      <td>(18.09, 20.64]</td>\n",
       "      <td>(9.0, 10.0]</td>\n",
       "      <td>(16775.0, 21819.0]</td>\n",
       "      <td>(53.9, 61.3]</td>\n",
       "      <td>(19.0, 22.0]</td>\n",
       "      <td>(81398.5, 136364.33]</td>\n",
       "      <td>(36900.0, 52100.0]</td>\n",
       "      <td>(307.0, 854.0]</td>\n",
       "      <td>(0.0, 20.0]</td>\n",
       "      <td>(0.0, 5.0]</td>\n",
       "      <td>(0.0, 9152545.0]</td>\n",
       "      <td>(0.0, 1.0]</td>\n",
       "      <td>(0.0, 1.0]</td>\n",
       "      <td>(0.0, 1.0]</td>\n",
       "      <td>(26000.0, 35000.0]</td>\n",
       "      <td>(26000.0, 35000.0]</td>\n",
       "      <td>(26000.0, 35000.0]</td>\n",
       "      <td>(15.8, 17.57]</td>\n",
       "      <td>(621.95, 773.3]</td>\n",
       "      <td>(55000.0, 63000.0]</td>\n",
       "      <td>(16.87, 19.09]</td>\n",
       "      <td>(9.0, 10.0]</td>\n",
       "      <td>(18071.6, 23151.0]</td>\n",
       "      <td>(57.6, 64.3]</td>\n",
       "      <td>(18.0, 21.0]</td>\n",
       "      <td>(95242.0, 155588.6]</td>\n",
       "      <td>(30300.0, 39200.0]</td>\n",
       "      <td>(315.0, 854.0]</td>\n",
       "      <td>(0.0, 20.0]</td>\n",
       "      <td>(0.0, 5.0]</td>\n",
       "      <td>(60.0, 9152545.0]</td>\n",
       "      <td>(0.0, 1.0]</td>\n",
       "      <td>(0.0, 1.0]</td>\n",
       "      <td>(0.0, 1.0]</td>\n",
       "      <td>60</td>\n",
       "      <td>C</td>\n",
       "      <td>missing</td>\n",
       "      <td>MORTGAGE</td>\n",
       "      <td>Verified</td>\n",
       "      <td>n</td>\n",
       "      <td>debt_consolidation</td>\n",
       "      <td>VA</td>\n",
       "      <td>f</td>\n",
       "      <td>missing</td>\n",
       "      <td>missing</td>\n",
       "      <td>missing</td>\n",
       "      <td>0</td>\n",
       "      <td>-0.299430</td>\n",
       "      <td>-0.057243</td>\n",
       "      <td>-0.199396</td>\n",
       "      <td>0.142412</td>\n",
       "      <td>-0.172476</td>\n",
       "      <td>0.000077</td>\n",
       "      <td>-0.037868</td>\n",
       "      <td>NaN</td>\n",
       "      <td>-0.109223</td>\n",
       "      <td>-0.026197</td>\n",
       "      <td>-0.021330</td>\n",
       "      <td>-0.011924</td>\n",
       "      <td>-0.119774</td>\n",
       "      <td>-0.031101</td>\n",
       "      <td>-0.103529</td>\n",
       "      <td>-0.083773</td>\n",
       "      <td>0.012747</td>\n",
       "      <td>0.110170</td>\n",
       "      <td>-0.058078</td>\n",
       "      <td>-0.017416</td>\n",
       "      <td>-0.160867</td>\n",
       "      <td>0.341366</td>\n",
       "      <td>0.229679</td>\n",
       "      <td>0.0</td>\n",
       "      <td>0.0</td>\n",
       "      <td>0.0</td>\n",
       "      <td>0.0</td>\n",
       "      <td>0.194658</td>\n",
       "      <td>0.0</td>\n",
       "      <td>-0.047232</td>\n",
       "      <td>-0.042371</td>\n",
       "      <td>-0.032549</td>\n",
       "      <td>-0.212975</td>\n",
       "      <td>-0.026974</td>\n",
       "      <td>-0.027548</td>\n",
       "      <td>0.019120</td>\n",
       "      <td>-0.027064</td>\n",
       "      <td>-0.020506</td>\n",
       "      <td>0.005155</td>\n",
       "      <td>-0.040493</td>\n",
       "      <td>0.101456</td>\n",
       "      <td>0.084861</td>\n",
       "      <td>0.232248</td>\n",
       "      <td>0.0</td>\n",
       "      <td>0.0</td>\n",
       "      <td>0.0</td>\n",
       "      <td>0.0</td>\n",
       "      <td>0.194658</td>\n",
       "      <td>0.0</td>\n",
       "      <td>-0.045179</td>\n",
       "      <td>-0.036673</td>\n",
       "      <td>-0.027658</td>\n",
       "      <td>-0.316359</td>\n",
       "      <td>-0.058961</td>\n",
       "      <td>-0.077246</td>\n",
       "      <td>-0.052727</td>\n",
       "      <td>-0.010089</td>\n",
       "      <td>0.001327</td>\n",
       "      <td>-0.054397</td>\n",
       "      <td>-0.026293</td>\n",
       "      <td>-0.245094</td>\n",
       "      <td>0.140115</td>\n",
       "      <td>0.238194</td>\n",
       "      <td>0.0</td>\n",
       "      <td>0.0</td>\n",
       "      <td>0.0</td>\n",
       "      <td>0.002178</td>\n",
       "      <td>0.194658</td>\n",
       "      <td>0.0</td>\n",
       "      <td>-0.039413</td>\n",
       "      <td>-0.030717</td>\n",
       "      <td>-0.018570</td>\n",
       "      <td>-0.124029</td>\n",
       "      <td>-0.046279</td>\n",
       "      <td>-0.021160</td>\n",
       "      <td>0.016665</td>\n",
       "      <td>0.012747</td>\n",
       "      <td>0.031473</td>\n",
       "      <td>-0.004162</td>\n",
       "      <td>-0.031572</td>\n",
       "      <td>-0.194889</td>\n",
       "      <td>0.181430</td>\n",
       "      <td>0.254173</td>\n",
       "      <td>0.0</td>\n",
       "      <td>0.0</td>\n",
       "      <td>0.0</td>\n",
       "      <td>0.002178</td>\n",
       "      <td>0.194658</td>\n",
       "      <td>0.0</td>\n",
       "      <td>-0.070716</td>\n",
       "      <td>-0.061135</td>\n",
       "      <td>-0.047525</td>\n",
       "      <td>-0.191810</td>\n",
       "      <td>-0.016706</td>\n",
       "      <td>-0.082720</td>\n",
       "      <td>-0.041785</td>\n",
       "      <td>-0.010089</td>\n",
       "      <td>0.040512</td>\n",
       "      <td>-0.046892</td>\n",
       "      <td>-0.005375</td>\n",
       "      <td>0.093987</td>\n",
       "      <td>0.231673</td>\n",
       "      <td>0.257442</td>\n",
       "      <td>0.0</td>\n",
       "      <td>0.0</td>\n",
       "      <td>0.0</td>\n",
       "      <td>0.002178</td>\n",
       "      <td>0.194658</td>\n",
       "      <td>-0.009284</td>\n",
       "      <td>-0.070716</td>\n",
       "      <td>-0.061135</td>\n",
       "      <td>-0.043025</td>\n",
       "      <td>-0.241248</td>\n",
       "      <td>0.020212</td>\n",
       "      <td>-0.030927</td>\n",
       "      <td>-0.076146</td>\n",
       "      <td>-0.010089</td>\n",
       "      <td>-0.018760</td>\n",
       "      <td>-0.008716</td>\n",
       "      <td>-0.049789</td>\n",
       "      <td>-0.245094</td>\n",
       "      <td>0.251066</td>\n",
       "      <td>0.255521</td>\n",
       "      <td>0.0</td>\n",
       "      <td>0.0</td>\n",
       "      <td>0.0</td>\n",
       "      <td>0.002178</td>\n",
       "      <td>0.194658</td>\n",
       "      <td>-0.009284</td>\n",
       "      <td>-0.075422</td>\n",
       "      <td>-0.069702</td>\n",
       "      <td>-0.066238</td>\n",
       "      <td>-0.374519</td>\n",
       "      <td>0.004166</td>\n",
       "      <td>-0.074113</td>\n",
       "      <td>-0.024216</td>\n",
       "      <td>-0.010089</td>\n",
       "      <td>0.001131</td>\n",
       "      <td>-0.036471</td>\n",
       "      <td>-0.034185</td>\n",
       "      <td>0.064517</td>\n",
       "      <td>0.125626</td>\n",
       "      <td>0.252592</td>\n",
       "      <td>0.0</td>\n",
       "      <td>0.0</td>\n",
       "      <td>0.104867</td>\n",
       "      <td>0.002178</td>\n",
       "      <td>0.194658</td>\n",
       "      <td>-0.009284</td>\n",
       "      <td>-0.014101</td>\n",
       "      <td>-0.009272</td>\n",
       "      <td>-0.018471</td>\n",
       "    </tr>\n",
       "    <tr>\n",
       "      <th>2</th>\n",
       "      <td>480240</td>\n",
       "      <td>14000.0</td>\n",
       "      <td>14000.0</td>\n",
       "      <td>14000.0</td>\n",
       "      <td>13.11</td>\n",
       "      <td>472.43</td>\n",
       "      <td>73000.0</td>\n",
       "      <td>21.34</td>\n",
       "      <td>16.0</td>\n",
       "      <td>17457.0</td>\n",
       "      <td>71.3</td>\n",
       "      <td>33.0</td>\n",
       "      <td>81398.5</td>\n",
       "      <td>22900.0</td>\n",
       "      <td>114.0</td>\n",
       "      <td>0.0</td>\n",
       "      <td>0.0</td>\n",
       "      <td>0.0</td>\n",
       "      <td>0.0</td>\n",
       "      <td>0.0</td>\n",
       "      <td>0.0</td>\n",
       "      <td>(12000.0, 20000.0]</td>\n",
       "      <td>(12000.0, 20000.0]</td>\n",
       "      <td>(12000.0, 19950.0]</td>\n",
       "      <td>(10.99, 13.66]</td>\n",
       "      <td>(379.76, 565.62]</td>\n",
       "      <td>(63000.0, 88956.5]</td>\n",
       "      <td>(16.87, 22.78]</td>\n",
       "      <td>(14.0, 84.0]</td>\n",
       "      <td>(11769.0, 20324.0]</td>\n",
       "      <td>(57.6, 74.7]</td>\n",
       "      <td>(32.0, 150.0]</td>\n",
       "      <td>(81398.5, 184569.0]</td>\n",
       "      <td>(22900.0, 34300.0]</td>\n",
       "      <td>(6.0, 133.0]</td>\n",
       "      <td>(0.0, 20.0]</td>\n",
       "      <td>(0.0, 5.0]</td>\n",
       "      <td>(0.0, 9152545.0]</td>\n",
       "      <td>(0.0, 29.0]</td>\n",
       "      <td>(0.0, 1.0]</td>\n",
       "      <td>(0.0, 40.0]</td>\n",
       "      <td>(10100.0, 15000.0]</td>\n",
       "      <td>(10075.0, 15000.0]</td>\n",
       "      <td>(10000.0, 15000.0]</td>\n",
       "      <td>(12.49, 14.49]</td>\n",
       "      <td>(449.03, 621.95]</td>\n",
       "      <td>(71000.0, 95815.4]</td>\n",
       "      <td>(19.09, 24.21]</td>\n",
       "      <td>(15.0, 84.0]</td>\n",
       "      <td>(14535.0, 23151.0]</td>\n",
       "      <td>(64.3, 78.5]</td>\n",
       "      <td>(26.0, 34.0]</td>\n",
       "      <td>(69705.2, 95242.0]</td>\n",
       "      <td>(21600.0, 24200.0]</td>\n",
       "      <td>(6.0, 123.0]</td>\n",
       "      <td>(0.0, 20.0]</td>\n",
       "      <td>(0.0, 5.0]</td>\n",
       "      <td>(0.0, 9152545.0]</td>\n",
       "      <td>(0.0, 29.0]</td>\n",
       "      <td>(0.0, 1.0]</td>\n",
       "      <td>(0.0, 40.0]</td>\n",
       "      <td>(12000.0, 16675.0]</td>\n",
       "      <td>(12000.0, 16500.0]</td>\n",
       "      <td>(12000.0, 16425.0]</td>\n",
       "      <td>(11.99, 13.66]</td>\n",
       "      <td>(379.76, 494.97]</td>\n",
       "      <td>(63000.0, 78000.0]</td>\n",
       "      <td>(20.64, 25.28]</td>\n",
       "      <td>(16.0, 84.0]</td>\n",
       "      <td>(16775.0, 25447.0]</td>\n",
       "      <td>(68.8, 81.2]</td>\n",
       "      <td>(29.0, 36.0]</td>\n",
       "      <td>(81398.5, 136364.33]</td>\n",
       "      <td>(22900.0, 28100.0]</td>\n",
       "      <td>(6.0, 115.0]</td>\n",
       "      <td>(0.0, 20.0]</td>\n",
       "      <td>(0.0, 5.0]</td>\n",
       "      <td>(0.0, 9152545.0]</td>\n",
       "      <td>(0.0, 1.0]</td>\n",
       "      <td>(0.0, 1.0]</td>\n",
       "      <td>(0.0, 40.0]</td>\n",
       "      <td>(11100.0, 14950.0]</td>\n",
       "      <td>(11025.0, 14800.0]</td>\n",
       "      <td>(11000.0, 14575.0]</td>\n",
       "      <td>(12.99, 14.33]</td>\n",
       "      <td>(424.94, 531.08]</td>\n",
       "      <td>(70000.0, 84000.0]</td>\n",
       "      <td>(18.45, 21.82]</td>\n",
       "      <td>(16.0, 84.0]</td>\n",
       "      <td>(13691.0, 18668.0]</td>\n",
       "      <td>(62.4, 72.1]</td>\n",
       "      <td>(30.0, 37.0]</td>\n",
       "      <td>(81398.5, 163951.71]</td>\n",
       "      <td>(22900.0, 31400.0]</td>\n",
       "      <td>(108.0, 141.0]</td>\n",
       "      <td>(0.0, 20.0]</td>\n",
       "      <td>(0.0, 5.0]</td>\n",
       "      <td>(0.0, 9152545.0]</td>\n",
       "      <td>(0.0, 1.0]</td>\n",
       "      <td>(0.0, 1.0]</td>\n",
       "      <td>(0.0, 40.0]</td>\n",
       "      <td>(12000.0, 15250.0]</td>\n",
       "      <td>(12000.0, 15175.0]</td>\n",
       "      <td>(12000.0, 15000.0]</td>\n",
       "      <td>(12.39, 13.66]</td>\n",
       "      <td>(468.29, 565.62]</td>\n",
       "      <td>(63000.0, 74200.0]</td>\n",
       "      <td>(19.65, 22.78]</td>\n",
       "      <td>(14.0, 17.0]</td>\n",
       "      <td>(15315.0, 20324.0]</td>\n",
       "      <td>(66.0, 74.7]</td>\n",
       "      <td>(32.0, 39.0]</td>\n",
       "      <td>(81398.5, 110652.0]</td>\n",
       "      <td>(22900.0, 25500.0]</td>\n",
       "      <td>(103.0, 133.0]</td>\n",
       "      <td>(0.0, 20.0]</td>\n",
       "      <td>(0.0, 5.0]</td>\n",
       "      <td>(0.0, 9152545.0]</td>\n",
       "      <td>(0.0, 1.0]</td>\n",
       "      <td>(0.0, 1.0]</td>\n",
       "      <td>(0.0, 1.0]</td>\n",
       "      <td>(11775.0, 14075.0]</td>\n",
       "      <td>(14000.0, 16500.0]</td>\n",
       "      <td>(14000.0, 16425.0]</td>\n",
       "      <td>(12.99, 14.27]</td>\n",
       "      <td>(412.06, 494.97]</td>\n",
       "      <td>(67500.0, 78000.0]</td>\n",
       "      <td>(20.64, 23.55]</td>\n",
       "      <td>(14.0, 17.0]</td>\n",
       "      <td>(16775.0, 21819.0]</td>\n",
       "      <td>(68.8, 76.8]</td>\n",
       "      <td>(33.0, 40.0]</td>\n",
       "      <td>(81398.5, 136364.33]</td>\n",
       "      <td>(22900.0, 28100.0]</td>\n",
       "      <td>(98.0, 128.0]</td>\n",
       "      <td>(0.0, 20.0]</td>\n",
       "      <td>(0.0, 5.0]</td>\n",
       "      <td>(0.0, 9152545.0]</td>\n",
       "      <td>(0.0, 1.0]</td>\n",
       "      <td>(0.0, 1.0]</td>\n",
       "      <td>(0.0, 1.0]</td>\n",
       "      <td>(12000.0, 15000.0]</td>\n",
       "      <td>(12000.0, 15000.0]</td>\n",
       "      <td>(12000.0, 15000.0]</td>\n",
       "      <td>(12.49, 13.66]</td>\n",
       "      <td>(449.03, 517.51]</td>\n",
       "      <td>(71000.0, 81000.0]</td>\n",
       "      <td>(19.09, 21.46]</td>\n",
       "      <td>(15.0, 18.0]</td>\n",
       "      <td>(14535.0, 18071.6]</td>\n",
       "      <td>(71.1, 78.5]</td>\n",
       "      <td>(30.0, 34.0]</td>\n",
       "      <td>(81398.5, 95242.0]</td>\n",
       "      <td>(22900.0, 24200.0]</td>\n",
       "      <td>(94.0, 123.0]</td>\n",
       "      <td>(0.0, 20.0]</td>\n",
       "      <td>(0.0, 5.0]</td>\n",
       "      <td>(0.0, 60.0]</td>\n",
       "      <td>(0.0, 1.0]</td>\n",
       "      <td>(0.0, 1.0]</td>\n",
       "      <td>(0.0, 1.0]</td>\n",
       "      <td>36</td>\n",
       "      <td>C</td>\n",
       "      <td>&lt;2 years</td>\n",
       "      <td>RENT</td>\n",
       "      <td>Not Verified</td>\n",
       "      <td>n</td>\n",
       "      <td>credit_card</td>\n",
       "      <td>NJ</td>\n",
       "      <td>f</td>\n",
       "      <td>missing</td>\n",
       "      <td>missing</td>\n",
       "      <td>missing</td>\n",
       "      <td>0</td>\n",
       "      <td>0.134945</td>\n",
       "      <td>-0.057243</td>\n",
       "      <td>-0.060874</td>\n",
       "      <td>-0.160657</td>\n",
       "      <td>0.166965</td>\n",
       "      <td>0.000077</td>\n",
       "      <td>0.253952</td>\n",
       "      <td>NaN</td>\n",
       "      <td>-0.109223</td>\n",
       "      <td>-0.011184</td>\n",
       "      <td>-0.012579</td>\n",
       "      <td>-0.010646</td>\n",
       "      <td>0.288082</td>\n",
       "      <td>-0.057461</td>\n",
       "      <td>0.094585</td>\n",
       "      <td>-0.083773</td>\n",
       "      <td>0.023628</td>\n",
       "      <td>-0.025565</td>\n",
       "      <td>-0.058078</td>\n",
       "      <td>0.090949</td>\n",
       "      <td>-0.160867</td>\n",
       "      <td>-0.174856</td>\n",
       "      <td>-0.199298</td>\n",
       "      <td>0.0</td>\n",
       "      <td>0.0</td>\n",
       "      <td>0.0</td>\n",
       "      <td>0.0</td>\n",
       "      <td>0.194658</td>\n",
       "      <td>0.0</td>\n",
       "      <td>0.002677</td>\n",
       "      <td>0.000051</td>\n",
       "      <td>0.031164</td>\n",
       "      <td>0.090951</td>\n",
       "      <td>-0.063411</td>\n",
       "      <td>0.168508</td>\n",
       "      <td>-0.130506</td>\n",
       "      <td>0.025460</td>\n",
       "      <td>-0.020506</td>\n",
       "      <td>-0.088852</td>\n",
       "      <td>0.069468</td>\n",
       "      <td>-0.298238</td>\n",
       "      <td>-0.298690</td>\n",
       "      <td>-0.212823</td>\n",
       "      <td>0.0</td>\n",
       "      <td>0.0</td>\n",
       "      <td>0.0</td>\n",
       "      <td>0.0</td>\n",
       "      <td>0.194658</td>\n",
       "      <td>0.0</td>\n",
       "      <td>0.040117</td>\n",
       "      <td>0.040018</td>\n",
       "      <td>0.049156</td>\n",
       "      <td>0.215589</td>\n",
       "      <td>-0.019690</td>\n",
       "      <td>0.058225</td>\n",
       "      <td>-0.156822</td>\n",
       "      <td>0.028829</td>\n",
       "      <td>0.001327</td>\n",
       "      <td>-0.101484</td>\n",
       "      <td>0.073046</td>\n",
       "      <td>-0.245094</td>\n",
       "      <td>-0.250458</td>\n",
       "      <td>-0.220034</td>\n",
       "      <td>0.0</td>\n",
       "      <td>0.0</td>\n",
       "      <td>0.0</td>\n",
       "      <td>0.002178</td>\n",
       "      <td>0.194658</td>\n",
       "      <td>0.0</td>\n",
       "      <td>0.016343</td>\n",
       "      <td>0.016070</td>\n",
       "      <td>0.041352</td>\n",
       "      <td>0.082026</td>\n",
       "      <td>-0.041013</td>\n",
       "      <td>0.092426</td>\n",
       "      <td>-0.089595</td>\n",
       "      <td>0.028829</td>\n",
       "      <td>-0.030491</td>\n",
       "      <td>-0.059480</td>\n",
       "      <td>0.068850</td>\n",
       "      <td>-0.194889</td>\n",
       "      <td>-0.203909</td>\n",
       "      <td>-0.141158</td>\n",
       "      <td>0.0</td>\n",
       "      <td>0.0</td>\n",
       "      <td>0.0</td>\n",
       "      <td>0.002178</td>\n",
       "      <td>0.194658</td>\n",
       "      <td>0.0</td>\n",
       "      <td>0.078654</td>\n",
       "      <td>0.080082</td>\n",
       "      <td>0.057139</td>\n",
       "      <td>0.211943</td>\n",
       "      <td>-0.077989</td>\n",
       "      <td>0.042921</td>\n",
       "      <td>-0.124339</td>\n",
       "      <td>0.018625</td>\n",
       "      <td>-0.031638</td>\n",
       "      <td>-0.069280</td>\n",
       "      <td>0.088802</td>\n",
       "      <td>-0.298195</td>\n",
       "      <td>-0.303893</td>\n",
       "      <td>-0.134980</td>\n",
       "      <td>0.0</td>\n",
       "      <td>0.0</td>\n",
       "      <td>0.0</td>\n",
       "      <td>0.002178</td>\n",
       "      <td>0.194658</td>\n",
       "      <td>-0.009284</td>\n",
       "      <td>0.074978</td>\n",
       "      <td>0.015895</td>\n",
       "      <td>0.034177</td>\n",
       "      <td>0.085978</td>\n",
       "      <td>-0.044176</td>\n",
       "      <td>0.079070</td>\n",
       "      <td>-0.143999</td>\n",
       "      <td>0.018625</td>\n",
       "      <td>-0.018760</td>\n",
       "      <td>-0.081881</td>\n",
       "      <td>0.088159</td>\n",
       "      <td>-0.245094</td>\n",
       "      <td>-0.250458</td>\n",
       "      <td>-0.130211</td>\n",
       "      <td>0.0</td>\n",
       "      <td>0.0</td>\n",
       "      <td>0.0</td>\n",
       "      <td>0.002178</td>\n",
       "      <td>0.194658</td>\n",
       "      <td>-0.009284</td>\n",
       "      <td>0.055543</td>\n",
       "      <td>0.055747</td>\n",
       "      <td>0.057139</td>\n",
       "      <td>0.201762</td>\n",
       "      <td>0.004291</td>\n",
       "      <td>0.101636</td>\n",
       "      <td>-0.099042</td>\n",
       "      <td>0.011947</td>\n",
       "      <td>-0.041783</td>\n",
       "      <td>-0.093938</td>\n",
       "      <td>0.067797</td>\n",
       "      <td>-0.340460</td>\n",
       "      <td>-0.344655</td>\n",
       "      <td>-0.142774</td>\n",
       "      <td>0.0</td>\n",
       "      <td>0.0</td>\n",
       "      <td>-0.011181</td>\n",
       "      <td>0.002178</td>\n",
       "      <td>0.194658</td>\n",
       "      <td>-0.009284</td>\n",
       "      <td>-0.014101</td>\n",
       "      <td>-0.009272</td>\n",
       "      <td>-0.018471</td>\n",
       "    </tr>\n",
       "    <tr>\n",
       "      <th>3</th>\n",
       "      <td>12175000</td>\n",
       "      <td>15000.0</td>\n",
       "      <td>15000.0</td>\n",
       "      <td>15000.0</td>\n",
       "      <td>15.31</td>\n",
       "      <td>359.30</td>\n",
       "      <td>50000.0</td>\n",
       "      <td>32.48</td>\n",
       "      <td>26.0</td>\n",
       "      <td>16950.0</td>\n",
       "      <td>54.2</td>\n",
       "      <td>42.0</td>\n",
       "      <td>51457.0</td>\n",
       "      <td>31300.0</td>\n",
       "      <td>120.0</td>\n",
       "      <td>0.0</td>\n",
       "      <td>0.0</td>\n",
       "      <td>0.0</td>\n",
       "      <td>2.0</td>\n",
       "      <td>1.0</td>\n",
       "      <td>0.0</td>\n",
       "      <td>(12000.0, 20000.0]</td>\n",
       "      <td>(12000.0, 20000.0]</td>\n",
       "      <td>(12000.0, 19950.0]</td>\n",
       "      <td>(13.66, 16.49]</td>\n",
       "      <td>(256.88, 379.76]</td>\n",
       "      <td>(45000.0, 63000.0]</td>\n",
       "      <td>(22.78, 39.99]</td>\n",
       "      <td>(14.0, 84.0]</td>\n",
       "      <td>(11769.0, 20324.0]</td>\n",
       "      <td>(39.2, 57.6]</td>\n",
       "      <td>(32.0, 150.0]</td>\n",
       "      <td>(33597.0, 81398.5]</td>\n",
       "      <td>(22900.0, 34300.0]</td>\n",
       "      <td>(6.0, 133.0]</td>\n",
       "      <td>(0.0, 20.0]</td>\n",
       "      <td>(0.0, 5.0]</td>\n",
       "      <td>(0.0, 9152545.0]</td>\n",
       "      <td>(0.0, 29.0]</td>\n",
       "      <td>(1.0, 28.0]</td>\n",
       "      <td>(0.0, 40.0]</td>\n",
       "      <td>(15000.0, 21000.0]</td>\n",
       "      <td>(15000.0, 20950.0]</td>\n",
       "      <td>(15000.0, 20800.0]</td>\n",
       "      <td>(14.49, 17.57]</td>\n",
       "      <td>(332.1, 449.03]</td>\n",
       "      <td>(41600.0, 55000.0]</td>\n",
       "      <td>(24.21, 39.99]</td>\n",
       "      <td>(15.0, 84.0]</td>\n",
       "      <td>(14535.0, 23151.0]</td>\n",
       "      <td>(50.8, 64.3]</td>\n",
       "      <td>(34.0, 150.0]</td>\n",
       "      <td>(27130.0, 69705.2]</td>\n",
       "      <td>(24200.0, 39200.0]</td>\n",
       "      <td>(6.0, 123.0]</td>\n",
       "      <td>(0.0, 20.0]</td>\n",
       "      <td>(0.0, 5.0]</td>\n",
       "      <td>(0.0, 9152545.0]</td>\n",
       "      <td>(0.0, 29.0]</td>\n",
       "      <td>(1.0, 2.0]</td>\n",
       "      <td>(0.0, 40.0]</td>\n",
       "      <td>(12000.0, 16675.0]</td>\n",
       "      <td>(12000.0, 16500.0]</td>\n",
       "      <td>(12000.0, 16425.0]</td>\n",
       "      <td>(13.66, 15.59]</td>\n",
       "      <td>(300.61, 379.76]</td>\n",
       "      <td>(50000.0, 63000.0]</td>\n",
       "      <td>(25.28, 39.99]</td>\n",
       "      <td>(16.0, 84.0]</td>\n",
       "      <td>(16775.0, 25447.0]</td>\n",
       "      <td>(46.0, 57.6]</td>\n",
       "      <td>(36.0, 150.0]</td>\n",
       "      <td>(48556.33, 81398.5]</td>\n",
       "      <td>(28100.0, 43100.0]</td>\n",
       "      <td>(115.0, 149.0]</td>\n",
       "      <td>(0.0, 20.0]</td>\n",
       "      <td>(0.0, 5.0]</td>\n",
       "      <td>(0.0, 9152545.0]</td>\n",
       "      <td>(1.0, 29.0]</td>\n",
       "      <td>(1.0, 2.0]</td>\n",
       "      <td>(0.0, 40.0]</td>\n",
       "      <td>(14950.0, 18000.0]</td>\n",
       "      <td>(14800.0, 18000.0]</td>\n",
       "      <td>(14575.0, 18000.0]</td>\n",
       "      <td>(14.33, 15.99]</td>\n",
       "      <td>(342.22, 424.94]</td>\n",
       "      <td>(48000.0, 58000.0]</td>\n",
       "      <td>(26.18, 39.99]</td>\n",
       "      <td>(16.0, 84.0]</td>\n",
       "      <td>(13691.0, 18668.0]</td>\n",
       "      <td>(52.8, 62.4]</td>\n",
       "      <td>(37.0, 150.0]</td>\n",
       "      <td>(39079.0, 81398.5]</td>\n",
       "      <td>(22900.0, 31400.0]</td>\n",
       "      <td>(108.0, 141.0]</td>\n",
       "      <td>(0.0, 20.0]</td>\n",
       "      <td>(0.0, 5.0]</td>\n",
       "      <td>(0.0, 9152545.0]</td>\n",
       "      <td>(1.0, 29.0]</td>\n",
       "      <td>(1.0, 2.0]</td>\n",
       "      <td>(0.0, 40.0]</td>\n",
       "      <td>(12000.0, 15250.0]</td>\n",
       "      <td>(12000.0, 15175.0]</td>\n",
       "      <td>(15000.0, 19950.0]</td>\n",
       "      <td>(14.99, 16.49]</td>\n",
       "      <td>(321.13, 379.76]</td>\n",
       "      <td>(45000.0, 54000.0]</td>\n",
       "      <td>(26.89, 39.99]</td>\n",
       "      <td>(17.0, 84.0]</td>\n",
       "      <td>(15315.0, 20324.0]</td>\n",
       "      <td>(49.0, 57.6]</td>\n",
       "      <td>(39.0, 150.0]</td>\n",
       "      <td>(33597.0, 60137.75]</td>\n",
       "      <td>(25500.0, 34300.0]</td>\n",
       "      <td>(103.0, 133.0]</td>\n",
       "      <td>(0.0, 20.0]</td>\n",
       "      <td>(0.0, 5.0]</td>\n",
       "      <td>(0.0, 9152545.0]</td>\n",
       "      <td>(1.0, 29.0]</td>\n",
       "      <td>(1.0, 2.0]</td>\n",
       "      <td>(0.0, 1.0]</td>\n",
       "      <td>(14075.0, 16675.0]</td>\n",
       "      <td>(14000.0, 16500.0]</td>\n",
       "      <td>(14000.0, 16425.0]</td>\n",
       "      <td>(14.27, 15.59]</td>\n",
       "      <td>(349.29, 412.06]</td>\n",
       "      <td>(50000.0, 60000.0]</td>\n",
       "      <td>(27.49, 39.99]</td>\n",
       "      <td>(17.0, 84.0]</td>\n",
       "      <td>(16775.0, 21819.0]</td>\n",
       "      <td>(53.9, 61.3]</td>\n",
       "      <td>(40.0, 150.0]</td>\n",
       "      <td>(48556.33, 81398.5]</td>\n",
       "      <td>(28100.0, 36900.0]</td>\n",
       "      <td>(98.0, 128.0]</td>\n",
       "      <td>(0.0, 20.0]</td>\n",
       "      <td>(0.0, 5.0]</td>\n",
       "      <td>(0.0, 9152545.0]</td>\n",
       "      <td>(1.0, 29.0]</td>\n",
       "      <td>(1.0, 2.0]</td>\n",
       "      <td>(0.0, 1.0]</td>\n",
       "      <td>(15000.0, 18000.0]</td>\n",
       "      <td>(15000.0, 18000.0]</td>\n",
       "      <td>(15000.0, 18000.0]</td>\n",
       "      <td>(14.49, 15.8]</td>\n",
       "      <td>(332.1, 379.76]</td>\n",
       "      <td>(49000.0, 55000.0]</td>\n",
       "      <td>(28.0, 39.99]</td>\n",
       "      <td>(18.0, 84.0]</td>\n",
       "      <td>(14535.0, 18071.6]</td>\n",
       "      <td>(50.8, 57.6]</td>\n",
       "      <td>(41.0, 150.0]</td>\n",
       "      <td>(41574.8, 69705.2]</td>\n",
       "      <td>(30300.0, 39200.0]</td>\n",
       "      <td>(94.0, 123.0]</td>\n",
       "      <td>(0.0, 20.0]</td>\n",
       "      <td>(0.0, 5.0]</td>\n",
       "      <td>(0.0, 60.0]</td>\n",
       "      <td>(1.0, 29.0]</td>\n",
       "      <td>(1.0, 2.0]</td>\n",
       "      <td>(0.0, 1.0]</td>\n",
       "      <td>60</td>\n",
       "      <td>C</td>\n",
       "      <td>2-4 years</td>\n",
       "      <td>RENT</td>\n",
       "      <td>Verified</td>\n",
       "      <td>n</td>\n",
       "      <td>debt_consolidation</td>\n",
       "      <td>AL</td>\n",
       "      <td>f</td>\n",
       "      <td>(0.0, 16.0]</td>\n",
       "      <td>missing</td>\n",
       "      <td>missing</td>\n",
       "      <td>0</td>\n",
       "      <td>-0.299430</td>\n",
       "      <td>-0.057243</td>\n",
       "      <td>-0.004173</td>\n",
       "      <td>-0.160657</td>\n",
       "      <td>-0.172476</td>\n",
       "      <td>0.000077</td>\n",
       "      <td>-0.037868</td>\n",
       "      <td>NaN</td>\n",
       "      <td>-0.109223</td>\n",
       "      <td>-0.011184</td>\n",
       "      <td>-0.012579</td>\n",
       "      <td>-0.010646</td>\n",
       "      <td>-0.119774</td>\n",
       "      <td>0.008713</td>\n",
       "      <td>-0.103529</td>\n",
       "      <td>-0.193200</td>\n",
       "      <td>0.023628</td>\n",
       "      <td>-0.025565</td>\n",
       "      <td>0.068458</td>\n",
       "      <td>0.090949</td>\n",
       "      <td>-0.039847</td>\n",
       "      <td>-0.174856</td>\n",
       "      <td>-0.199298</td>\n",
       "      <td>0.0</td>\n",
       "      <td>0.0</td>\n",
       "      <td>0.0</td>\n",
       "      <td>0.0</td>\n",
       "      <td>-0.180368</td>\n",
       "      <td>0.0</td>\n",
       "      <td>-0.031599</td>\n",
       "      <td>-0.032500</td>\n",
       "      <td>-0.029752</td>\n",
       "      <td>-0.212975</td>\n",
       "      <td>-0.040687</td>\n",
       "      <td>-0.139198</td>\n",
       "      <td>-0.202504</td>\n",
       "      <td>0.025460</td>\n",
       "      <td>-0.020506</td>\n",
       "      <td>0.005155</td>\n",
       "      <td>0.092632</td>\n",
       "      <td>-0.056675</td>\n",
       "      <td>0.084861</td>\n",
       "      <td>-0.212823</td>\n",
       "      <td>0.0</td>\n",
       "      <td>0.0</td>\n",
       "      <td>0.0</td>\n",
       "      <td>0.0</td>\n",
       "      <td>-0.057666</td>\n",
       "      <td>0.0</td>\n",
       "      <td>0.040117</td>\n",
       "      <td>0.040018</td>\n",
       "      <td>0.049156</td>\n",
       "      <td>-0.058487</td>\n",
       "      <td>0.017377</td>\n",
       "      <td>-0.077246</td>\n",
       "      <td>-0.204710</td>\n",
       "      <td>0.028829</td>\n",
       "      <td>0.001327</td>\n",
       "      <td>0.050351</td>\n",
       "      <td>0.091224</td>\n",
       "      <td>-0.024558</td>\n",
       "      <td>0.140115</td>\n",
       "      <td>-0.136729</td>\n",
       "      <td>0.0</td>\n",
       "      <td>0.0</td>\n",
       "      <td>0.0</td>\n",
       "      <td>-0.009944</td>\n",
       "      <td>-0.057666</td>\n",
       "      <td>0.0</td>\n",
       "      <td>-0.024042</td>\n",
       "      <td>-0.028337</td>\n",
       "      <td>-0.037289</td>\n",
       "      <td>-0.124029</td>\n",
       "      <td>-0.050149</td>\n",
       "      <td>-0.091369</td>\n",
       "      <td>-0.214926</td>\n",
       "      <td>0.028829</td>\n",
       "      <td>-0.030491</td>\n",
       "      <td>-0.004162</td>\n",
       "      <td>0.100480</td>\n",
       "      <td>-0.035040</td>\n",
       "      <td>-0.203909</td>\n",
       "      <td>-0.141158</td>\n",
       "      <td>0.0</td>\n",
       "      <td>0.0</td>\n",
       "      <td>0.0</td>\n",
       "      <td>-0.009944</td>\n",
       "      <td>-0.057666</td>\n",
       "      <td>0.0</td>\n",
       "      <td>0.078654</td>\n",
       "      <td>0.080082</td>\n",
       "      <td>-0.059875</td>\n",
       "      <td>-0.191810</td>\n",
       "      <td>-0.022566</td>\n",
       "      <td>-0.122244</td>\n",
       "      <td>-0.214026</td>\n",
       "      <td>0.028600</td>\n",
       "      <td>-0.031638</td>\n",
       "      <td>0.048580</td>\n",
       "      <td>0.093151</td>\n",
       "      <td>-0.052563</td>\n",
       "      <td>0.058616</td>\n",
       "      <td>-0.134980</td>\n",
       "      <td>0.0</td>\n",
       "      <td>0.0</td>\n",
       "      <td>0.0</td>\n",
       "      <td>-0.009944</td>\n",
       "      <td>-0.057666</td>\n",
       "      <td>-0.009284</td>\n",
       "      <td>-0.002722</td>\n",
       "      <td>0.015895</td>\n",
       "      <td>0.034177</td>\n",
       "      <td>-0.081116</td>\n",
       "      <td>-0.011679</td>\n",
       "      <td>-0.077520</td>\n",
       "      <td>-0.213725</td>\n",
       "      <td>0.028600</td>\n",
       "      <td>-0.018760</td>\n",
       "      <td>-0.008716</td>\n",
       "      <td>0.089764</td>\n",
       "      <td>-0.024558</td>\n",
       "      <td>0.099518</td>\n",
       "      <td>-0.130211</td>\n",
       "      <td>0.0</td>\n",
       "      <td>0.0</td>\n",
       "      <td>0.0</td>\n",
       "      <td>-0.009944</td>\n",
       "      <td>-0.057666</td>\n",
       "      <td>-0.009284</td>\n",
       "      <td>-0.023551</td>\n",
       "      <td>-0.026861</td>\n",
       "      <td>-0.034785</td>\n",
       "      <td>-0.049737</td>\n",
       "      <td>-0.040919</td>\n",
       "      <td>-0.086492</td>\n",
       "      <td>-0.215073</td>\n",
       "      <td>0.039535</td>\n",
       "      <td>-0.041783</td>\n",
       "      <td>0.048740</td>\n",
       "      <td>0.082880</td>\n",
       "      <td>-0.060001</td>\n",
       "      <td>0.125626</td>\n",
       "      <td>-0.142774</td>\n",
       "      <td>0.0</td>\n",
       "      <td>0.0</td>\n",
       "      <td>-0.011181</td>\n",
       "      <td>-0.009944</td>\n",
       "      <td>-0.057666</td>\n",
       "      <td>-0.009284</td>\n",
       "      <td>-0.034197</td>\n",
       "      <td>-0.009272</td>\n",
       "      <td>-0.018471</td>\n",
       "    </tr>\n",
       "    <tr>\n",
       "      <th>4</th>\n",
       "      <td>1457987</td>\n",
       "      <td>8700.0</td>\n",
       "      <td>8700.0</td>\n",
       "      <td>8700.0</td>\n",
       "      <td>8.90</td>\n",
       "      <td>276.26</td>\n",
       "      <td>28500.0</td>\n",
       "      <td>14.03</td>\n",
       "      <td>7.0</td>\n",
       "      <td>3819.0</td>\n",
       "      <td>42.4</td>\n",
       "      <td>15.0</td>\n",
       "      <td>81398.5</td>\n",
       "      <td>22900.0</td>\n",
       "      <td>221.0</td>\n",
       "      <td>0.0</td>\n",
       "      <td>0.0</td>\n",
       "      <td>0.0</td>\n",
       "      <td>0.0</td>\n",
       "      <td>0.0</td>\n",
       "      <td>0.0</td>\n",
       "      <td>(8000.0, 12000.0]</td>\n",
       "      <td>(8000.0, 12000.0]</td>\n",
       "      <td>(8000.0, 12000.0]</td>\n",
       "      <td>(5.42, 10.99]</td>\n",
       "      <td>(256.88, 379.76]</td>\n",
       "      <td>(1896.0, 45000.0]</td>\n",
       "      <td>(11.35, 16.87]</td>\n",
       "      <td>(0.0, 8.0]</td>\n",
       "      <td>(0.0, 6413.0]</td>\n",
       "      <td>(39.2, 57.6]</td>\n",
       "      <td>(1.0, 17.0]</td>\n",
       "      <td>(81398.5, 184569.0]</td>\n",
       "      <td>(22900.0, 34300.0]</td>\n",
       "      <td>(176.0, 238.0]</td>\n",
       "      <td>(0.0, 20.0]</td>\n",
       "      <td>(0.0, 5.0]</td>\n",
       "      <td>(0.0, 9152545.0]</td>\n",
       "      <td>(0.0, 29.0]</td>\n",
       "      <td>(0.0, 1.0]</td>\n",
       "      <td>(0.0, 40.0]</td>\n",
       "      <td>(7000.0, 10100.0]</td>\n",
       "      <td>(7000.0, 10075.0]</td>\n",
       "      <td>(7000.0, 10000.0]</td>\n",
       "      <td>(5.42, 9.99]</td>\n",
       "      <td>(226.4, 332.1]</td>\n",
       "      <td>(1896.0, 41600.0]</td>\n",
       "      <td>(10.1, 14.71]</td>\n",
       "      <td>(7.0, 9.0]</td>\n",
       "      <td>(0.0, 5447.0]</td>\n",
       "      <td>(34.8, 50.8]</td>\n",
       "      <td>(15.0, 21.0]</td>\n",
       "      <td>(69705.2, 95242.0]</td>\n",
       "      <td>(21600.0, 24200.0]</td>\n",
       "      <td>(197.0, 256.0]</td>\n",
       "      <td>(0.0, 20.0]</td>\n",
       "      <td>(0.0, 5.0]</td>\n",
       "      <td>(0.0, 9152545.0]</td>\n",
       "      <td>(0.0, 29.0]</td>\n",
       "      <td>(0.0, 1.0]</td>\n",
       "      <td>(0.0, 40.0]</td>\n",
       "      <td>(6000.0, 10000.0]</td>\n",
       "      <td>(6000.0, 10000.0]</td>\n",
       "      <td>(6000.0, 9900.0]</td>\n",
       "      <td>(5.42, 9.17]</td>\n",
       "      <td>(203.42, 300.61]</td>\n",
       "      <td>(1896.0, 40000.0]</td>\n",
       "      <td>(13.26, 16.87]</td>\n",
       "      <td>(7.0, 9.0]</td>\n",
       "      <td>(0.0, 4805.0]</td>\n",
       "      <td>(31.4, 46.0]</td>\n",
       "      <td>(14.0, 19.0]</td>\n",
       "      <td>(81398.5, 136364.33]</td>\n",
       "      <td>(22900.0, 28100.0]</td>\n",
       "      <td>(214.0, 273.0]</td>\n",
       "      <td>(0.0, 20.0]</td>\n",
       "      <td>(0.0, 5.0]</td>\n",
       "      <td>(0.0, 9152545.0]</td>\n",
       "      <td>(0.0, 1.0]</td>\n",
       "      <td>(0.0, 1.0]</td>\n",
       "      <td>(0.0, 40.0]</td>\n",
       "      <td>(6000.0, 8750.0]</td>\n",
       "      <td>(6000.0, 8725.0]</td>\n",
       "      <td>(8500.0, 11000.0]</td>\n",
       "      <td>(8.9, 11.14]</td>\n",
       "      <td>(274.71, 342.22]</td>\n",
       "      <td>(1896.0, 37500.0]</td>\n",
       "      <td>(12.19, 15.31]</td>\n",
       "      <td>(6.0, 8.0]</td>\n",
       "      <td>(0.0, 4315.0]</td>\n",
       "      <td>(42.2, 52.8]</td>\n",
       "      <td>(13.0, 18.0]</td>\n",
       "      <td>(81398.5, 163951.71]</td>\n",
       "      <td>(22900.0, 31400.0]</td>\n",
       "      <td>(190.0, 227.0]</td>\n",
       "      <td>(0.0, 20.0]</td>\n",
       "      <td>(0.0, 5.0]</td>\n",
       "      <td>(0.0, 9152545.0]</td>\n",
       "      <td>(0.0, 1.0]</td>\n",
       "      <td>(0.0, 1.0]</td>\n",
       "      <td>(0.0, 40.0]</td>\n",
       "      <td>(8000.0, 10000.0]</td>\n",
       "      <td>(8000.0, 10000.0]</td>\n",
       "      <td>(8000.0, 10000.0]</td>\n",
       "      <td>(8.39, 10.99]</td>\n",
       "      <td>(256.88, 321.13]</td>\n",
       "      <td>(1896.0, 35985.0]</td>\n",
       "      <td>(11.35, 14.17]</td>\n",
       "      <td>(6.0, 8.0]</td>\n",
       "      <td>(0.0, 3944.0]</td>\n",
       "      <td>(39.2, 49.0]</td>\n",
       "      <td>(13.0, 17.0]</td>\n",
       "      <td>(81398.5, 110652.0]</td>\n",
       "      <td>(22900.0, 25500.0]</td>\n",
       "      <td>(203.0, 238.0]</td>\n",
       "      <td>(0.0, 20.0]</td>\n",
       "      <td>(0.0, 5.0]</td>\n",
       "      <td>(0.0, 9152545.0]</td>\n",
       "      <td>(0.0, 1.0]</td>\n",
       "      <td>(0.0, 1.0]</td>\n",
       "      <td>(0.0, 1.0]</td>\n",
       "      <td>(7450.0, 10000.0]</td>\n",
       "      <td>(7397.22, 10000.0]</td>\n",
       "      <td>(7200.0, 9900.0]</td>\n",
       "      <td>(7.9, 10.16]</td>\n",
       "      <td>(240.92, 300.61]</td>\n",
       "      <td>(1896.0, 35000.0]</td>\n",
       "      <td>(13.26, 15.66]</td>\n",
       "      <td>(7.0, 9.0]</td>\n",
       "      <td>(3640.0, 5878.0]</td>\n",
       "      <td>(36.8, 46.0]</td>\n",
       "      <td>(12.0, 16.0]</td>\n",
       "      <td>(81398.5, 136364.33]</td>\n",
       "      <td>(22900.0, 28100.0]</td>\n",
       "      <td>(214.0, 247.0]</td>\n",
       "      <td>(0.0, 20.0]</td>\n",
       "      <td>(0.0, 5.0]</td>\n",
       "      <td>(0.0, 9152545.0]</td>\n",
       "      <td>(0.0, 1.0]</td>\n",
       "      <td>(0.0, 1.0]</td>\n",
       "      <td>(0.0, 1.0]</td>\n",
       "      <td>(7000.0, 9000.0]</td>\n",
       "      <td>(7000.0, 9000.0]</td>\n",
       "      <td>(7000.0, 9000.0]</td>\n",
       "      <td>(7.9, 9.99]</td>\n",
       "      <td>(226.4, 282.05]</td>\n",
       "      <td>(1896.0, 34000.0]</td>\n",
       "      <td>(12.52, 14.71]</td>\n",
       "      <td>(7.0, 8.0]</td>\n",
       "      <td>(3389.0, 5447.0]</td>\n",
       "      <td>(34.8, 43.4]</td>\n",
       "      <td>(15.0, 18.0]</td>\n",
       "      <td>(81398.5, 95242.0]</td>\n",
       "      <td>(22900.0, 24200.0]</td>\n",
       "      <td>(197.0, 223.0]</td>\n",
       "      <td>(0.0, 20.0]</td>\n",
       "      <td>(0.0, 5.0]</td>\n",
       "      <td>(0.0, 60.0]</td>\n",
       "      <td>(0.0, 1.0]</td>\n",
       "      <td>(0.0, 1.0]</td>\n",
       "      <td>(0.0, 1.0]</td>\n",
       "      <td>36</td>\n",
       "      <td>A</td>\n",
       "      <td>5-9 years</td>\n",
       "      <td>MORTGAGE</td>\n",
       "      <td>Not Verified</td>\n",
       "      <td>n</td>\n",
       "      <td>debt_consolidation</td>\n",
       "      <td>MI</td>\n",
       "      <td>f</td>\n",
       "      <td>missing</td>\n",
       "      <td>missing</td>\n",
       "      <td>missing</td>\n",
       "      <td>0</td>\n",
       "      <td>0.134945</td>\n",
       "      <td>1.113050</td>\n",
       "      <td>-0.046771</td>\n",
       "      <td>0.142412</td>\n",
       "      <td>0.166965</td>\n",
       "      <td>0.000077</td>\n",
       "      <td>-0.037868</td>\n",
       "      <td>NaN</td>\n",
       "      <td>-0.109223</td>\n",
       "      <td>-0.008439</td>\n",
       "      <td>-0.011719</td>\n",
       "      <td>-0.002868</td>\n",
       "      <td>0.915586</td>\n",
       "      <td>0.008713</td>\n",
       "      <td>-0.268596</td>\n",
       "      <td>0.098088</td>\n",
       "      <td>-0.012062</td>\n",
       "      <td>-0.037577</td>\n",
       "      <td>0.068458</td>\n",
       "      <td>-0.108187</td>\n",
       "      <td>-0.160867</td>\n",
       "      <td>-0.174856</td>\n",
       "      <td>0.077670</td>\n",
       "      <td>0.0</td>\n",
       "      <td>0.0</td>\n",
       "      <td>0.0</td>\n",
       "      <td>0.0</td>\n",
       "      <td>0.194658</td>\n",
       "      <td>0.0</td>\n",
       "      <td>0.031813</td>\n",
       "      <td>0.031926</td>\n",
       "      <td>0.011969</td>\n",
       "      <td>1.052682</td>\n",
       "      <td>0.068712</td>\n",
       "      <td>-0.281745</td>\n",
       "      <td>0.131136</td>\n",
       "      <td>0.013947</td>\n",
       "      <td>-0.039502</td>\n",
       "      <td>0.103861</td>\n",
       "      <td>-0.040493</td>\n",
       "      <td>-0.298238</td>\n",
       "      <td>-0.298690</td>\n",
       "      <td>0.123368</td>\n",
       "      <td>0.0</td>\n",
       "      <td>0.0</td>\n",
       "      <td>0.0</td>\n",
       "      <td>0.0</td>\n",
       "      <td>0.194658</td>\n",
       "      <td>0.0</td>\n",
       "      <td>0.048538</td>\n",
       "      <td>0.047048</td>\n",
       "      <td>0.054484</td>\n",
       "      <td>1.122048</td>\n",
       "      <td>0.053649</td>\n",
       "      <td>-0.291743</td>\n",
       "      <td>0.075368</td>\n",
       "      <td>0.013947</td>\n",
       "      <td>-0.041244</td>\n",
       "      <td>0.131282</td>\n",
       "      <td>-0.041855</td>\n",
       "      <td>-0.245094</td>\n",
       "      <td>-0.250458</td>\n",
       "      <td>0.155127</td>\n",
       "      <td>0.0</td>\n",
       "      <td>0.0</td>\n",
       "      <td>0.0</td>\n",
       "      <td>0.002178</td>\n",
       "      <td>0.194658</td>\n",
       "      <td>0.0</td>\n",
       "      <td>0.088340</td>\n",
       "      <td>0.091602</td>\n",
       "      <td>-0.008278</td>\n",
       "      <td>0.611377</td>\n",
       "      <td>0.044564</td>\n",
       "      <td>-0.303816</td>\n",
       "      <td>0.102306</td>\n",
       "      <td>0.001566</td>\n",
       "      <td>-0.043193</td>\n",
       "      <td>0.071307</td>\n",
       "      <td>-0.061889</td>\n",
       "      <td>-0.194889</td>\n",
       "      <td>-0.203909</td>\n",
       "      <td>0.073834</td>\n",
       "      <td>0.0</td>\n",
       "      <td>0.0</td>\n",
       "      <td>0.0</td>\n",
       "      <td>0.002178</td>\n",
       "      <td>0.194658</td>\n",
       "      <td>0.0</td>\n",
       "      <td>-0.010860</td>\n",
       "      <td>-0.014698</td>\n",
       "      <td>-0.011347</td>\n",
       "      <td>0.673236</td>\n",
       "      <td>0.040879</td>\n",
       "      <td>-0.310980</td>\n",
       "      <td>0.117201</td>\n",
       "      <td>0.001566</td>\n",
       "      <td>-0.051686</td>\n",
       "      <td>0.088485</td>\n",
       "      <td>-0.072448</td>\n",
       "      <td>-0.298195</td>\n",
       "      <td>-0.303893</td>\n",
       "      <td>0.105714</td>\n",
       "      <td>0.0</td>\n",
       "      <td>0.0</td>\n",
       "      <td>0.0</td>\n",
       "      <td>0.002178</td>\n",
       "      <td>0.194658</td>\n",
       "      <td>-0.009284</td>\n",
       "      <td>-0.011470</td>\n",
       "      <td>-0.013695</td>\n",
       "      <td>-0.008267</td>\n",
       "      <td>0.823647</td>\n",
       "      <td>0.032672</td>\n",
       "      <td>-0.313601</td>\n",
       "      <td>0.090115</td>\n",
       "      <td>0.013947</td>\n",
       "      <td>-0.012887</td>\n",
       "      <td>0.118843</td>\n",
       "      <td>-0.072618</td>\n",
       "      <td>-0.245094</td>\n",
       "      <td>-0.250458</td>\n",
       "      <td>0.128139</td>\n",
       "      <td>0.0</td>\n",
       "      <td>0.0</td>\n",
       "      <td>0.0</td>\n",
       "      <td>0.002178</td>\n",
       "      <td>0.194658</td>\n",
       "      <td>-0.009284</td>\n",
       "      <td>0.024616</td>\n",
       "      <td>0.024342</td>\n",
       "      <td>0.031480</td>\n",
       "      <td>0.819307</td>\n",
       "      <td>0.100110</td>\n",
       "      <td>-0.319891</td>\n",
       "      <td>0.105074</td>\n",
       "      <td>-0.011392</td>\n",
       "      <td>-0.008734</td>\n",
       "      <td>0.141367</td>\n",
       "      <td>-0.047235</td>\n",
       "      <td>-0.340460</td>\n",
       "      <td>-0.344655</td>\n",
       "      <td>0.081276</td>\n",
       "      <td>0.0</td>\n",
       "      <td>0.0</td>\n",
       "      <td>-0.011181</td>\n",
       "      <td>0.002178</td>\n",
       "      <td>0.194658</td>\n",
       "      <td>-0.009284</td>\n",
       "      <td>-0.014101</td>\n",
       "      <td>-0.009272</td>\n",
       "      <td>-0.018471</td>\n",
       "    </tr>\n",
       "  </tbody>\n",
       "</table>\n",
       "</div>"
      ],
      "text/plain": [
       "         id  loan_amnt  funded_amnt  funded_amnt_inv  int_rate  installment  \\\n",
       "0   9217698     6000.0       6000.0           6000.0     13.67       204.11   \n",
       "1   5795876    27075.0      27075.0          27075.0     15.80       655.54   \n",
       "2    480240    14000.0      14000.0          14000.0     13.11       472.43   \n",
       "3  12175000    15000.0      15000.0          15000.0     15.31       359.30   \n",
       "4   1457987     8700.0       8700.0           8700.0      8.90       276.26   \n",
       "\n",
       "   annual_inc    dti  open_acc  revol_bal  revol_util  total_acc  tot_cur_bal  \\\n",
       "0     36000.0  15.20      12.0     7894.0        65.8       13.0      12871.0   \n",
       "1     60780.0  18.34       9.0    21686.0        58.1       20.0     111385.0   \n",
       "2     73000.0  21.34      16.0    17457.0        71.3       33.0      81398.5   \n",
       "3     50000.0  32.48      26.0    16950.0        54.2       42.0      51457.0   \n",
       "4     28500.0  14.03       7.0     3819.0        42.4       15.0      81398.5   \n",
       "\n",
       "   total_rev_hi_lim  mths_between_issued_earliest_cr  \\\n",
       "0           12000.0                             51.0   \n",
       "1           37300.0                            354.0   \n",
       "2           22900.0                            114.0   \n",
       "3           31300.0                            120.0   \n",
       "4           22900.0                            221.0   \n",
       "\n",
       "   collections_12_mths_ex_med  acc_now_delinq  tot_coll_amt  delinq_2yrs  \\\n",
       "0                         0.0             0.0           0.0          0.0   \n",
       "1                         0.0             0.0        1115.0          0.0   \n",
       "2                         0.0             0.0           0.0          0.0   \n",
       "3                         0.0             0.0           0.0          2.0   \n",
       "4                         0.0             0.0           0.0          0.0   \n",
       "\n",
       "   inq_last_6mths  pub_rec    disc_loan_amnt_4  disc_funded_amnt_4  \\\n",
       "0             1.0      0.0     (500.0, 8000.0]     (500.0, 8000.0]   \n",
       "1             0.0      0.0  (20000.0, 35000.0]  (20000.0, 35000.0]   \n",
       "2             0.0      0.0  (12000.0, 20000.0]  (12000.0, 20000.0]   \n",
       "3             1.0      0.0  (12000.0, 20000.0]  (12000.0, 20000.0]   \n",
       "4             0.0      0.0   (8000.0, 12000.0]   (8000.0, 12000.0]   \n",
       "\n",
       "  disc_funded_amnt_inv_4 disc_int_rate_4 disc_installment_4  \\\n",
       "0          (0.0, 8000.0]  (13.66, 16.49]    (15.67, 256.88]   \n",
       "1     (19950.0, 35000.0]  (13.66, 16.49]  (565.62, 1409.99]   \n",
       "2     (12000.0, 19950.0]  (10.99, 13.66]   (379.76, 565.62]   \n",
       "3     (12000.0, 19950.0]  (13.66, 16.49]   (256.88, 379.76]   \n",
       "4      (8000.0, 12000.0]   (5.42, 10.99]   (256.88, 379.76]   \n",
       "\n",
       "    disc_annual_inc_4      disc_dti_4 disc_open_acc_4      disc_revol_bal_4  \\\n",
       "0   (1896.0, 45000.0]  (11.35, 16.87]    (10.0, 14.0]     (6413.0, 11769.0]   \n",
       "1  (45000.0, 63000.0]  (16.87, 22.78]     (8.0, 10.0]  (20324.0, 2568995.0]   \n",
       "2  (63000.0, 88956.5]  (16.87, 22.78]    (14.0, 84.0]    (11769.0, 20324.0]   \n",
       "3  (45000.0, 63000.0]  (22.78, 39.99]    (14.0, 84.0]    (11769.0, 20324.0]   \n",
       "4   (1896.0, 45000.0]  (11.35, 16.87]      (0.0, 8.0]         (0.0, 6413.0]   \n",
       "\n",
       "  disc_revol_util_4 disc_total_acc_4   disc_tot_cur_bal_4  \\\n",
       "0      (57.6, 74.7]      (1.0, 17.0]       (0.0, 33597.0]   \n",
       "1      (57.6, 74.7]     (17.0, 23.0]  (81398.5, 184569.0]   \n",
       "2      (57.6, 74.7]    (32.0, 150.0]  (81398.5, 184569.0]   \n",
       "3      (39.2, 57.6]    (32.0, 150.0]   (33597.0, 81398.5]   \n",
       "4      (39.2, 57.6]      (1.0, 17.0]  (81398.5, 184569.0]   \n",
       "\n",
       "  disc_total_rev_hi_lim_4 disc_mths_between_issued_earliest_cr_4  \\\n",
       "0          (0.0, 15000.0]                           (6.0, 133.0]   \n",
       "1    (34300.0, 9999999.0]                         (238.0, 854.0]   \n",
       "2      (22900.0, 34300.0]                           (6.0, 133.0]   \n",
       "3      (22900.0, 34300.0]                           (6.0, 133.0]   \n",
       "4      (22900.0, 34300.0]                         (176.0, 238.0]   \n",
       "\n",
       "  disc_collections_12_mths_ex_med_4 disc_acc_now_delinq_4 disc_tot_coll_amt_4  \\\n",
       "0                       (0.0, 20.0]            (0.0, 5.0]    (0.0, 9152545.0]   \n",
       "1                       (0.0, 20.0]            (0.0, 5.0]    (0.0, 9152545.0]   \n",
       "2                       (0.0, 20.0]            (0.0, 5.0]    (0.0, 9152545.0]   \n",
       "3                       (0.0, 20.0]            (0.0, 5.0]    (0.0, 9152545.0]   \n",
       "4                       (0.0, 20.0]            (0.0, 5.0]    (0.0, 9152545.0]   \n",
       "\n",
       "  disc_delinq_2yrs_4 disc_inq_last_6mths_4 disc_pub_rec_4    disc_loan_amnt_5  \\\n",
       "0        (0.0, 29.0]           (1.0, 28.0]    (0.0, 40.0]     (500.0, 7000.0]   \n",
       "1        (0.0, 29.0]            (0.0, 1.0]    (0.0, 40.0]  (21000.0, 35000.0]   \n",
       "2        (0.0, 29.0]            (0.0, 1.0]    (0.0, 40.0]  (10100.0, 15000.0]   \n",
       "3        (0.0, 29.0]           (1.0, 28.0]    (0.0, 40.0]  (15000.0, 21000.0]   \n",
       "4        (0.0, 29.0]            (0.0, 1.0]    (0.0, 40.0]   (7000.0, 10100.0]   \n",
       "\n",
       "   disc_funded_amnt_5 disc_funded_amnt_inv_5 disc_int_rate_5  \\\n",
       "0     (500.0, 7000.0]          (0.0, 7000.0]  (12.49, 14.49]   \n",
       "1  (20950.0, 35000.0]     (20800.0, 35000.0]  (14.49, 17.57]   \n",
       "2  (10075.0, 15000.0]     (10000.0, 15000.0]  (12.49, 14.49]   \n",
       "3  (15000.0, 20950.0]     (15000.0, 20800.0]  (14.49, 17.57]   \n",
       "4   (7000.0, 10075.0]      (7000.0, 10000.0]    (5.42, 9.99]   \n",
       "\n",
       "  disc_installment_5   disc_annual_inc_5      disc_dti_5 disc_open_acc_5  \\\n",
       "0     (15.67, 226.4]   (1896.0, 41600.0]  (14.71, 19.09]    (12.0, 15.0]   \n",
       "1  (621.95, 1409.99]  (55000.0, 71000.0]  (14.71, 19.09]     (9.0, 12.0]   \n",
       "2   (449.03, 621.95]  (71000.0, 95815.4]  (19.09, 24.21]    (15.0, 84.0]   \n",
       "3    (332.1, 449.03]  (41600.0, 55000.0]  (24.21, 39.99]    (15.0, 84.0]   \n",
       "4     (226.4, 332.1]   (1896.0, 41600.0]   (10.1, 14.71]      (7.0, 9.0]   \n",
       "\n",
       "     disc_revol_bal_5 disc_revol_util_5 disc_total_acc_5   disc_tot_cur_bal_5  \\\n",
       "0    (5447.0, 9457.0]      (64.3, 78.5]      (1.0, 15.0]       (0.0, 27130.0]   \n",
       "1  (14535.0, 23151.0]      (50.8, 64.3]     (15.0, 21.0]  (95242.0, 217330.4]   \n",
       "2  (14535.0, 23151.0]      (64.3, 78.5]     (26.0, 34.0]   (69705.2, 95242.0]   \n",
       "3  (14535.0, 23151.0]      (50.8, 64.3]    (34.0, 150.0]   (27130.0, 69705.2]   \n",
       "4       (0.0, 5447.0]      (34.8, 50.8]     (15.0, 21.0]   (69705.2, 95242.0]   \n",
       "\n",
       "  disc_total_rev_hi_lim_5 disc_mths_between_issued_earliest_cr_5  \\\n",
       "0          (0.0, 13030.2]                           (6.0, 123.0]   \n",
       "1      (24200.0, 39200.0]                         (256.0, 854.0]   \n",
       "2      (21600.0, 24200.0]                           (6.0, 123.0]   \n",
       "3      (24200.0, 39200.0]                           (6.0, 123.0]   \n",
       "4      (21600.0, 24200.0]                         (197.0, 256.0]   \n",
       "\n",
       "  disc_collections_12_mths_ex_med_5 disc_acc_now_delinq_5 disc_tot_coll_amt_5  \\\n",
       "0                       (0.0, 20.0]            (0.0, 5.0]    (0.0, 9152545.0]   \n",
       "1                       (0.0, 20.0]            (0.0, 5.0]    (0.0, 9152545.0]   \n",
       "2                       (0.0, 20.0]            (0.0, 5.0]    (0.0, 9152545.0]   \n",
       "3                       (0.0, 20.0]            (0.0, 5.0]    (0.0, 9152545.0]   \n",
       "4                       (0.0, 20.0]            (0.0, 5.0]    (0.0, 9152545.0]   \n",
       "\n",
       "  disc_delinq_2yrs_5 disc_inq_last_6mths_5 disc_pub_rec_5    disc_loan_amnt_6  \\\n",
       "0        (0.0, 29.0]            (1.0, 2.0]    (0.0, 40.0]   (6000.0, 10000.0]   \n",
       "1        (0.0, 29.0]            (0.0, 1.0]    (0.0, 40.0]  (23000.0, 35000.0]   \n",
       "2        (0.0, 29.0]            (0.0, 1.0]    (0.0, 40.0]  (12000.0, 16675.0]   \n",
       "3        (0.0, 29.0]            (1.0, 2.0]    (0.0, 40.0]  (12000.0, 16675.0]   \n",
       "4        (0.0, 29.0]            (0.0, 1.0]    (0.0, 40.0]   (6000.0, 10000.0]   \n",
       "\n",
       "   disc_funded_amnt_6 disc_funded_amnt_inv_6 disc_int_rate_6  \\\n",
       "0   (6000.0, 10000.0]       (6000.0, 9900.0]  (13.66, 15.59]   \n",
       "1  (22875.0, 35000.0]     (22775.0, 35000.0]  (15.59, 18.24]   \n",
       "2  (12000.0, 16500.0]     (12000.0, 16425.0]  (11.99, 13.66]   \n",
       "3  (12000.0, 16500.0]     (12000.0, 16425.0]  (13.66, 15.59]   \n",
       "4   (6000.0, 10000.0]       (6000.0, 9900.0]    (5.42, 9.17]   \n",
       "\n",
       "  disc_installment_6   disc_annual_inc_6      disc_dti_6 disc_open_acc_6  \\\n",
       "0   (203.42, 300.61]   (1896.0, 40000.0]  (13.26, 16.87]    (12.0, 16.0]   \n",
       "1   (494.97, 661.14]  (50000.0, 63000.0]  (16.87, 20.64]     (9.0, 10.0]   \n",
       "2   (379.76, 494.97]  (63000.0, 78000.0]  (20.64, 25.28]    (16.0, 84.0]   \n",
       "3   (300.61, 379.76]  (50000.0, 63000.0]  (25.28, 39.99]    (16.0, 84.0]   \n",
       "4   (203.42, 300.61]   (1896.0, 40000.0]  (13.26, 16.87]      (7.0, 9.0]   \n",
       "\n",
       "     disc_revol_bal_6 disc_revol_util_6 disc_total_acc_6  \\\n",
       "0    (4805.0, 8060.0]      (57.6, 68.8]      (1.0, 14.0]   \n",
       "1  (16775.0, 25447.0]      (57.6, 68.8]     (19.0, 23.0]   \n",
       "2  (16775.0, 25447.0]      (68.8, 81.2]     (29.0, 36.0]   \n",
       "3  (16775.0, 25447.0]      (46.0, 57.6]    (36.0, 150.0]   \n",
       "4       (0.0, 4805.0]      (31.4, 46.0]     (14.0, 19.0]   \n",
       "\n",
       "     disc_tot_cur_bal_6 disc_total_rev_hi_lim_6  \\\n",
       "0        (0.0, 23168.0]      (11700.0, 18500.0]   \n",
       "1  (81398.5, 136364.33]      (28100.0, 43100.0]   \n",
       "2  (81398.5, 136364.33]      (22900.0, 28100.0]   \n",
       "3   (48556.33, 81398.5]      (28100.0, 43100.0]   \n",
       "4  (81398.5, 136364.33]      (22900.0, 28100.0]   \n",
       "\n",
       "  disc_mths_between_issued_earliest_cr_6 disc_collections_12_mths_ex_med_6  \\\n",
       "0                           (6.0, 115.0]                       (0.0, 20.0]   \n",
       "1                         (273.0, 854.0]                       (0.0, 20.0]   \n",
       "2                           (6.0, 115.0]                       (0.0, 20.0]   \n",
       "3                         (115.0, 149.0]                       (0.0, 20.0]   \n",
       "4                         (214.0, 273.0]                       (0.0, 20.0]   \n",
       "\n",
       "  disc_acc_now_delinq_6 disc_tot_coll_amt_6 disc_delinq_2yrs_6  \\\n",
       "0            (0.0, 5.0]    (0.0, 9152545.0]         (0.0, 1.0]   \n",
       "1            (0.0, 5.0]    (0.0, 9152545.0]         (0.0, 1.0]   \n",
       "2            (0.0, 5.0]    (0.0, 9152545.0]         (0.0, 1.0]   \n",
       "3            (0.0, 5.0]    (0.0, 9152545.0]        (1.0, 29.0]   \n",
       "4            (0.0, 5.0]    (0.0, 9152545.0]         (0.0, 1.0]   \n",
       "\n",
       "  disc_inq_last_6mths_6 disc_pub_rec_6    disc_loan_amnt_7  \\\n",
       "0            (1.0, 2.0]    (0.0, 40.0]    (6000.0, 8750.0]   \n",
       "1            (0.0, 1.0]    (0.0, 40.0]  (24000.0, 35000.0]   \n",
       "2            (0.0, 1.0]    (0.0, 40.0]  (11100.0, 14950.0]   \n",
       "3            (1.0, 2.0]    (0.0, 40.0]  (14950.0, 18000.0]   \n",
       "4            (0.0, 1.0]    (0.0, 40.0]    (6000.0, 8750.0]   \n",
       "\n",
       "   disc_funded_amnt_7 disc_funded_amnt_inv_7 disc_int_rate_7  \\\n",
       "0    (6000.0, 8725.0]       (5700.0, 8500.0]  (12.99, 14.33]   \n",
       "1  (24000.0, 35000.0]     (24000.0, 35000.0]  (14.33, 15.99]   \n",
       "2  (11025.0, 14800.0]     (11000.0, 14575.0]  (12.99, 14.33]   \n",
       "3  (14800.0, 18000.0]     (14575.0, 18000.0]  (14.33, 15.99]   \n",
       "4    (6000.0, 8725.0]      (8500.0, 11000.0]    (8.9, 11.14]   \n",
       "\n",
       "  disc_installment_7   disc_annual_inc_7      disc_dti_7 disc_open_acc_7  \\\n",
       "0    (189.1, 274.71]   (1896.0, 37500.0]  (12.19, 15.31]    (11.0, 13.0]   \n",
       "1   (531.08, 687.42]  (58000.0, 70000.0]  (15.31, 18.45]     (8.0, 10.0]   \n",
       "2   (424.94, 531.08]  (70000.0, 84000.0]  (18.45, 21.82]    (16.0, 84.0]   \n",
       "3   (342.22, 424.94]  (48000.0, 58000.0]  (26.18, 39.99]    (16.0, 84.0]   \n",
       "4   (274.71, 342.22]   (1896.0, 37500.0]  (12.19, 15.31]      (6.0, 8.0]   \n",
       "\n",
       "     disc_revol_bal_7 disc_revol_util_7 disc_total_acc_7  \\\n",
       "0   (7115.0, 10088.0]      (62.4, 72.1]     (13.0, 18.0]   \n",
       "1  (18668.0, 27400.0]      (52.8, 62.4]     (18.0, 22.0]   \n",
       "2  (13691.0, 18668.0]      (62.4, 72.1]     (30.0, 37.0]   \n",
       "3  (13691.0, 18668.0]      (52.8, 62.4]    (37.0, 150.0]   \n",
       "4       (0.0, 4315.0]      (42.2, 52.8]     (13.0, 18.0]   \n",
       "\n",
       "     disc_tot_cur_bal_7 disc_total_rev_hi_lim_7  \\\n",
       "0       (0.0, 20412.29]      (10700.0, 16500.0]   \n",
       "1  (81398.5, 163951.71]      (31400.0, 46400.0]   \n",
       "2  (81398.5, 163951.71]      (22900.0, 31400.0]   \n",
       "3    (39079.0, 81398.5]      (22900.0, 31400.0]   \n",
       "4  (81398.5, 163951.71]      (22900.0, 31400.0]   \n",
       "\n",
       "  disc_mths_between_issued_earliest_cr_7 disc_collections_12_mths_ex_med_7  \\\n",
       "0                           (6.0, 108.0]                       (0.0, 20.0]   \n",
       "1                         (287.0, 854.0]                       (0.0, 20.0]   \n",
       "2                         (108.0, 141.0]                       (0.0, 20.0]   \n",
       "3                         (108.0, 141.0]                       (0.0, 20.0]   \n",
       "4                         (190.0, 227.0]                       (0.0, 20.0]   \n",
       "\n",
       "  disc_acc_now_delinq_7 disc_tot_coll_amt_7 disc_delinq_2yrs_7  \\\n",
       "0            (0.0, 5.0]    (0.0, 9152545.0]         (0.0, 1.0]   \n",
       "1            (0.0, 5.0]    (0.0, 9152545.0]         (0.0, 1.0]   \n",
       "2            (0.0, 5.0]    (0.0, 9152545.0]         (0.0, 1.0]   \n",
       "3            (0.0, 5.0]    (0.0, 9152545.0]        (1.0, 29.0]   \n",
       "4            (0.0, 5.0]    (0.0, 9152545.0]         (0.0, 1.0]   \n",
       "\n",
       "  disc_inq_last_6mths_7 disc_pub_rec_7    disc_loan_amnt_8  \\\n",
       "0            (1.0, 2.0]    (0.0, 40.0]    (5225.0, 8000.0]   \n",
       "1            (0.0, 1.0]    (0.0, 40.0]  (25000.0, 35000.0]   \n",
       "2            (0.0, 1.0]    (0.0, 40.0]  (12000.0, 15250.0]   \n",
       "3            (1.0, 2.0]    (0.0, 40.0]  (12000.0, 15250.0]   \n",
       "4            (0.0, 1.0]    (0.0, 40.0]   (8000.0, 10000.0]   \n",
       "\n",
       "   disc_funded_amnt_8 disc_funded_amnt_inv_8 disc_int_rate_8  \\\n",
       "0    (5200.0, 8000.0]       (5000.0, 8000.0]  (13.66, 14.99]   \n",
       "1  (25000.0, 35000.0]     (24975.0, 35000.0]  (14.99, 16.49]   \n",
       "2  (12000.0, 15175.0]     (12000.0, 15000.0]  (12.39, 13.66]   \n",
       "3  (12000.0, 15175.0]     (15000.0, 19950.0]  (14.99, 16.49]   \n",
       "4   (8000.0, 10000.0]      (8000.0, 10000.0]   (8.39, 10.99]   \n",
       "\n",
       "  disc_installment_8   disc_annual_inc_8      disc_dti_8 disc_open_acc_8  \\\n",
       "0    (177.0, 256.88]  (35985.0, 45000.0]  (14.17, 16.87]    (12.0, 14.0]   \n",
       "1   (565.62, 721.11]  (54000.0, 63000.0]  (16.87, 19.65]     (9.0, 10.0]   \n",
       "2   (468.29, 565.62]  (63000.0, 74200.0]  (19.65, 22.78]    (14.0, 17.0]   \n",
       "3   (321.13, 379.76]  (45000.0, 54000.0]  (26.89, 39.99]    (17.0, 84.0]   \n",
       "4   (256.88, 321.13]   (1896.0, 35985.0]  (11.35, 14.17]      (6.0, 8.0]   \n",
       "\n",
       "     disc_revol_bal_8 disc_revol_util_8 disc_total_acc_8  \\\n",
       "0    (6413.0, 8925.0]      (57.6, 66.0]     (13.0, 17.0]   \n",
       "1  (20324.0, 29077.0]      (57.6, 66.0]     (20.0, 23.0]   \n",
       "2  (15315.0, 20324.0]      (66.0, 74.7]     (32.0, 39.0]   \n",
       "3  (15315.0, 20324.0]      (49.0, 57.6]    (39.0, 150.0]   \n",
       "4       (0.0, 3944.0]      (39.2, 49.0]     (13.0, 17.0]   \n",
       "\n",
       "     disc_tot_cur_bal_8 disc_total_rev_hi_lim_8  \\\n",
       "0        (0.0, 18388.0]      (10000.0, 15000.0]   \n",
       "1  (110652.0, 184569.0]      (34300.0, 49400.0]   \n",
       "2   (81398.5, 110652.0]      (22900.0, 25500.0]   \n",
       "3   (33597.0, 60137.75]      (25500.0, 34300.0]   \n",
       "4   (81398.5, 110652.0]      (22900.0, 25500.0]   \n",
       "\n",
       "  disc_mths_between_issued_earliest_cr_8 disc_collections_12_mths_ex_med_8  \\\n",
       "0                           (6.0, 103.0]                       (0.0, 20.0]   \n",
       "1                         (298.0, 854.0]                       (0.0, 20.0]   \n",
       "2                         (103.0, 133.0]                       (0.0, 20.0]   \n",
       "3                         (103.0, 133.0]                       (0.0, 20.0]   \n",
       "4                         (203.0, 238.0]                       (0.0, 20.0]   \n",
       "\n",
       "  disc_acc_now_delinq_8 disc_tot_coll_amt_8 disc_delinq_2yrs_8  \\\n",
       "0            (0.0, 5.0]    (0.0, 9152545.0]         (0.0, 1.0]   \n",
       "1            (0.0, 5.0]    (0.0, 9152545.0]         (0.0, 1.0]   \n",
       "2            (0.0, 5.0]    (0.0, 9152545.0]         (0.0, 1.0]   \n",
       "3            (0.0, 5.0]    (0.0, 9152545.0]        (1.0, 29.0]   \n",
       "4            (0.0, 5.0]    (0.0, 9152545.0]         (0.0, 1.0]   \n",
       "\n",
       "  disc_inq_last_6mths_8 disc_pub_rec_8    disc_loan_amnt_9  \\\n",
       "0            (1.0, 2.0]     (0.0, 1.0]    (5000.0, 7450.0]   \n",
       "1            (0.0, 1.0]     (0.0, 1.0]  (25000.0, 35000.0]   \n",
       "2            (0.0, 1.0]     (0.0, 1.0]  (11775.0, 14075.0]   \n",
       "3            (1.0, 2.0]     (0.0, 1.0]  (14075.0, 16675.0]   \n",
       "4            (0.0, 1.0]     (0.0, 1.0]   (7450.0, 10000.0]   \n",
       "\n",
       "   disc_funded_amnt_9 disc_funded_amnt_inv_9 disc_int_rate_9  \\\n",
       "0   (5000.0, 7397.22]       (5000.0, 7200.0]  (12.99, 14.27]   \n",
       "1  (25000.0, 35000.0]     (25000.0, 35000.0]   (15.59, 17.1]   \n",
       "2  (14000.0, 16500.0]     (14000.0, 16425.0]  (12.99, 14.27]   \n",
       "3  (14000.0, 16500.0]     (14000.0, 16425.0]  (14.27, 15.59]   \n",
       "4  (7397.22, 10000.0]       (7200.0, 9900.0]    (7.9, 10.16]   \n",
       "\n",
       "  disc_installment_9   disc_annual_inc_9      disc_dti_9 disc_open_acc_9  \\\n",
       "0   (168.45, 240.92]  (35000.0, 43000.0]  (13.26, 15.66]    (12.0, 14.0]   \n",
       "1   (595.76, 750.28]  (60000.0, 67500.0]  (18.09, 20.64]     (9.0, 10.0]   \n",
       "2   (412.06, 494.97]  (67500.0, 78000.0]  (20.64, 23.55]    (14.0, 17.0]   \n",
       "3   (349.29, 412.06]  (50000.0, 60000.0]  (27.49, 39.99]    (17.0, 84.0]   \n",
       "4   (240.92, 300.61]   (1896.0, 35000.0]  (13.26, 15.66]      (7.0, 9.0]   \n",
       "\n",
       "     disc_revol_bal_9 disc_revol_util_9 disc_total_acc_9  \\\n",
       "0    (5878.0, 8060.0]      (61.3, 68.8]     (12.0, 16.0]   \n",
       "1  (16775.0, 21819.0]      (53.9, 61.3]     (19.0, 22.0]   \n",
       "2  (16775.0, 21819.0]      (68.8, 76.8]     (33.0, 40.0]   \n",
       "3  (16775.0, 21819.0]      (53.9, 61.3]    (40.0, 150.0]   \n",
       "4    (3640.0, 5878.0]      (36.8, 46.0]     (12.0, 16.0]   \n",
       "\n",
       "     disc_tot_cur_bal_9 disc_total_rev_hi_lim_9  \\\n",
       "0        (0.0, 16836.0]       (9400.0, 13900.0]   \n",
       "1  (81398.5, 136364.33]      (36900.0, 52100.0]   \n",
       "2  (81398.5, 136364.33]      (22900.0, 28100.0]   \n",
       "3   (48556.33, 81398.5]      (28100.0, 36900.0]   \n",
       "4  (81398.5, 136364.33]      (22900.0, 28100.0]   \n",
       "\n",
       "  disc_mths_between_issued_earliest_cr_9 disc_collections_12_mths_ex_med_9  \\\n",
       "0                            (6.0, 98.0]                       (0.0, 20.0]   \n",
       "1                         (307.0, 854.0]                       (0.0, 20.0]   \n",
       "2                          (98.0, 128.0]                       (0.0, 20.0]   \n",
       "3                          (98.0, 128.0]                       (0.0, 20.0]   \n",
       "4                         (214.0, 247.0]                       (0.0, 20.0]   \n",
       "\n",
       "  disc_acc_now_delinq_9 disc_tot_coll_amt_9 disc_delinq_2yrs_9  \\\n",
       "0            (0.0, 5.0]    (0.0, 9152545.0]         (0.0, 1.0]   \n",
       "1            (0.0, 5.0]    (0.0, 9152545.0]         (0.0, 1.0]   \n",
       "2            (0.0, 5.0]    (0.0, 9152545.0]         (0.0, 1.0]   \n",
       "3            (0.0, 5.0]    (0.0, 9152545.0]        (1.0, 29.0]   \n",
       "4            (0.0, 5.0]    (0.0, 9152545.0]         (0.0, 1.0]   \n",
       "\n",
       "  disc_inq_last_6mths_9 disc_pub_rec_9   disc_loan_amnt_10  \\\n",
       "0            (1.0, 2.0]     (0.0, 1.0]    (5000.0, 7000.0]   \n",
       "1            (0.0, 1.0]     (0.0, 1.0]  (26000.0, 35000.0]   \n",
       "2            (0.0, 1.0]     (0.0, 1.0]  (12000.0, 15000.0]   \n",
       "3            (1.0, 2.0]     (0.0, 1.0]  (15000.0, 18000.0]   \n",
       "4            (0.0, 1.0]     (0.0, 1.0]    (7000.0, 9000.0]   \n",
       "\n",
       "  disc_funded_amnt_10 disc_funded_amnt_inv_10 disc_int_rate_10  \\\n",
       "0    (5000.0, 7000.0]        (5000.0, 7000.0]   (13.66, 14.49]   \n",
       "1  (26000.0, 35000.0]      (26000.0, 35000.0]    (15.8, 17.57]   \n",
       "2  (12000.0, 15000.0]      (12000.0, 15000.0]   (12.49, 13.66]   \n",
       "3  (15000.0, 18000.0]      (15000.0, 18000.0]    (14.49, 15.8]   \n",
       "4    (7000.0, 9000.0]        (7000.0, 9000.0]      (7.9, 9.99]   \n",
       "\n",
       "  disc_installment_10  disc_annual_inc_10     disc_dti_10 disc_open_acc_10  \\\n",
       "0     (163.27, 226.4]  (34000.0, 41600.0]  (14.71, 16.87]     (12.0, 13.0]   \n",
       "1     (621.95, 773.3]  (55000.0, 63000.0]  (16.87, 19.09]      (9.0, 10.0]   \n",
       "2    (449.03, 517.51]  (71000.0, 81000.0]  (19.09, 21.46]     (15.0, 18.0]   \n",
       "3     (332.1, 379.76]  (49000.0, 55000.0]   (28.0, 39.99]     (18.0, 84.0]   \n",
       "4     (226.4, 282.05]   (1896.0, 34000.0]  (12.52, 14.71]       (7.0, 8.0]   \n",
       "\n",
       "    disc_revol_bal_10 disc_revol_util_10 disc_total_acc_10  \\\n",
       "0    (7399.0, 9457.0]       (64.3, 71.1]      (11.8, 15.0]   \n",
       "1  (18071.6, 23151.0]       (57.6, 64.3]      (18.0, 21.0]   \n",
       "2  (14535.0, 18071.6]       (71.1, 78.5]      (30.0, 34.0]   \n",
       "3  (14535.0, 18071.6]       (50.8, 57.6]     (41.0, 150.0]   \n",
       "4    (3389.0, 5447.0]       (34.8, 43.4]      (15.0, 18.0]   \n",
       "\n",
       "   disc_tot_cur_bal_10 disc_total_rev_hi_lim_10  \\\n",
       "0       (0.0, 15583.0]        (8900.0, 13030.2]   \n",
       "1  (95242.0, 155588.6]       (30300.0, 39200.0]   \n",
       "2   (81398.5, 95242.0]       (22900.0, 24200.0]   \n",
       "3   (41574.8, 69705.2]       (30300.0, 39200.0]   \n",
       "4   (81398.5, 95242.0]       (22900.0, 24200.0]   \n",
       "\n",
       "  disc_mths_between_issued_earliest_cr_10 disc_collections_12_mths_ex_med_10  \\\n",
       "0                             (6.0, 94.0]                        (0.0, 20.0]   \n",
       "1                          (315.0, 854.0]                        (0.0, 20.0]   \n",
       "2                           (94.0, 123.0]                        (0.0, 20.0]   \n",
       "3                           (94.0, 123.0]                        (0.0, 20.0]   \n",
       "4                          (197.0, 223.0]                        (0.0, 20.0]   \n",
       "\n",
       "  disc_acc_now_delinq_10 disc_tot_coll_amt_10 disc_delinq_2yrs_10  \\\n",
       "0             (0.0, 5.0]          (0.0, 60.0]          (0.0, 1.0]   \n",
       "1             (0.0, 5.0]    (60.0, 9152545.0]          (0.0, 1.0]   \n",
       "2             (0.0, 5.0]          (0.0, 60.0]          (0.0, 1.0]   \n",
       "3             (0.0, 5.0]          (0.0, 60.0]         (1.0, 29.0]   \n",
       "4             (0.0, 5.0]          (0.0, 60.0]          (0.0, 1.0]   \n",
       "\n",
       "  disc_inq_last_6mths_10 disc_pub_rec_10  term grade emp_length  \\\n",
       "0             (1.0, 2.0]      (0.0, 1.0]    36     B  2-4 years   \n",
       "1             (0.0, 1.0]      (0.0, 1.0]    60     C    missing   \n",
       "2             (0.0, 1.0]      (0.0, 1.0]    36     C   <2 years   \n",
       "3             (1.0, 2.0]      (0.0, 1.0]    60     C  2-4 years   \n",
       "4             (0.0, 1.0]      (0.0, 1.0]    36     A  5-9 years   \n",
       "\n",
       "  home_ownership verification_status pymnt_plan             purpose  \\\n",
       "0           RENT        Not Verified          n         credit_card   \n",
       "1       MORTGAGE            Verified          n  debt_consolidation   \n",
       "2           RENT        Not Verified          n         credit_card   \n",
       "3           RENT            Verified          n  debt_consolidation   \n",
       "4       MORTGAGE        Not Verified          n  debt_consolidation   \n",
       "\n",
       "  addr_state initial_list_status disc_mths_since_last_delinq  \\\n",
       "0         CT                   w                     missing   \n",
       "1         VA                   f                     missing   \n",
       "2         NJ                   f                     missing   \n",
       "3         AL                   f                 (0.0, 16.0]   \n",
       "4         MI                   f                     missing   \n",
       "\n",
       "  disc_mths_since_last_record disc_mths_since_last_major_derog  target  \\\n",
       "0                     missing                          missing       0   \n",
       "1                     missing                          missing       0   \n",
       "2                     missing                          missing       0   \n",
       "3                     missing                          missing       0   \n",
       "4                     missing                          missing       0   \n",
       "\n",
       "   woe_term  woe_grade  woe_emp_length  woe_home_ownership  \\\n",
       "0  0.134945   0.357569       -0.004173           -0.160657   \n",
       "1 -0.299430  -0.057243       -0.199396            0.142412   \n",
       "2  0.134945  -0.057243       -0.060874           -0.160657   \n",
       "3 -0.299430  -0.057243       -0.004173           -0.160657   \n",
       "4  0.134945   1.113050       -0.046771            0.142412   \n",
       "\n",
       "   woe_verification_status  woe_pymnt_plan  woe_purpose  woe_addr_state  \\\n",
       "0                 0.166965        0.000077     0.253952             NaN   \n",
       "1                -0.172476        0.000077    -0.037868             NaN   \n",
       "2                 0.166965        0.000077     0.253952             NaN   \n",
       "3                -0.172476        0.000077    -0.037868             NaN   \n",
       "4                 0.166965        0.000077    -0.037868             NaN   \n",
       "\n",
       "   woe_initial_list_status  woe_disc_loan_amnt_4  woe_disc_funded_amnt_4  \\\n",
       "0                 0.231666              0.051392                0.050432   \n",
       "1                -0.109223             -0.026197               -0.021330   \n",
       "2                -0.109223             -0.011184               -0.012579   \n",
       "3                -0.109223             -0.011184               -0.012579   \n",
       "4                -0.109223             -0.008439               -0.011719   \n",
       "\n",
       "   woe_disc_funded_amnt_inv_4  woe_disc_int_rate_4  woe_disc_installment_4  \\\n",
       "0                    0.027889            -0.119774                0.084315   \n",
       "1                   -0.011924            -0.119774               -0.031101   \n",
       "2                   -0.010646             0.288082               -0.057461   \n",
       "3                   -0.010646            -0.119774                0.008713   \n",
       "4                   -0.002868             0.915586                0.008713   \n",
       "\n",
       "   woe_disc_annual_inc_4  woe_disc_dti_4  woe_disc_open_acc_4  \\\n",
       "0              -0.268596        0.098088            -0.018135   \n",
       "1              -0.103529       -0.083773             0.012747   \n",
       "2               0.094585       -0.083773             0.023628   \n",
       "3              -0.103529       -0.193200             0.023628   \n",
       "4              -0.268596        0.098088            -0.012062   \n",
       "\n",
       "   woe_disc_revol_bal_4  woe_disc_revol_util_4  woe_disc_total_acc_4  \\\n",
       "0             -0.040924              -0.058078             -0.108187   \n",
       "1              0.110170              -0.058078             -0.017416   \n",
       "2             -0.025565              -0.058078              0.090949   \n",
       "3             -0.025565               0.068458              0.090949   \n",
       "4             -0.037577               0.068458             -0.108187   \n",
       "\n",
       "   woe_disc_tot_cur_bal_4  woe_disc_total_rev_hi_lim_4  \\\n",
       "0               -0.051154                    -0.061596   \n",
       "1               -0.160867                     0.341366   \n",
       "2               -0.160867                    -0.174856   \n",
       "3               -0.039847                    -0.174856   \n",
       "4               -0.160867                    -0.174856   \n",
       "\n",
       "   woe_disc_mths_between_issued_earliest_cr_4  \\\n",
       "0                                   -0.199298   \n",
       "1                                    0.229679   \n",
       "2                                   -0.199298   \n",
       "3                                   -0.199298   \n",
       "4                                    0.077670   \n",
       "\n",
       "   woe_disc_collections_12_mths_ex_med_4  woe_disc_acc_now_delinq_4  \\\n",
       "0                                    0.0                        0.0   \n",
       "1                                    0.0                        0.0   \n",
       "2                                    0.0                        0.0   \n",
       "3                                    0.0                        0.0   \n",
       "4                                    0.0                        0.0   \n",
       "\n",
       "   woe_disc_tot_coll_amt_4  woe_disc_delinq_2yrs_4  woe_disc_inq_last_6mths_4  \\\n",
       "0                      0.0                     0.0                  -0.180368   \n",
       "1                      0.0                     0.0                   0.194658   \n",
       "2                      0.0                     0.0                   0.194658   \n",
       "3                      0.0                     0.0                  -0.180368   \n",
       "4                      0.0                     0.0                   0.194658   \n",
       "\n",
       "   woe_disc_pub_rec_4  woe_disc_loan_amnt_5  woe_disc_funded_amnt_5  \\\n",
       "0                 0.0              0.052676                0.050318   \n",
       "1                 0.0             -0.047232               -0.042371   \n",
       "2                 0.0              0.002677                0.000051   \n",
       "3                 0.0             -0.031599               -0.032500   \n",
       "4                 0.0              0.031813                0.031926   \n",
       "\n",
       "   woe_disc_funded_amnt_inv_5  woe_disc_int_rate_5  woe_disc_installment_5  \\\n",
       "0                    0.019923             0.090951                0.068589   \n",
       "1                   -0.032549            -0.212975               -0.026974   \n",
       "2                    0.031164             0.090951               -0.063411   \n",
       "3                   -0.029752            -0.212975               -0.040687   \n",
       "4                    0.011969             1.052682                0.068712   \n",
       "\n",
       "   woe_disc_annual_inc_5  woe_disc_dti_5  woe_disc_open_acc_5  \\\n",
       "0              -0.281745        0.019120             0.008159   \n",
       "1              -0.027548        0.019120            -0.027064   \n",
       "2               0.168508       -0.130506             0.025460   \n",
       "3              -0.139198       -0.202504             0.025460   \n",
       "4              -0.281745        0.131136             0.013947   \n",
       "\n",
       "   woe_disc_revol_bal_5  woe_disc_revol_util_5  woe_disc_total_acc_5  \\\n",
       "0             -0.045316              -0.088852             -0.125284   \n",
       "1             -0.020506               0.005155             -0.040493   \n",
       "2             -0.020506              -0.088852              0.069468   \n",
       "3             -0.020506               0.005155              0.092632   \n",
       "4             -0.039502               0.103861             -0.040493   \n",
       "\n",
       "   woe_disc_tot_cur_bal_5  woe_disc_total_rev_hi_lim_5  \\\n",
       "0               -0.047341                    -0.071961   \n",
       "1                0.101456                     0.084861   \n",
       "2               -0.298238                    -0.298690   \n",
       "3               -0.056675                     0.084861   \n",
       "4               -0.298238                    -0.298690   \n",
       "\n",
       "   woe_disc_mths_between_issued_earliest_cr_5  \\\n",
       "0                                   -0.212823   \n",
       "1                                    0.232248   \n",
       "2                                   -0.212823   \n",
       "3                                   -0.212823   \n",
       "4                                    0.123368   \n",
       "\n",
       "   woe_disc_collections_12_mths_ex_med_5  woe_disc_acc_now_delinq_5  \\\n",
       "0                                    0.0                        0.0   \n",
       "1                                    0.0                        0.0   \n",
       "2                                    0.0                        0.0   \n",
       "3                                    0.0                        0.0   \n",
       "4                                    0.0                        0.0   \n",
       "\n",
       "   woe_disc_tot_coll_amt_5  woe_disc_delinq_2yrs_5  woe_disc_inq_last_6mths_5  \\\n",
       "0                      0.0                     0.0                  -0.057666   \n",
       "1                      0.0                     0.0                   0.194658   \n",
       "2                      0.0                     0.0                   0.194658   \n",
       "3                      0.0                     0.0                  -0.057666   \n",
       "4                      0.0                     0.0                   0.194658   \n",
       "\n",
       "   woe_disc_pub_rec_5  woe_disc_loan_amnt_6  woe_disc_funded_amnt_6  \\\n",
       "0                 0.0              0.048538                0.047048   \n",
       "1                 0.0             -0.045179               -0.036673   \n",
       "2                 0.0              0.040117                0.040018   \n",
       "3                 0.0              0.040117                0.040018   \n",
       "4                 0.0              0.048538                0.047048   \n",
       "\n",
       "   woe_disc_funded_amnt_inv_6  woe_disc_int_rate_6  woe_disc_installment_6  \\\n",
       "0                    0.054484            -0.058487                0.053649   \n",
       "1                   -0.027658            -0.316359               -0.058961   \n",
       "2                    0.049156             0.215589               -0.019690   \n",
       "3                    0.049156            -0.058487                0.017377   \n",
       "4                    0.054484             1.122048                0.053649   \n",
       "\n",
       "   woe_disc_annual_inc_6  woe_disc_dti_6  woe_disc_open_acc_6  \\\n",
       "0              -0.291743        0.075368             0.008937   \n",
       "1              -0.077246       -0.052727            -0.010089   \n",
       "2               0.058225       -0.156822             0.028829   \n",
       "3              -0.077246       -0.204710             0.028829   \n",
       "4              -0.291743        0.075368             0.013947   \n",
       "\n",
       "   woe_disc_revol_bal_6  woe_disc_revol_util_6  woe_disc_total_acc_6  \\\n",
       "0             -0.039068              -0.054397             -0.129919   \n",
       "1              0.001327              -0.054397             -0.026293   \n",
       "2              0.001327              -0.101484              0.073046   \n",
       "3              0.001327               0.050351              0.091224   \n",
       "4             -0.041244               0.131282             -0.041855   \n",
       "\n",
       "   woe_disc_tot_cur_bal_6  woe_disc_total_rev_hi_lim_6  \\\n",
       "0               -0.042889                    -0.022591   \n",
       "1               -0.245094                     0.140115   \n",
       "2               -0.245094                    -0.250458   \n",
       "3               -0.024558                     0.140115   \n",
       "4               -0.245094                    -0.250458   \n",
       "\n",
       "   woe_disc_mths_between_issued_earliest_cr_6  \\\n",
       "0                                   -0.220034   \n",
       "1                                    0.238194   \n",
       "2                                   -0.220034   \n",
       "3                                   -0.136729   \n",
       "4                                    0.155127   \n",
       "\n",
       "   woe_disc_collections_12_mths_ex_med_6  woe_disc_acc_now_delinq_6  \\\n",
       "0                                    0.0                        0.0   \n",
       "1                                    0.0                        0.0   \n",
       "2                                    0.0                        0.0   \n",
       "3                                    0.0                        0.0   \n",
       "4                                    0.0                        0.0   \n",
       "\n",
       "   woe_disc_tot_coll_amt_6  woe_disc_delinq_2yrs_6  woe_disc_inq_last_6mths_6  \\\n",
       "0                      0.0                0.002178                  -0.057666   \n",
       "1                      0.0                0.002178                   0.194658   \n",
       "2                      0.0                0.002178                   0.194658   \n",
       "3                      0.0               -0.009944                  -0.057666   \n",
       "4                      0.0                0.002178                   0.194658   \n",
       "\n",
       "   woe_disc_pub_rec_6  woe_disc_loan_amnt_7  woe_disc_funded_amnt_7  \\\n",
       "0                 0.0              0.088340                0.091602   \n",
       "1                 0.0             -0.039413               -0.030717   \n",
       "2                 0.0              0.016343                0.016070   \n",
       "3                 0.0             -0.024042               -0.028337   \n",
       "4                 0.0              0.088340                0.091602   \n",
       "\n",
       "   woe_disc_funded_amnt_inv_7  woe_disc_int_rate_7  woe_disc_installment_7  \\\n",
       "0                    0.086244             0.082026                0.119962   \n",
       "1                   -0.018570            -0.124029               -0.046279   \n",
       "2                    0.041352             0.082026               -0.041013   \n",
       "3                   -0.037289            -0.124029               -0.050149   \n",
       "4                   -0.008278             0.611377                0.044564   \n",
       "\n",
       "   woe_disc_annual_inc_7  woe_disc_dti_7  woe_disc_open_acc_7  \\\n",
       "0              -0.303816        0.102306            -0.034594   \n",
       "1              -0.021160        0.016665             0.012747   \n",
       "2               0.092426       -0.089595             0.028829   \n",
       "3              -0.091369       -0.214926             0.028829   \n",
       "4              -0.303816        0.102306             0.001566   \n",
       "\n",
       "   woe_disc_revol_bal_7  woe_disc_revol_util_7  woe_disc_total_acc_7  \\\n",
       "0             -0.045297              -0.059480             -0.061889   \n",
       "1              0.031473              -0.004162             -0.031572   \n",
       "2             -0.030491              -0.059480              0.068850   \n",
       "3             -0.030491              -0.004162              0.100480   \n",
       "4             -0.043193               0.071307             -0.061889   \n",
       "\n",
       "   woe_disc_tot_cur_bal_7  woe_disc_total_rev_hi_lim_7  \\\n",
       "0               -0.032426                    -0.045725   \n",
       "1               -0.194889                     0.181430   \n",
       "2               -0.194889                    -0.203909   \n",
       "3               -0.035040                    -0.203909   \n",
       "4               -0.194889                    -0.203909   \n",
       "\n",
       "   woe_disc_mths_between_issued_earliest_cr_7  \\\n",
       "0                                   -0.241687   \n",
       "1                                    0.254173   \n",
       "2                                   -0.141158   \n",
       "3                                   -0.141158   \n",
       "4                                    0.073834   \n",
       "\n",
       "   woe_disc_collections_12_mths_ex_med_7  woe_disc_acc_now_delinq_7  \\\n",
       "0                                    0.0                        0.0   \n",
       "1                                    0.0                        0.0   \n",
       "2                                    0.0                        0.0   \n",
       "3                                    0.0                        0.0   \n",
       "4                                    0.0                        0.0   \n",
       "\n",
       "   woe_disc_tot_coll_amt_7  woe_disc_delinq_2yrs_7  woe_disc_inq_last_6mths_7  \\\n",
       "0                      0.0                0.002178                  -0.057666   \n",
       "1                      0.0                0.002178                   0.194658   \n",
       "2                      0.0                0.002178                   0.194658   \n",
       "3                      0.0               -0.009944                  -0.057666   \n",
       "4                      0.0                0.002178                   0.194658   \n",
       "\n",
       "   woe_disc_pub_rec_7  woe_disc_loan_amnt_8  woe_disc_funded_amnt_8  \\\n",
       "0                 0.0              0.091984                0.093030   \n",
       "1                 0.0             -0.070716               -0.061135   \n",
       "2                 0.0              0.078654                0.080082   \n",
       "3                 0.0              0.078654                0.080082   \n",
       "4                 0.0             -0.010860               -0.014698   \n",
       "\n",
       "   woe_disc_funded_amnt_inv_8  woe_disc_int_rate_8  woe_disc_installment_8  \\\n",
       "0                    0.085918            -0.034736                0.134171   \n",
       "1                   -0.047525            -0.191810               -0.016706   \n",
       "2                    0.057139             0.211943               -0.077989   \n",
       "3                   -0.059875            -0.191810               -0.022566   \n",
       "4                   -0.011347             0.673236                0.040879   \n",
       "\n",
       "   woe_disc_annual_inc_8  woe_disc_dti_8  woe_disc_open_acc_8  \\\n",
       "0              -0.218980        0.079205             0.005054   \n",
       "1              -0.082720       -0.041785            -0.010089   \n",
       "2               0.042921       -0.124339             0.018625   \n",
       "3              -0.122244       -0.214026             0.028600   \n",
       "4              -0.310980        0.117201             0.001566   \n",
       "\n",
       "   woe_disc_revol_bal_8  woe_disc_revol_util_8  woe_disc_total_acc_8  \\\n",
       "0             -0.056601              -0.046892             -0.072448   \n",
       "1              0.040512              -0.046892             -0.005375   \n",
       "2             -0.031638              -0.069280              0.088802   \n",
       "3             -0.031638               0.048580              0.093151   \n",
       "4             -0.051686               0.088485             -0.072448   \n",
       "\n",
       "   woe_disc_tot_cur_bal_8  woe_disc_total_rev_hi_lim_8  \\\n",
       "0               -0.024303                    -0.031853   \n",
       "1                0.093987                     0.231673   \n",
       "2               -0.298195                    -0.303893   \n",
       "3               -0.052563                     0.058616   \n",
       "4               -0.298195                    -0.303893   \n",
       "\n",
       "   woe_disc_mths_between_issued_earliest_cr_8  \\\n",
       "0                                   -0.258652   \n",
       "1                                    0.257442   \n",
       "2                                   -0.134980   \n",
       "3                                   -0.134980   \n",
       "4                                    0.105714   \n",
       "\n",
       "   woe_disc_collections_12_mths_ex_med_8  woe_disc_acc_now_delinq_8  \\\n",
       "0                                    0.0                        0.0   \n",
       "1                                    0.0                        0.0   \n",
       "2                                    0.0                        0.0   \n",
       "3                                    0.0                        0.0   \n",
       "4                                    0.0                        0.0   \n",
       "\n",
       "   woe_disc_tot_coll_amt_8  woe_disc_delinq_2yrs_8  woe_disc_inq_last_6mths_8  \\\n",
       "0                      0.0                0.002178                  -0.057666   \n",
       "1                      0.0                0.002178                   0.194658   \n",
       "2                      0.0                0.002178                   0.194658   \n",
       "3                      0.0               -0.009944                  -0.057666   \n",
       "4                      0.0                0.002178                   0.194658   \n",
       "\n",
       "   woe_disc_pub_rec_8  woe_disc_loan_amnt_9  woe_disc_funded_amnt_9  \\\n",
       "0           -0.009284              0.094890                0.093732   \n",
       "1           -0.009284             -0.070716               -0.061135   \n",
       "2           -0.009284              0.074978                0.015895   \n",
       "3           -0.009284             -0.002722                0.015895   \n",
       "4           -0.009284             -0.011470               -0.013695   \n",
       "\n",
       "   woe_disc_funded_amnt_inv_9  woe_disc_int_rate_9  woe_disc_installment_9  \\\n",
       "0                    0.109015             0.085978                0.095153   \n",
       "1                   -0.043025            -0.241248                0.020212   \n",
       "2                    0.034177             0.085978               -0.044176   \n",
       "3                    0.034177            -0.081116               -0.011679   \n",
       "4                   -0.008267             0.823647                0.032672   \n",
       "\n",
       "   woe_disc_annual_inc_9  woe_disc_dti_9  woe_disc_open_acc_9  \\\n",
       "0              -0.239472        0.090115             0.005054   \n",
       "1              -0.030927       -0.076146            -0.010089   \n",
       "2               0.079070       -0.143999             0.018625   \n",
       "3              -0.077520       -0.213725             0.028600   \n",
       "4              -0.313601        0.090115             0.013947   \n",
       "\n",
       "   woe_disc_revol_bal_9  woe_disc_revol_util_9  woe_disc_total_acc_9  \\\n",
       "0             -0.046770              -0.056118             -0.072618   \n",
       "1             -0.018760              -0.008716             -0.049789   \n",
       "2             -0.018760              -0.081881              0.088159   \n",
       "3             -0.018760              -0.008716              0.089764   \n",
       "4             -0.012887               0.118843             -0.072618   \n",
       "\n",
       "   woe_disc_tot_cur_bal_9  woe_disc_total_rev_hi_lim_9  \\\n",
       "0               -0.024701                    -0.035281   \n",
       "1               -0.245094                     0.251066   \n",
       "2               -0.245094                    -0.250458   \n",
       "3               -0.024558                     0.099518   \n",
       "4               -0.245094                    -0.250458   \n",
       "\n",
       "   woe_disc_mths_between_issued_earliest_cr_9  \\\n",
       "0                                   -0.277203   \n",
       "1                                    0.255521   \n",
       "2                                   -0.130211   \n",
       "3                                   -0.130211   \n",
       "4                                    0.128139   \n",
       "\n",
       "   woe_disc_collections_12_mths_ex_med_9  woe_disc_acc_now_delinq_9  \\\n",
       "0                                    0.0                        0.0   \n",
       "1                                    0.0                        0.0   \n",
       "2                                    0.0                        0.0   \n",
       "3                                    0.0                        0.0   \n",
       "4                                    0.0                        0.0   \n",
       "\n",
       "   woe_disc_tot_coll_amt_9  woe_disc_delinq_2yrs_9  woe_disc_inq_last_6mths_9  \\\n",
       "0                      0.0                0.002178                  -0.057666   \n",
       "1                      0.0                0.002178                   0.194658   \n",
       "2                      0.0                0.002178                   0.194658   \n",
       "3                      0.0               -0.009944                  -0.057666   \n",
       "4                      0.0                0.002178                   0.194658   \n",
       "\n",
       "   woe_disc_pub_rec_9  woe_disc_loan_amnt_10  woe_disc_funded_amnt_10  \\\n",
       "0           -0.009284               0.099731                 0.096549   \n",
       "1           -0.009284              -0.075422                -0.069702   \n",
       "2           -0.009284               0.055543                 0.055747   \n",
       "3           -0.009284              -0.023551                -0.026861   \n",
       "4           -0.009284               0.024616                 0.024342   \n",
       "\n",
       "   woe_disc_funded_amnt_inv_10  woe_disc_int_rate_10  woe_disc_installment_10  \\\n",
       "0                     0.095407             -0.046756                 0.078329   \n",
       "1                    -0.066238             -0.374519                 0.004166   \n",
       "2                     0.057139              0.201762                 0.004291   \n",
       "3                    -0.034785             -0.049737                -0.040919   \n",
       "4                     0.031480              0.819307                 0.100110   \n",
       "\n",
       "   woe_disc_annual_inc_10  woe_disc_dti_10  woe_disc_open_acc_10  \\\n",
       "0               -0.242970         0.064311             -0.028519   \n",
       "1               -0.074113        -0.024216             -0.010089   \n",
       "2                0.101636        -0.099042              0.011947   \n",
       "3               -0.086492        -0.215073              0.039535   \n",
       "4               -0.319891         0.105074             -0.011392   \n",
       "\n",
       "   woe_disc_revol_bal_10  woe_disc_revol_util_10  woe_disc_total_acc_10  \\\n",
       "0              -0.040737               -0.083744              -0.080528   \n",
       "1               0.001131               -0.036471              -0.034185   \n",
       "2              -0.041783               -0.093938               0.067797   \n",
       "3              -0.041783                0.048740               0.082880   \n",
       "4              -0.008734                0.141367              -0.047235   \n",
       "\n",
       "   woe_disc_tot_cur_bal_10  woe_disc_total_rev_hi_lim_10  \\\n",
       "0                -0.015421                     -0.044526   \n",
       "1                 0.064517                      0.125626   \n",
       "2                -0.340460                     -0.344655   \n",
       "3                -0.060001                      0.125626   \n",
       "4                -0.340460                     -0.344655   \n",
       "\n",
       "   woe_disc_mths_between_issued_earliest_cr_10  \\\n",
       "0                                    -0.281931   \n",
       "1                                     0.252592   \n",
       "2                                    -0.142774   \n",
       "3                                    -0.142774   \n",
       "4                                     0.081276   \n",
       "\n",
       "   woe_disc_collections_12_mths_ex_med_10  woe_disc_acc_now_delinq_10  \\\n",
       "0                                     0.0                         0.0   \n",
       "1                                     0.0                         0.0   \n",
       "2                                     0.0                         0.0   \n",
       "3                                     0.0                         0.0   \n",
       "4                                     0.0                         0.0   \n",
       "\n",
       "   woe_disc_tot_coll_amt_10  woe_disc_delinq_2yrs_10  \\\n",
       "0                 -0.011181                 0.002178   \n",
       "1                  0.104867                 0.002178   \n",
       "2                 -0.011181                 0.002178   \n",
       "3                 -0.011181                -0.009944   \n",
       "4                 -0.011181                 0.002178   \n",
       "\n",
       "   woe_disc_inq_last_6mths_10  woe_disc_pub_rec_10  \\\n",
       "0                   -0.057666            -0.009284   \n",
       "1                    0.194658            -0.009284   \n",
       "2                    0.194658            -0.009284   \n",
       "3                   -0.057666            -0.009284   \n",
       "4                    0.194658            -0.009284   \n",
       "\n",
       "   woe_disc_mths_since_last_delinq  woe_disc_mths_since_last_record  \\\n",
       "0                        -0.014101                        -0.009272   \n",
       "1                        -0.014101                        -0.009272   \n",
       "2                        -0.014101                        -0.009272   \n",
       "3                        -0.034197                        -0.009272   \n",
       "4                        -0.014101                        -0.009272   \n",
       "\n",
       "   woe_disc_mths_since_last_major_derog  \n",
       "0                             -0.018471  \n",
       "1                             -0.018471  \n",
       "2                             -0.018471  \n",
       "3                             -0.018471  \n",
       "4                             -0.018471  "
      ]
     },
     "execution_count": 3,
     "metadata": {},
     "output_type": "execute_result"
    }
   ],
   "source": [
    "train=pd.read_csv('~/train_discretizado.csv')\n",
    "train.head()"
   ]
  },
  {
   "attachments": {},
   "cell_type": "markdown",
   "metadata": {},
   "source": [
    "## Selección de variables"
   ]
  },
  {
   "cell_type": "code",
   "execution_count": 4,
   "metadata": {},
   "outputs": [],
   "source": [
    "vard=['term', 'grade', 'emp_length', 'home_ownership', 'verification_status', 'pymnt_plan',\n",
    "       'purpose', 'addr_state', 'initial_list_status', ]\n",
    "\n",
    "vars=[v for v in train.columns if v[:4]=='disc']+vard\n",
    "\n",
    "um = 'id'\n",
    "\n",
    "target='target'"
   ]
  },
  {
   "attachments": {},
   "cell_type": "markdown",
   "metadata": {},
   "source": [
    "### IV"
   ]
  },
  {
   "cell_type": "code",
   "execution_count": 5,
   "metadata": {},
   "outputs": [
    {
     "data": {
      "application/vnd.plotly.v1+json": {
       "config": {
        "linkText": "Export to plot.ly",
        "plotlyServerURL": "https://plot.ly",
        "showLink": true
       },
       "data": [
        {
         "marker": {
          "color": "rgba(255, 153, 51, 0.6)",
          "line": {
           "color": "rgba(255, 153, 51, 1.0)",
           "width": 1
          }
         },
         "name": "iv",
         "orientation": "v",
         "text": "",
         "type": "bar",
         "x": [
          "disc_int_rate_10",
          "disc_int_rate_9",
          "disc_int_rate_7",
          "disc_int_rate_8",
          "disc_int_rate_6",
          "disc_int_rate_5",
          "grade",
          "disc_int_rate_4",
          "disc_tot_cur_bal_10",
          "disc_total_rev_hi_lim_10",
          "disc_annual_inc_10",
          "disc_annual_inc_8",
          "disc_annual_inc_9",
          "disc_tot_cur_bal_8",
          "disc_annual_inc_7",
          "disc_annual_inc_6",
          "disc_total_rev_hi_lim_8",
          "disc_annual_inc_5",
          "disc_tot_cur_bal_5",
          "disc_annual_inc_4",
          "disc_tot_cur_bal_9",
          "disc_total_rev_hi_lim_5",
          "disc_tot_cur_bal_6",
          "disc_total_rev_hi_lim_9",
          "disc_total_rev_hi_lim_6",
          "disc_inq_last_6mths_5",
          "disc_inq_last_6mths_7",
          "disc_inq_last_6mths_6",
          "disc_inq_last_6mths_9",
          "disc_inq_last_6mths_10",
          "disc_inq_last_6mths_8",
          "disc_tot_cur_bal_7",
          "disc_total_rev_hi_lim_7",
          "term",
          "disc_total_rev_hi_lim_4",
          "disc_tot_cur_bal_4",
          "purpose",
          "disc_inq_last_6mths_4",
          "disc_mths_between_issued_earliest_cr_10",
          "disc_mths_between_issued_earliest_cr_8",
          "disc_mths_between_issued_earliest_cr_9",
          "disc_dti_9",
          "disc_dti_10",
          "disc_mths_between_issued_earliest_cr_7",
          "disc_dti_7",
          "disc_dti_6",
          "disc_dti_8",
          "disc_revol_util_8",
          "disc_dti_5",
          "disc_revol_util_10",
          "disc_mths_between_issued_earliest_cr_6",
          "disc_mths_between_issued_earliest_cr_5",
          "disc_mths_between_issued_earliest_cr_4",
          "disc_revol_util_9",
          "initial_list_status",
          "disc_dti_4",
          "disc_revol_util_6",
          "disc_revol_util_7",
          "disc_revol_util_4",
          "disc_revol_util_5",
          "home_ownership",
          "verification_status"
         ],
         "y": [
          0.32112426391765225,
          0.3208221734709003,
          0.31364114899837425,
          0.3071074399347444,
          0.3028705103070906,
          0.29359943291777524,
          0.2866780942739553,
          0.28229561247229734,
          0.056532475096277734,
          0.05530541509442145,
          0.053487676873511567,
          0.05293303797682014,
          0.052611611403131635,
          0.052244119978582956,
          0.05219579946313471,
          0.05189013861752856,
          0.050923867168895326,
          0.05070663876776285,
          0.05066714835330562,
          0.05035183680520838,
          0.049003070198436194,
          0.04850434947573053,
          0.04793789313899624,
          0.047428369760387834,
          0.045365876304812466,
          0.04469671533788752,
          0.04469671533788752,
          0.04469671533788752,
          0.04469671533788752,
          0.04469671533788752,
          0.04469671533788752,
          0.04396841802530568,
          0.04261916308939272,
          0.040271032334374096,
          0.037157072966532485,
          0.03626038086712387,
          0.03501218435909522,
          0.03500772589535765,
          0.027387627706688396,
          0.027385799002874914,
          0.02693316892852016,
          0.026517538746327667,
          0.026508633621101365,
          0.02647841478666068,
          0.02614253897465486,
          0.026131728691669742,
          0.025920263297789337,
          0.025749500757787678,
          0.025749290881956412,
          0.025677714177921,
          0.025573440422565603,
          0.02549947127177281,
          0.025495548990962662,
          0.025455350109980682,
          0.025249968872069685,
          0.02517826684850579,
          0.024859922643295014,
          0.02472274626130516,
          0.024022847301533964,
          0.023721304218180597,
          0.020973397058951078,
          0.020631933671714543
         ]
        }
       ],
       "layout": {
        "legend": {
         "bgcolor": "#F5F6F9",
         "font": {
          "color": "#4D5663"
         }
        },
        "paper_bgcolor": "#F5F6F9",
        "plot_bgcolor": "#F5F6F9",
        "template": {
         "data": {
          "bar": [
           {
            "error_x": {
             "color": "#2a3f5f"
            },
            "error_y": {
             "color": "#2a3f5f"
            },
            "marker": {
             "line": {
              "color": "#E5ECF6",
              "width": 0.5
             },
             "pattern": {
              "fillmode": "overlay",
              "size": 10,
              "solidity": 0.2
             }
            },
            "type": "bar"
           }
          ],
          "barpolar": [
           {
            "marker": {
             "line": {
              "color": "#E5ECF6",
              "width": 0.5
             },
             "pattern": {
              "fillmode": "overlay",
              "size": 10,
              "solidity": 0.2
             }
            },
            "type": "barpolar"
           }
          ],
          "carpet": [
           {
            "aaxis": {
             "endlinecolor": "#2a3f5f",
             "gridcolor": "white",
             "linecolor": "white",
             "minorgridcolor": "white",
             "startlinecolor": "#2a3f5f"
            },
            "baxis": {
             "endlinecolor": "#2a3f5f",
             "gridcolor": "white",
             "linecolor": "white",
             "minorgridcolor": "white",
             "startlinecolor": "#2a3f5f"
            },
            "type": "carpet"
           }
          ],
          "choropleth": [
           {
            "colorbar": {
             "outlinewidth": 0,
             "ticks": ""
            },
            "type": "choropleth"
           }
          ],
          "contour": [
           {
            "colorbar": {
             "outlinewidth": 0,
             "ticks": ""
            },
            "colorscale": [
             [
              0,
              "#0d0887"
             ],
             [
              0.1111111111111111,
              "#46039f"
             ],
             [
              0.2222222222222222,
              "#7201a8"
             ],
             [
              0.3333333333333333,
              "#9c179e"
             ],
             [
              0.4444444444444444,
              "#bd3786"
             ],
             [
              0.5555555555555556,
              "#d8576b"
             ],
             [
              0.6666666666666666,
              "#ed7953"
             ],
             [
              0.7777777777777778,
              "#fb9f3a"
             ],
             [
              0.8888888888888888,
              "#fdca26"
             ],
             [
              1,
              "#f0f921"
             ]
            ],
            "type": "contour"
           }
          ],
          "contourcarpet": [
           {
            "colorbar": {
             "outlinewidth": 0,
             "ticks": ""
            },
            "type": "contourcarpet"
           }
          ],
          "heatmap": [
           {
            "colorbar": {
             "outlinewidth": 0,
             "ticks": ""
            },
            "colorscale": [
             [
              0,
              "#0d0887"
             ],
             [
              0.1111111111111111,
              "#46039f"
             ],
             [
              0.2222222222222222,
              "#7201a8"
             ],
             [
              0.3333333333333333,
              "#9c179e"
             ],
             [
              0.4444444444444444,
              "#bd3786"
             ],
             [
              0.5555555555555556,
              "#d8576b"
             ],
             [
              0.6666666666666666,
              "#ed7953"
             ],
             [
              0.7777777777777778,
              "#fb9f3a"
             ],
             [
              0.8888888888888888,
              "#fdca26"
             ],
             [
              1,
              "#f0f921"
             ]
            ],
            "type": "heatmap"
           }
          ],
          "heatmapgl": [
           {
            "colorbar": {
             "outlinewidth": 0,
             "ticks": ""
            },
            "colorscale": [
             [
              0,
              "#0d0887"
             ],
             [
              0.1111111111111111,
              "#46039f"
             ],
             [
              0.2222222222222222,
              "#7201a8"
             ],
             [
              0.3333333333333333,
              "#9c179e"
             ],
             [
              0.4444444444444444,
              "#bd3786"
             ],
             [
              0.5555555555555556,
              "#d8576b"
             ],
             [
              0.6666666666666666,
              "#ed7953"
             ],
             [
              0.7777777777777778,
              "#fb9f3a"
             ],
             [
              0.8888888888888888,
              "#fdca26"
             ],
             [
              1,
              "#f0f921"
             ]
            ],
            "type": "heatmapgl"
           }
          ],
          "histogram": [
           {
            "marker": {
             "pattern": {
              "fillmode": "overlay",
              "size": 10,
              "solidity": 0.2
             }
            },
            "type": "histogram"
           }
          ],
          "histogram2d": [
           {
            "colorbar": {
             "outlinewidth": 0,
             "ticks": ""
            },
            "colorscale": [
             [
              0,
              "#0d0887"
             ],
             [
              0.1111111111111111,
              "#46039f"
             ],
             [
              0.2222222222222222,
              "#7201a8"
             ],
             [
              0.3333333333333333,
              "#9c179e"
             ],
             [
              0.4444444444444444,
              "#bd3786"
             ],
             [
              0.5555555555555556,
              "#d8576b"
             ],
             [
              0.6666666666666666,
              "#ed7953"
             ],
             [
              0.7777777777777778,
              "#fb9f3a"
             ],
             [
              0.8888888888888888,
              "#fdca26"
             ],
             [
              1,
              "#f0f921"
             ]
            ],
            "type": "histogram2d"
           }
          ],
          "histogram2dcontour": [
           {
            "colorbar": {
             "outlinewidth": 0,
             "ticks": ""
            },
            "colorscale": [
             [
              0,
              "#0d0887"
             ],
             [
              0.1111111111111111,
              "#46039f"
             ],
             [
              0.2222222222222222,
              "#7201a8"
             ],
             [
              0.3333333333333333,
              "#9c179e"
             ],
             [
              0.4444444444444444,
              "#bd3786"
             ],
             [
              0.5555555555555556,
              "#d8576b"
             ],
             [
              0.6666666666666666,
              "#ed7953"
             ],
             [
              0.7777777777777778,
              "#fb9f3a"
             ],
             [
              0.8888888888888888,
              "#fdca26"
             ],
             [
              1,
              "#f0f921"
             ]
            ],
            "type": "histogram2dcontour"
           }
          ],
          "mesh3d": [
           {
            "colorbar": {
             "outlinewidth": 0,
             "ticks": ""
            },
            "type": "mesh3d"
           }
          ],
          "parcoords": [
           {
            "line": {
             "colorbar": {
              "outlinewidth": 0,
              "ticks": ""
             }
            },
            "type": "parcoords"
           }
          ],
          "pie": [
           {
            "automargin": true,
            "type": "pie"
           }
          ],
          "scatter": [
           {
            "fillpattern": {
             "fillmode": "overlay",
             "size": 10,
             "solidity": 0.2
            },
            "type": "scatter"
           }
          ],
          "scatter3d": [
           {
            "line": {
             "colorbar": {
              "outlinewidth": 0,
              "ticks": ""
             }
            },
            "marker": {
             "colorbar": {
              "outlinewidth": 0,
              "ticks": ""
             }
            },
            "type": "scatter3d"
           }
          ],
          "scattercarpet": [
           {
            "marker": {
             "colorbar": {
              "outlinewidth": 0,
              "ticks": ""
             }
            },
            "type": "scattercarpet"
           }
          ],
          "scattergeo": [
           {
            "marker": {
             "colorbar": {
              "outlinewidth": 0,
              "ticks": ""
             }
            },
            "type": "scattergeo"
           }
          ],
          "scattergl": [
           {
            "marker": {
             "colorbar": {
              "outlinewidth": 0,
              "ticks": ""
             }
            },
            "type": "scattergl"
           }
          ],
          "scattermapbox": [
           {
            "marker": {
             "colorbar": {
              "outlinewidth": 0,
              "ticks": ""
             }
            },
            "type": "scattermapbox"
           }
          ],
          "scatterpolar": [
           {
            "marker": {
             "colorbar": {
              "outlinewidth": 0,
              "ticks": ""
             }
            },
            "type": "scatterpolar"
           }
          ],
          "scatterpolargl": [
           {
            "marker": {
             "colorbar": {
              "outlinewidth": 0,
              "ticks": ""
             }
            },
            "type": "scatterpolargl"
           }
          ],
          "scatterternary": [
           {
            "marker": {
             "colorbar": {
              "outlinewidth": 0,
              "ticks": ""
             }
            },
            "type": "scatterternary"
           }
          ],
          "surface": [
           {
            "colorbar": {
             "outlinewidth": 0,
             "ticks": ""
            },
            "colorscale": [
             [
              0,
              "#0d0887"
             ],
             [
              0.1111111111111111,
              "#46039f"
             ],
             [
              0.2222222222222222,
              "#7201a8"
             ],
             [
              0.3333333333333333,
              "#9c179e"
             ],
             [
              0.4444444444444444,
              "#bd3786"
             ],
             [
              0.5555555555555556,
              "#d8576b"
             ],
             [
              0.6666666666666666,
              "#ed7953"
             ],
             [
              0.7777777777777778,
              "#fb9f3a"
             ],
             [
              0.8888888888888888,
              "#fdca26"
             ],
             [
              1,
              "#f0f921"
             ]
            ],
            "type": "surface"
           }
          ],
          "table": [
           {
            "cells": {
             "fill": {
              "color": "#EBF0F8"
             },
             "line": {
              "color": "white"
             }
            },
            "header": {
             "fill": {
              "color": "#C8D4E3"
             },
             "line": {
              "color": "white"
             }
            },
            "type": "table"
           }
          ]
         },
         "layout": {
          "annotationdefaults": {
           "arrowcolor": "#2a3f5f",
           "arrowhead": 0,
           "arrowwidth": 1
          },
          "autotypenumbers": "strict",
          "coloraxis": {
           "colorbar": {
            "outlinewidth": 0,
            "ticks": ""
           }
          },
          "colorscale": {
           "diverging": [
            [
             0,
             "#8e0152"
            ],
            [
             0.1,
             "#c51b7d"
            ],
            [
             0.2,
             "#de77ae"
            ],
            [
             0.3,
             "#f1b6da"
            ],
            [
             0.4,
             "#fde0ef"
            ],
            [
             0.5,
             "#f7f7f7"
            ],
            [
             0.6,
             "#e6f5d0"
            ],
            [
             0.7,
             "#b8e186"
            ],
            [
             0.8,
             "#7fbc41"
            ],
            [
             0.9,
             "#4d9221"
            ],
            [
             1,
             "#276419"
            ]
           ],
           "sequential": [
            [
             0,
             "#0d0887"
            ],
            [
             0.1111111111111111,
             "#46039f"
            ],
            [
             0.2222222222222222,
             "#7201a8"
            ],
            [
             0.3333333333333333,
             "#9c179e"
            ],
            [
             0.4444444444444444,
             "#bd3786"
            ],
            [
             0.5555555555555556,
             "#d8576b"
            ],
            [
             0.6666666666666666,
             "#ed7953"
            ],
            [
             0.7777777777777778,
             "#fb9f3a"
            ],
            [
             0.8888888888888888,
             "#fdca26"
            ],
            [
             1,
             "#f0f921"
            ]
           ],
           "sequentialminus": [
            [
             0,
             "#0d0887"
            ],
            [
             0.1111111111111111,
             "#46039f"
            ],
            [
             0.2222222222222222,
             "#7201a8"
            ],
            [
             0.3333333333333333,
             "#9c179e"
            ],
            [
             0.4444444444444444,
             "#bd3786"
            ],
            [
             0.5555555555555556,
             "#d8576b"
            ],
            [
             0.6666666666666666,
             "#ed7953"
            ],
            [
             0.7777777777777778,
             "#fb9f3a"
            ],
            [
             0.8888888888888888,
             "#fdca26"
            ],
            [
             1,
             "#f0f921"
            ]
           ]
          },
          "colorway": [
           "#636efa",
           "#EF553B",
           "#00cc96",
           "#ab63fa",
           "#FFA15A",
           "#19d3f3",
           "#FF6692",
           "#B6E880",
           "#FF97FF",
           "#FECB52"
          ],
          "font": {
           "color": "#2a3f5f"
          },
          "geo": {
           "bgcolor": "white",
           "lakecolor": "white",
           "landcolor": "#E5ECF6",
           "showlakes": true,
           "showland": true,
           "subunitcolor": "white"
          },
          "hoverlabel": {
           "align": "left"
          },
          "hovermode": "closest",
          "mapbox": {
           "style": "light"
          },
          "paper_bgcolor": "white",
          "plot_bgcolor": "#E5ECF6",
          "polar": {
           "angularaxis": {
            "gridcolor": "white",
            "linecolor": "white",
            "ticks": ""
           },
           "bgcolor": "#E5ECF6",
           "radialaxis": {
            "gridcolor": "white",
            "linecolor": "white",
            "ticks": ""
           }
          },
          "scene": {
           "xaxis": {
            "backgroundcolor": "#E5ECF6",
            "gridcolor": "white",
            "gridwidth": 2,
            "linecolor": "white",
            "showbackground": true,
            "ticks": "",
            "zerolinecolor": "white"
           },
           "yaxis": {
            "backgroundcolor": "#E5ECF6",
            "gridcolor": "white",
            "gridwidth": 2,
            "linecolor": "white",
            "showbackground": true,
            "ticks": "",
            "zerolinecolor": "white"
           },
           "zaxis": {
            "backgroundcolor": "#E5ECF6",
            "gridcolor": "white",
            "gridwidth": 2,
            "linecolor": "white",
            "showbackground": true,
            "ticks": "",
            "zerolinecolor": "white"
           }
          },
          "shapedefaults": {
           "line": {
            "color": "#2a3f5f"
           }
          },
          "ternary": {
           "aaxis": {
            "gridcolor": "white",
            "linecolor": "white",
            "ticks": ""
           },
           "baxis": {
            "gridcolor": "white",
            "linecolor": "white",
            "ticks": ""
           },
           "bgcolor": "#E5ECF6",
           "caxis": {
            "gridcolor": "white",
            "linecolor": "white",
            "ticks": ""
           }
          },
          "title": {
           "x": 0.05
          },
          "xaxis": {
           "automargin": true,
           "gridcolor": "white",
           "linecolor": "white",
           "ticks": "",
           "title": {
            "standoff": 15
           },
           "zerolinecolor": "white",
           "zerolinewidth": 2
          },
          "yaxis": {
           "automargin": true,
           "gridcolor": "white",
           "linecolor": "white",
           "ticks": "",
           "title": {
            "standoff": 15
           },
           "zerolinecolor": "white",
           "zerolinewidth": 2
          }
         }
        },
        "title": {
         "font": {
          "color": "#4D5663"
         },
         "text": "IV de las variables discretizadas"
        },
        "xaxis": {
         "gridcolor": "#E1E5ED",
         "showgrid": true,
         "tickfont": {
          "color": "#4D5663"
         },
         "title": {
          "font": {
           "color": "#4D5663"
          },
          "text": ""
         },
         "zerolinecolor": "#E1E5ED"
        },
        "yaxis": {
         "gridcolor": "#E1E5ED",
         "showgrid": true,
         "tickfont": {
          "color": "#4D5663"
         },
         "title": {
          "font": {
           "color": "#4D5663"
          },
          "text": ""
         },
         "zerolinecolor": "#E1E5ED"
        }
       }
      },
      "text/html": [
       "<div>                            <div id=\"517d4379-6e07-48c0-9d88-042934a85871\" class=\"plotly-graph-div\" style=\"height:525px; width:100%;\"></div>            <script type=\"text/javascript\">                require([\"plotly\"], function(Plotly) {                    window.PLOTLYENV=window.PLOTLYENV || {};\n",
       "                    window.PLOTLYENV.BASE_URL='https://plot.ly';                                    if (document.getElementById(\"517d4379-6e07-48c0-9d88-042934a85871\")) {                    Plotly.newPlot(                        \"517d4379-6e07-48c0-9d88-042934a85871\",                        [{\"marker\":{\"color\":\"rgba(255, 153, 51, 0.6)\",\"line\":{\"color\":\"rgba(255, 153, 51, 1.0)\",\"width\":1}},\"name\":\"iv\",\"orientation\":\"v\",\"text\":\"\",\"x\":[\"disc_int_rate_10\",\"disc_int_rate_9\",\"disc_int_rate_7\",\"disc_int_rate_8\",\"disc_int_rate_6\",\"disc_int_rate_5\",\"grade\",\"disc_int_rate_4\",\"disc_tot_cur_bal_10\",\"disc_total_rev_hi_lim_10\",\"disc_annual_inc_10\",\"disc_annual_inc_8\",\"disc_annual_inc_9\",\"disc_tot_cur_bal_8\",\"disc_annual_inc_7\",\"disc_annual_inc_6\",\"disc_total_rev_hi_lim_8\",\"disc_annual_inc_5\",\"disc_tot_cur_bal_5\",\"disc_annual_inc_4\",\"disc_tot_cur_bal_9\",\"disc_total_rev_hi_lim_5\",\"disc_tot_cur_bal_6\",\"disc_total_rev_hi_lim_9\",\"disc_total_rev_hi_lim_6\",\"disc_inq_last_6mths_5\",\"disc_inq_last_6mths_7\",\"disc_inq_last_6mths_6\",\"disc_inq_last_6mths_9\",\"disc_inq_last_6mths_10\",\"disc_inq_last_6mths_8\",\"disc_tot_cur_bal_7\",\"disc_total_rev_hi_lim_7\",\"term\",\"disc_total_rev_hi_lim_4\",\"disc_tot_cur_bal_4\",\"purpose\",\"disc_inq_last_6mths_4\",\"disc_mths_between_issued_earliest_cr_10\",\"disc_mths_between_issued_earliest_cr_8\",\"disc_mths_between_issued_earliest_cr_9\",\"disc_dti_9\",\"disc_dti_10\",\"disc_mths_between_issued_earliest_cr_7\",\"disc_dti_7\",\"disc_dti_6\",\"disc_dti_8\",\"disc_revol_util_8\",\"disc_dti_5\",\"disc_revol_util_10\",\"disc_mths_between_issued_earliest_cr_6\",\"disc_mths_between_issued_earliest_cr_5\",\"disc_mths_between_issued_earliest_cr_4\",\"disc_revol_util_9\",\"initial_list_status\",\"disc_dti_4\",\"disc_revol_util_6\",\"disc_revol_util_7\",\"disc_revol_util_4\",\"disc_revol_util_5\",\"home_ownership\",\"verification_status\"],\"y\":[0.32112426391765225,0.3208221734709003,0.31364114899837425,0.3071074399347444,0.3028705103070906,0.29359943291777524,0.2866780942739553,0.28229561247229734,0.056532475096277734,0.05530541509442145,0.053487676873511567,0.05293303797682014,0.052611611403131635,0.052244119978582956,0.05219579946313471,0.05189013861752856,0.050923867168895326,0.05070663876776285,0.05066714835330562,0.05035183680520838,0.049003070198436194,0.04850434947573053,0.04793789313899624,0.047428369760387834,0.045365876304812466,0.04469671533788752,0.04469671533788752,0.04469671533788752,0.04469671533788752,0.04469671533788752,0.04469671533788752,0.04396841802530568,0.04261916308939272,0.040271032334374096,0.037157072966532485,0.03626038086712387,0.03501218435909522,0.03500772589535765,0.027387627706688396,0.027385799002874914,0.02693316892852016,0.026517538746327667,0.026508633621101365,0.02647841478666068,0.02614253897465486,0.026131728691669742,0.025920263297789337,0.025749500757787678,0.025749290881956412,0.025677714177921,0.025573440422565603,0.02549947127177281,0.025495548990962662,0.025455350109980682,0.025249968872069685,0.02517826684850579,0.024859922643295014,0.02472274626130516,0.024022847301533964,0.023721304218180597,0.020973397058951078,0.020631933671714543],\"type\":\"bar\"}],                        {\"legend\":{\"bgcolor\":\"#F5F6F9\",\"font\":{\"color\":\"#4D5663\"}},\"paper_bgcolor\":\"#F5F6F9\",\"plot_bgcolor\":\"#F5F6F9\",\"template\":{\"data\":{\"barpolar\":[{\"marker\":{\"line\":{\"color\":\"#E5ECF6\",\"width\":0.5},\"pattern\":{\"fillmode\":\"overlay\",\"size\":10,\"solidity\":0.2}},\"type\":\"barpolar\"}],\"bar\":[{\"error_x\":{\"color\":\"#2a3f5f\"},\"error_y\":{\"color\":\"#2a3f5f\"},\"marker\":{\"line\":{\"color\":\"#E5ECF6\",\"width\":0.5},\"pattern\":{\"fillmode\":\"overlay\",\"size\":10,\"solidity\":0.2}},\"type\":\"bar\"}],\"carpet\":[{\"aaxis\":{\"endlinecolor\":\"#2a3f5f\",\"gridcolor\":\"white\",\"linecolor\":\"white\",\"minorgridcolor\":\"white\",\"startlinecolor\":\"#2a3f5f\"},\"baxis\":{\"endlinecolor\":\"#2a3f5f\",\"gridcolor\":\"white\",\"linecolor\":\"white\",\"minorgridcolor\":\"white\",\"startlinecolor\":\"#2a3f5f\"},\"type\":\"carpet\"}],\"choropleth\":[{\"colorbar\":{\"outlinewidth\":0,\"ticks\":\"\"},\"type\":\"choropleth\"}],\"contourcarpet\":[{\"colorbar\":{\"outlinewidth\":0,\"ticks\":\"\"},\"type\":\"contourcarpet\"}],\"contour\":[{\"colorbar\":{\"outlinewidth\":0,\"ticks\":\"\"},\"colorscale\":[[0.0,\"#0d0887\"],[0.1111111111111111,\"#46039f\"],[0.2222222222222222,\"#7201a8\"],[0.3333333333333333,\"#9c179e\"],[0.4444444444444444,\"#bd3786\"],[0.5555555555555556,\"#d8576b\"],[0.6666666666666666,\"#ed7953\"],[0.7777777777777778,\"#fb9f3a\"],[0.8888888888888888,\"#fdca26\"],[1.0,\"#f0f921\"]],\"type\":\"contour\"}],\"heatmapgl\":[{\"colorbar\":{\"outlinewidth\":0,\"ticks\":\"\"},\"colorscale\":[[0.0,\"#0d0887\"],[0.1111111111111111,\"#46039f\"],[0.2222222222222222,\"#7201a8\"],[0.3333333333333333,\"#9c179e\"],[0.4444444444444444,\"#bd3786\"],[0.5555555555555556,\"#d8576b\"],[0.6666666666666666,\"#ed7953\"],[0.7777777777777778,\"#fb9f3a\"],[0.8888888888888888,\"#fdca26\"],[1.0,\"#f0f921\"]],\"type\":\"heatmapgl\"}],\"heatmap\":[{\"colorbar\":{\"outlinewidth\":0,\"ticks\":\"\"},\"colorscale\":[[0.0,\"#0d0887\"],[0.1111111111111111,\"#46039f\"],[0.2222222222222222,\"#7201a8\"],[0.3333333333333333,\"#9c179e\"],[0.4444444444444444,\"#bd3786\"],[0.5555555555555556,\"#d8576b\"],[0.6666666666666666,\"#ed7953\"],[0.7777777777777778,\"#fb9f3a\"],[0.8888888888888888,\"#fdca26\"],[1.0,\"#f0f921\"]],\"type\":\"heatmap\"}],\"histogram2dcontour\":[{\"colorbar\":{\"outlinewidth\":0,\"ticks\":\"\"},\"colorscale\":[[0.0,\"#0d0887\"],[0.1111111111111111,\"#46039f\"],[0.2222222222222222,\"#7201a8\"],[0.3333333333333333,\"#9c179e\"],[0.4444444444444444,\"#bd3786\"],[0.5555555555555556,\"#d8576b\"],[0.6666666666666666,\"#ed7953\"],[0.7777777777777778,\"#fb9f3a\"],[0.8888888888888888,\"#fdca26\"],[1.0,\"#f0f921\"]],\"type\":\"histogram2dcontour\"}],\"histogram2d\":[{\"colorbar\":{\"outlinewidth\":0,\"ticks\":\"\"},\"colorscale\":[[0.0,\"#0d0887\"],[0.1111111111111111,\"#46039f\"],[0.2222222222222222,\"#7201a8\"],[0.3333333333333333,\"#9c179e\"],[0.4444444444444444,\"#bd3786\"],[0.5555555555555556,\"#d8576b\"],[0.6666666666666666,\"#ed7953\"],[0.7777777777777778,\"#fb9f3a\"],[0.8888888888888888,\"#fdca26\"],[1.0,\"#f0f921\"]],\"type\":\"histogram2d\"}],\"histogram\":[{\"marker\":{\"pattern\":{\"fillmode\":\"overlay\",\"size\":10,\"solidity\":0.2}},\"type\":\"histogram\"}],\"mesh3d\":[{\"colorbar\":{\"outlinewidth\":0,\"ticks\":\"\"},\"type\":\"mesh3d\"}],\"parcoords\":[{\"line\":{\"colorbar\":{\"outlinewidth\":0,\"ticks\":\"\"}},\"type\":\"parcoords\"}],\"pie\":[{\"automargin\":true,\"type\":\"pie\"}],\"scatter3d\":[{\"line\":{\"colorbar\":{\"outlinewidth\":0,\"ticks\":\"\"}},\"marker\":{\"colorbar\":{\"outlinewidth\":0,\"ticks\":\"\"}},\"type\":\"scatter3d\"}],\"scattercarpet\":[{\"marker\":{\"colorbar\":{\"outlinewidth\":0,\"ticks\":\"\"}},\"type\":\"scattercarpet\"}],\"scattergeo\":[{\"marker\":{\"colorbar\":{\"outlinewidth\":0,\"ticks\":\"\"}},\"type\":\"scattergeo\"}],\"scattergl\":[{\"marker\":{\"colorbar\":{\"outlinewidth\":0,\"ticks\":\"\"}},\"type\":\"scattergl\"}],\"scattermapbox\":[{\"marker\":{\"colorbar\":{\"outlinewidth\":0,\"ticks\":\"\"}},\"type\":\"scattermapbox\"}],\"scatterpolargl\":[{\"marker\":{\"colorbar\":{\"outlinewidth\":0,\"ticks\":\"\"}},\"type\":\"scatterpolargl\"}],\"scatterpolar\":[{\"marker\":{\"colorbar\":{\"outlinewidth\":0,\"ticks\":\"\"}},\"type\":\"scatterpolar\"}],\"scatter\":[{\"fillpattern\":{\"fillmode\":\"overlay\",\"size\":10,\"solidity\":0.2},\"type\":\"scatter\"}],\"scatterternary\":[{\"marker\":{\"colorbar\":{\"outlinewidth\":0,\"ticks\":\"\"}},\"type\":\"scatterternary\"}],\"surface\":[{\"colorbar\":{\"outlinewidth\":0,\"ticks\":\"\"},\"colorscale\":[[0.0,\"#0d0887\"],[0.1111111111111111,\"#46039f\"],[0.2222222222222222,\"#7201a8\"],[0.3333333333333333,\"#9c179e\"],[0.4444444444444444,\"#bd3786\"],[0.5555555555555556,\"#d8576b\"],[0.6666666666666666,\"#ed7953\"],[0.7777777777777778,\"#fb9f3a\"],[0.8888888888888888,\"#fdca26\"],[1.0,\"#f0f921\"]],\"type\":\"surface\"}],\"table\":[{\"cells\":{\"fill\":{\"color\":\"#EBF0F8\"},\"line\":{\"color\":\"white\"}},\"header\":{\"fill\":{\"color\":\"#C8D4E3\"},\"line\":{\"color\":\"white\"}},\"type\":\"table\"}]},\"layout\":{\"annotationdefaults\":{\"arrowcolor\":\"#2a3f5f\",\"arrowhead\":0,\"arrowwidth\":1},\"autotypenumbers\":\"strict\",\"coloraxis\":{\"colorbar\":{\"outlinewidth\":0,\"ticks\":\"\"}},\"colorscale\":{\"diverging\":[[0,\"#8e0152\"],[0.1,\"#c51b7d\"],[0.2,\"#de77ae\"],[0.3,\"#f1b6da\"],[0.4,\"#fde0ef\"],[0.5,\"#f7f7f7\"],[0.6,\"#e6f5d0\"],[0.7,\"#b8e186\"],[0.8,\"#7fbc41\"],[0.9,\"#4d9221\"],[1,\"#276419\"]],\"sequential\":[[0.0,\"#0d0887\"],[0.1111111111111111,\"#46039f\"],[0.2222222222222222,\"#7201a8\"],[0.3333333333333333,\"#9c179e\"],[0.4444444444444444,\"#bd3786\"],[0.5555555555555556,\"#d8576b\"],[0.6666666666666666,\"#ed7953\"],[0.7777777777777778,\"#fb9f3a\"],[0.8888888888888888,\"#fdca26\"],[1.0,\"#f0f921\"]],\"sequentialminus\":[[0.0,\"#0d0887\"],[0.1111111111111111,\"#46039f\"],[0.2222222222222222,\"#7201a8\"],[0.3333333333333333,\"#9c179e\"],[0.4444444444444444,\"#bd3786\"],[0.5555555555555556,\"#d8576b\"],[0.6666666666666666,\"#ed7953\"],[0.7777777777777778,\"#fb9f3a\"],[0.8888888888888888,\"#fdca26\"],[1.0,\"#f0f921\"]]},\"colorway\":[\"#636efa\",\"#EF553B\",\"#00cc96\",\"#ab63fa\",\"#FFA15A\",\"#19d3f3\",\"#FF6692\",\"#B6E880\",\"#FF97FF\",\"#FECB52\"],\"font\":{\"color\":\"#2a3f5f\"},\"geo\":{\"bgcolor\":\"white\",\"lakecolor\":\"white\",\"landcolor\":\"#E5ECF6\",\"showlakes\":true,\"showland\":true,\"subunitcolor\":\"white\"},\"hoverlabel\":{\"align\":\"left\"},\"hovermode\":\"closest\",\"mapbox\":{\"style\":\"light\"},\"paper_bgcolor\":\"white\",\"plot_bgcolor\":\"#E5ECF6\",\"polar\":{\"angularaxis\":{\"gridcolor\":\"white\",\"linecolor\":\"white\",\"ticks\":\"\"},\"bgcolor\":\"#E5ECF6\",\"radialaxis\":{\"gridcolor\":\"white\",\"linecolor\":\"white\",\"ticks\":\"\"}},\"scene\":{\"xaxis\":{\"backgroundcolor\":\"#E5ECF6\",\"gridcolor\":\"white\",\"gridwidth\":2,\"linecolor\":\"white\",\"showbackground\":true,\"ticks\":\"\",\"zerolinecolor\":\"white\"},\"yaxis\":{\"backgroundcolor\":\"#E5ECF6\",\"gridcolor\":\"white\",\"gridwidth\":2,\"linecolor\":\"white\",\"showbackground\":true,\"ticks\":\"\",\"zerolinecolor\":\"white\"},\"zaxis\":{\"backgroundcolor\":\"#E5ECF6\",\"gridcolor\":\"white\",\"gridwidth\":2,\"linecolor\":\"white\",\"showbackground\":true,\"ticks\":\"\",\"zerolinecolor\":\"white\"}},\"shapedefaults\":{\"line\":{\"color\":\"#2a3f5f\"}},\"ternary\":{\"aaxis\":{\"gridcolor\":\"white\",\"linecolor\":\"white\",\"ticks\":\"\"},\"baxis\":{\"gridcolor\":\"white\",\"linecolor\":\"white\",\"ticks\":\"\"},\"bgcolor\":\"#E5ECF6\",\"caxis\":{\"gridcolor\":\"white\",\"linecolor\":\"white\",\"ticks\":\"\"}},\"title\":{\"x\":0.05},\"xaxis\":{\"automargin\":true,\"gridcolor\":\"white\",\"linecolor\":\"white\",\"ticks\":\"\",\"title\":{\"standoff\":15},\"zerolinecolor\":\"white\",\"zerolinewidth\":2},\"yaxis\":{\"automargin\":true,\"gridcolor\":\"white\",\"linecolor\":\"white\",\"ticks\":\"\",\"title\":{\"standoff\":15},\"zerolinecolor\":\"white\",\"zerolinewidth\":2}}},\"title\":{\"font\":{\"color\":\"#4D5663\"},\"text\":\"IV de las variables discretizadas\"},\"xaxis\":{\"gridcolor\":\"#E1E5ED\",\"showgrid\":true,\"tickfont\":{\"color\":\"#4D5663\"},\"title\":{\"font\":{\"color\":\"#4D5663\"},\"text\":\"\"},\"zerolinecolor\":\"#E1E5ED\"},\"yaxis\":{\"gridcolor\":\"#E1E5ED\",\"showgrid\":true,\"tickfont\":{\"color\":\"#4D5663\"},\"title\":{\"font\":{\"color\":\"#4D5663\"},\"text\":\"\"},\"zerolinecolor\":\"#E1E5ED\"}},                        {\"showLink\": true, \"linkText\": \"Export to plot.ly\", \"plotlyServerURL\": \"https://plot.ly\", \"responsive\": true}                    ).then(function(){\n",
       "                            \n",
       "var gd = document.getElementById('517d4379-6e07-48c0-9d88-042934a85871');\n",
       "var x = new MutationObserver(function (mutations, observer) {{\n",
       "        var display = window.getComputedStyle(gd).display;\n",
       "        if (!display || display === 'none') {{\n",
       "            console.log([gd, 'removed!']);\n",
       "            Plotly.purge(gd);\n",
       "            observer.disconnect();\n",
       "        }}\n",
       "}});\n",
       "\n",
       "// Listen for the removal of the full notebook cells\n",
       "var notebookContainer = gd.closest('#notebook-container');\n",
       "if (notebookContainer) {{\n",
       "    x.observe(notebookContainer, {childList: true});\n",
       "}}\n",
       "\n",
       "// Listen for the clearing of the current output cell\n",
       "var outputEl = gd.closest('.output');\n",
       "if (outputEl) {{\n",
       "    x.observe(outputEl, {childList: true});\n",
       "}}\n",
       "\n",
       "                        })                };                });            </script>        </div>"
      ]
     },
     "metadata": {},
     "output_type": "display_data"
    }
   ],
   "source": [
    "aux=pd.Series({v:iv(train,v,target) for v in vars}).sort_values(ascending=False).reset_index().rename(columns={'index':'variable',0:'iv'})\n",
    "best_iv=aux[aux['iv']>0.02]\n",
    "best_iv.iplot(kind='bar',x='variable',y='iv',title='IV de las variables discretizadas')"
   ]
  },
  {
   "attachments": {},
   "cell_type": "markdown",
   "metadata": {},
   "source": [
    "### $\\chi^2$ test"
   ]
  },
  {
   "cell_type": "code",
   "execution_count": 6,
   "metadata": {},
   "outputs": [
    {
     "data": {
      "text/html": [
       "<style>#sk-container-id-1 {color: black;background-color: white;}#sk-container-id-1 pre{padding: 0;}#sk-container-id-1 div.sk-toggleable {background-color: white;}#sk-container-id-1 label.sk-toggleable__label {cursor: pointer;display: block;width: 100%;margin-bottom: 0;padding: 0.3em;box-sizing: border-box;text-align: center;}#sk-container-id-1 label.sk-toggleable__label-arrow:before {content: \"▸\";float: left;margin-right: 0.25em;color: #696969;}#sk-container-id-1 label.sk-toggleable__label-arrow:hover:before {color: black;}#sk-container-id-1 div.sk-estimator:hover label.sk-toggleable__label-arrow:before {color: black;}#sk-container-id-1 div.sk-toggleable__content {max-height: 0;max-width: 0;overflow: hidden;text-align: left;background-color: #f0f8ff;}#sk-container-id-1 div.sk-toggleable__content pre {margin: 0.2em;color: black;border-radius: 0.25em;background-color: #f0f8ff;}#sk-container-id-1 input.sk-toggleable__control:checked~div.sk-toggleable__content {max-height: 200px;max-width: 100%;overflow: auto;}#sk-container-id-1 input.sk-toggleable__control:checked~label.sk-toggleable__label-arrow:before {content: \"▾\";}#sk-container-id-1 div.sk-estimator input.sk-toggleable__control:checked~label.sk-toggleable__label {background-color: #d4ebff;}#sk-container-id-1 div.sk-label input.sk-toggleable__control:checked~label.sk-toggleable__label {background-color: #d4ebff;}#sk-container-id-1 input.sk-hidden--visually {border: 0;clip: rect(1px 1px 1px 1px);clip: rect(1px, 1px, 1px, 1px);height: 1px;margin: -1px;overflow: hidden;padding: 0;position: absolute;width: 1px;}#sk-container-id-1 div.sk-estimator {font-family: monospace;background-color: #f0f8ff;border: 1px dotted black;border-radius: 0.25em;box-sizing: border-box;margin-bottom: 0.5em;}#sk-container-id-1 div.sk-estimator:hover {background-color: #d4ebff;}#sk-container-id-1 div.sk-parallel-item::after {content: \"\";width: 100%;border-bottom: 1px solid gray;flex-grow: 1;}#sk-container-id-1 div.sk-label:hover label.sk-toggleable__label {background-color: #d4ebff;}#sk-container-id-1 div.sk-serial::before {content: \"\";position: absolute;border-left: 1px solid gray;box-sizing: border-box;top: 0;bottom: 0;left: 50%;z-index: 0;}#sk-container-id-1 div.sk-serial {display: flex;flex-direction: column;align-items: center;background-color: white;padding-right: 0.2em;padding-left: 0.2em;position: relative;}#sk-container-id-1 div.sk-item {position: relative;z-index: 1;}#sk-container-id-1 div.sk-parallel {display: flex;align-items: stretch;justify-content: center;background-color: white;position: relative;}#sk-container-id-1 div.sk-item::before, #sk-container-id-1 div.sk-parallel-item::before {content: \"\";position: absolute;border-left: 1px solid gray;box-sizing: border-box;top: 0;bottom: 0;left: 50%;z-index: -1;}#sk-container-id-1 div.sk-parallel-item {display: flex;flex-direction: column;z-index: 1;position: relative;background-color: white;}#sk-container-id-1 div.sk-parallel-item:first-child::after {align-self: flex-end;width: 50%;}#sk-container-id-1 div.sk-parallel-item:last-child::after {align-self: flex-start;width: 50%;}#sk-container-id-1 div.sk-parallel-item:only-child::after {width: 0;}#sk-container-id-1 div.sk-dashed-wrapped {border: 1px dashed gray;margin: 0 0.4em 0.5em 0.4em;box-sizing: border-box;padding-bottom: 0.4em;background-color: white;}#sk-container-id-1 div.sk-label label {font-family: monospace;font-weight: bold;display: inline-block;line-height: 1.2em;}#sk-container-id-1 div.sk-label-container {text-align: center;}#sk-container-id-1 div.sk-container {/* jupyter's `normalize.less` sets `[hidden] { display: none; }` but bootstrap.min.css set `[hidden] { display: none !important; }` so we also need the `!important` here to be able to override the default hidden behavior on the sphinx rendered scikit-learn.org. See: https://github.com/scikit-learn/scikit-learn/issues/21755 */display: inline-block !important;position: relative;}#sk-container-id-1 div.sk-text-repr-fallback {display: none;}</style><div id=\"sk-container-id-1\" class=\"sk-top-container\"><div class=\"sk-text-repr-fallback\"><pre>SelectKBest(k=62, score_func=&lt;function chi2 at 0x7f8c937acf70&gt;)</pre><b>In a Jupyter environment, please rerun this cell to show the HTML representation or trust the notebook. <br />On GitHub, the HTML representation is unable to render, please try loading this page with nbviewer.org.</b></div><div class=\"sk-container\" hidden><div class=\"sk-item\"><div class=\"sk-estimator sk-toggleable\"><input class=\"sk-toggleable__control sk-hidden--visually\" id=\"sk-estimator-id-1\" type=\"checkbox\" checked><label for=\"sk-estimator-id-1\" class=\"sk-toggleable__label sk-toggleable__label-arrow\">SelectKBest</label><div class=\"sk-toggleable__content\"><pre>SelectKBest(k=62, score_func=&lt;function chi2 at 0x7f8c937acf70&gt;)</pre></div></div></div></div></div>"
      ],
      "text/plain": [
       "SelectKBest(k=62, score_func=<function chi2 at 0x7f8c937acf70>)"
      ]
     },
     "execution_count": 6,
     "metadata": {},
     "output_type": "execute_result"
    }
   ],
   "source": [
    "le=LabelEncoder()\n",
    "chi2_test=SelectKBest(chi2,k=len(best_iv['variable']))\n",
    "chi2_test.fit(train[best_iv['variable']].apply(lambda x:le.fit_transform(x)),train[target])"
   ]
  },
  {
   "cell_type": "code",
   "execution_count": 7,
   "metadata": {},
   "outputs": [
    {
     "data": {
      "application/vnd.plotly.v1+json": {
       "config": {
        "linkText": "Export to plot.ly",
        "plotlyServerURL": "https://plot.ly",
        "showLink": true
       },
       "data": [
        {
         "marker": {
          "color": "rgba(255, 153, 51, 0.6)",
          "line": {
           "color": "rgba(255, 153, 51, 1.0)",
           "width": 1
          }
         },
         "name": "chi2",
         "orientation": "v",
         "text": "",
         "type": "bar",
         "x": [
          "grade",
          "disc_annual_inc_5",
          "disc_revol_util_10",
          "disc_inq_last_6mths_7",
          "disc_inq_last_6mths_5",
          "disc_inq_last_6mths_6",
          "disc_inq_last_6mths_9",
          "disc_inq_last_6mths_10",
          "disc_inq_last_6mths_8",
          "disc_revol_util_9",
          "purpose",
          "disc_annual_inc_4",
          "disc_int_rate_5",
          "disc_revol_util_8",
          "disc_revol_util_7",
          "term",
          "home_ownership",
          "disc_revol_util_6",
          "disc_dti_5",
          "disc_revol_util_5",
          "disc_int_rate_6",
          "disc_dti_4",
          "disc_revol_util_4",
          "disc_total_rev_hi_lim_8",
          "disc_total_rev_hi_lim_10",
          "disc_inq_last_6mths_4",
          "disc_total_rev_hi_lim_5",
          "initial_list_status",
          "disc_annual_inc_10",
          "disc_tot_cur_bal_8",
          "disc_int_rate_10",
          "disc_tot_cur_bal_9",
          "disc_dti_10",
          "disc_tot_cur_bal_10",
          "disc_total_rev_hi_lim_9",
          "disc_total_rev_hi_lim_6",
          "verification_status",
          "disc_annual_inc_9",
          "disc_total_rev_hi_lim_7",
          "disc_dti_9",
          "disc_dti_8",
          "disc_int_rate_7",
          "disc_tot_cur_bal_6",
          "disc_tot_cur_bal_7",
          "disc_dti_7",
          "disc_tot_cur_bal_4",
          "disc_total_rev_hi_lim_4",
          "disc_annual_inc_8",
          "disc_dti_6",
          "disc_annual_inc_7",
          "disc_tot_cur_bal_5",
          "disc_mths_between_issued_earliest_cr_8",
          "disc_int_rate_4",
          "disc_mths_between_issued_earliest_cr_7",
          "disc_mths_between_issued_earliest_cr_4",
          "disc_int_rate_8",
          "disc_mths_between_issued_earliest_cr_6",
          "disc_annual_inc_6",
          "disc_mths_between_issued_earliest_cr_9"
         ],
         "y": [
          1783.5192302312776,
          1538.1895104546852,
          1450.833633185924,
          1342.9780587304554,
          1342.9780587304554,
          1342.9780587304554,
          1342.9780587304554,
          1342.9780587304554,
          1342.9780587304554,
          1312.9132920208342,
          1287.3000483972264,
          1256.586922072066,
          1233.804761455366,
          1194.6873309083635,
          1028.6690793836717,
          990.6714225407524,
          960.3204256627396,
          903.3995946667584,
          805.8558559646906,
          746.7004900313366,
          707.3128350710476,
          656.0466737583549,
          629.7365829039317,
          616.6573964358889,
          587.9412419752366,
          573.9338391926582,
          516.978729840152,
          498.00459304120477,
          496.9724664875762,
          495.47679496012375,
          493.0041346019873,
          480.2811205155469,
          440.3785264382765,
          437.708724677888,
          422.78698911919247,
          417.3675401741111,
          411.5366492994071,
          376.8241814567623,
          375.8792144140939,
          327.9663487477303,
          284.5473537057193,
          280.9010030060538,
          266.06257010645726,
          257.75044737364556,
          229.94198155401895,
          224.2625096248393,
          220.22469962255894,
          213.92022971555227,
          157.89907298441557,
          102.42030925722929,
          95.04452163672653,
          73.90604529418572,
          72.93302433244537,
          39.79674747003132,
          24.96626769393618,
          24.874979394215515,
          15.23324803104017,
          7.454498288869936,
          4.099098369947151
         ]
        }
       ],
       "layout": {
        "legend": {
         "bgcolor": "#F5F6F9",
         "font": {
          "color": "#4D5663"
         }
        },
        "paper_bgcolor": "#F5F6F9",
        "plot_bgcolor": "#F5F6F9",
        "template": {
         "data": {
          "bar": [
           {
            "error_x": {
             "color": "#2a3f5f"
            },
            "error_y": {
             "color": "#2a3f5f"
            },
            "marker": {
             "line": {
              "color": "#E5ECF6",
              "width": 0.5
             },
             "pattern": {
              "fillmode": "overlay",
              "size": 10,
              "solidity": 0.2
             }
            },
            "type": "bar"
           }
          ],
          "barpolar": [
           {
            "marker": {
             "line": {
              "color": "#E5ECF6",
              "width": 0.5
             },
             "pattern": {
              "fillmode": "overlay",
              "size": 10,
              "solidity": 0.2
             }
            },
            "type": "barpolar"
           }
          ],
          "carpet": [
           {
            "aaxis": {
             "endlinecolor": "#2a3f5f",
             "gridcolor": "white",
             "linecolor": "white",
             "minorgridcolor": "white",
             "startlinecolor": "#2a3f5f"
            },
            "baxis": {
             "endlinecolor": "#2a3f5f",
             "gridcolor": "white",
             "linecolor": "white",
             "minorgridcolor": "white",
             "startlinecolor": "#2a3f5f"
            },
            "type": "carpet"
           }
          ],
          "choropleth": [
           {
            "colorbar": {
             "outlinewidth": 0,
             "ticks": ""
            },
            "type": "choropleth"
           }
          ],
          "contour": [
           {
            "colorbar": {
             "outlinewidth": 0,
             "ticks": ""
            },
            "colorscale": [
             [
              0,
              "#0d0887"
             ],
             [
              0.1111111111111111,
              "#46039f"
             ],
             [
              0.2222222222222222,
              "#7201a8"
             ],
             [
              0.3333333333333333,
              "#9c179e"
             ],
             [
              0.4444444444444444,
              "#bd3786"
             ],
             [
              0.5555555555555556,
              "#d8576b"
             ],
             [
              0.6666666666666666,
              "#ed7953"
             ],
             [
              0.7777777777777778,
              "#fb9f3a"
             ],
             [
              0.8888888888888888,
              "#fdca26"
             ],
             [
              1,
              "#f0f921"
             ]
            ],
            "type": "contour"
           }
          ],
          "contourcarpet": [
           {
            "colorbar": {
             "outlinewidth": 0,
             "ticks": ""
            },
            "type": "contourcarpet"
           }
          ],
          "heatmap": [
           {
            "colorbar": {
             "outlinewidth": 0,
             "ticks": ""
            },
            "colorscale": [
             [
              0,
              "#0d0887"
             ],
             [
              0.1111111111111111,
              "#46039f"
             ],
             [
              0.2222222222222222,
              "#7201a8"
             ],
             [
              0.3333333333333333,
              "#9c179e"
             ],
             [
              0.4444444444444444,
              "#bd3786"
             ],
             [
              0.5555555555555556,
              "#d8576b"
             ],
             [
              0.6666666666666666,
              "#ed7953"
             ],
             [
              0.7777777777777778,
              "#fb9f3a"
             ],
             [
              0.8888888888888888,
              "#fdca26"
             ],
             [
              1,
              "#f0f921"
             ]
            ],
            "type": "heatmap"
           }
          ],
          "heatmapgl": [
           {
            "colorbar": {
             "outlinewidth": 0,
             "ticks": ""
            },
            "colorscale": [
             [
              0,
              "#0d0887"
             ],
             [
              0.1111111111111111,
              "#46039f"
             ],
             [
              0.2222222222222222,
              "#7201a8"
             ],
             [
              0.3333333333333333,
              "#9c179e"
             ],
             [
              0.4444444444444444,
              "#bd3786"
             ],
             [
              0.5555555555555556,
              "#d8576b"
             ],
             [
              0.6666666666666666,
              "#ed7953"
             ],
             [
              0.7777777777777778,
              "#fb9f3a"
             ],
             [
              0.8888888888888888,
              "#fdca26"
             ],
             [
              1,
              "#f0f921"
             ]
            ],
            "type": "heatmapgl"
           }
          ],
          "histogram": [
           {
            "marker": {
             "pattern": {
              "fillmode": "overlay",
              "size": 10,
              "solidity": 0.2
             }
            },
            "type": "histogram"
           }
          ],
          "histogram2d": [
           {
            "colorbar": {
             "outlinewidth": 0,
             "ticks": ""
            },
            "colorscale": [
             [
              0,
              "#0d0887"
             ],
             [
              0.1111111111111111,
              "#46039f"
             ],
             [
              0.2222222222222222,
              "#7201a8"
             ],
             [
              0.3333333333333333,
              "#9c179e"
             ],
             [
              0.4444444444444444,
              "#bd3786"
             ],
             [
              0.5555555555555556,
              "#d8576b"
             ],
             [
              0.6666666666666666,
              "#ed7953"
             ],
             [
              0.7777777777777778,
              "#fb9f3a"
             ],
             [
              0.8888888888888888,
              "#fdca26"
             ],
             [
              1,
              "#f0f921"
             ]
            ],
            "type": "histogram2d"
           }
          ],
          "histogram2dcontour": [
           {
            "colorbar": {
             "outlinewidth": 0,
             "ticks": ""
            },
            "colorscale": [
             [
              0,
              "#0d0887"
             ],
             [
              0.1111111111111111,
              "#46039f"
             ],
             [
              0.2222222222222222,
              "#7201a8"
             ],
             [
              0.3333333333333333,
              "#9c179e"
             ],
             [
              0.4444444444444444,
              "#bd3786"
             ],
             [
              0.5555555555555556,
              "#d8576b"
             ],
             [
              0.6666666666666666,
              "#ed7953"
             ],
             [
              0.7777777777777778,
              "#fb9f3a"
             ],
             [
              0.8888888888888888,
              "#fdca26"
             ],
             [
              1,
              "#f0f921"
             ]
            ],
            "type": "histogram2dcontour"
           }
          ],
          "mesh3d": [
           {
            "colorbar": {
             "outlinewidth": 0,
             "ticks": ""
            },
            "type": "mesh3d"
           }
          ],
          "parcoords": [
           {
            "line": {
             "colorbar": {
              "outlinewidth": 0,
              "ticks": ""
             }
            },
            "type": "parcoords"
           }
          ],
          "pie": [
           {
            "automargin": true,
            "type": "pie"
           }
          ],
          "scatter": [
           {
            "fillpattern": {
             "fillmode": "overlay",
             "size": 10,
             "solidity": 0.2
            },
            "type": "scatter"
           }
          ],
          "scatter3d": [
           {
            "line": {
             "colorbar": {
              "outlinewidth": 0,
              "ticks": ""
             }
            },
            "marker": {
             "colorbar": {
              "outlinewidth": 0,
              "ticks": ""
             }
            },
            "type": "scatter3d"
           }
          ],
          "scattercarpet": [
           {
            "marker": {
             "colorbar": {
              "outlinewidth": 0,
              "ticks": ""
             }
            },
            "type": "scattercarpet"
           }
          ],
          "scattergeo": [
           {
            "marker": {
             "colorbar": {
              "outlinewidth": 0,
              "ticks": ""
             }
            },
            "type": "scattergeo"
           }
          ],
          "scattergl": [
           {
            "marker": {
             "colorbar": {
              "outlinewidth": 0,
              "ticks": ""
             }
            },
            "type": "scattergl"
           }
          ],
          "scattermapbox": [
           {
            "marker": {
             "colorbar": {
              "outlinewidth": 0,
              "ticks": ""
             }
            },
            "type": "scattermapbox"
           }
          ],
          "scatterpolar": [
           {
            "marker": {
             "colorbar": {
              "outlinewidth": 0,
              "ticks": ""
             }
            },
            "type": "scatterpolar"
           }
          ],
          "scatterpolargl": [
           {
            "marker": {
             "colorbar": {
              "outlinewidth": 0,
              "ticks": ""
             }
            },
            "type": "scatterpolargl"
           }
          ],
          "scatterternary": [
           {
            "marker": {
             "colorbar": {
              "outlinewidth": 0,
              "ticks": ""
             }
            },
            "type": "scatterternary"
           }
          ],
          "surface": [
           {
            "colorbar": {
             "outlinewidth": 0,
             "ticks": ""
            },
            "colorscale": [
             [
              0,
              "#0d0887"
             ],
             [
              0.1111111111111111,
              "#46039f"
             ],
             [
              0.2222222222222222,
              "#7201a8"
             ],
             [
              0.3333333333333333,
              "#9c179e"
             ],
             [
              0.4444444444444444,
              "#bd3786"
             ],
             [
              0.5555555555555556,
              "#d8576b"
             ],
             [
              0.6666666666666666,
              "#ed7953"
             ],
             [
              0.7777777777777778,
              "#fb9f3a"
             ],
             [
              0.8888888888888888,
              "#fdca26"
             ],
             [
              1,
              "#f0f921"
             ]
            ],
            "type": "surface"
           }
          ],
          "table": [
           {
            "cells": {
             "fill": {
              "color": "#EBF0F8"
             },
             "line": {
              "color": "white"
             }
            },
            "header": {
             "fill": {
              "color": "#C8D4E3"
             },
             "line": {
              "color": "white"
             }
            },
            "type": "table"
           }
          ]
         },
         "layout": {
          "annotationdefaults": {
           "arrowcolor": "#2a3f5f",
           "arrowhead": 0,
           "arrowwidth": 1
          },
          "autotypenumbers": "strict",
          "coloraxis": {
           "colorbar": {
            "outlinewidth": 0,
            "ticks": ""
           }
          },
          "colorscale": {
           "diverging": [
            [
             0,
             "#8e0152"
            ],
            [
             0.1,
             "#c51b7d"
            ],
            [
             0.2,
             "#de77ae"
            ],
            [
             0.3,
             "#f1b6da"
            ],
            [
             0.4,
             "#fde0ef"
            ],
            [
             0.5,
             "#f7f7f7"
            ],
            [
             0.6,
             "#e6f5d0"
            ],
            [
             0.7,
             "#b8e186"
            ],
            [
             0.8,
             "#7fbc41"
            ],
            [
             0.9,
             "#4d9221"
            ],
            [
             1,
             "#276419"
            ]
           ],
           "sequential": [
            [
             0,
             "#0d0887"
            ],
            [
             0.1111111111111111,
             "#46039f"
            ],
            [
             0.2222222222222222,
             "#7201a8"
            ],
            [
             0.3333333333333333,
             "#9c179e"
            ],
            [
             0.4444444444444444,
             "#bd3786"
            ],
            [
             0.5555555555555556,
             "#d8576b"
            ],
            [
             0.6666666666666666,
             "#ed7953"
            ],
            [
             0.7777777777777778,
             "#fb9f3a"
            ],
            [
             0.8888888888888888,
             "#fdca26"
            ],
            [
             1,
             "#f0f921"
            ]
           ],
           "sequentialminus": [
            [
             0,
             "#0d0887"
            ],
            [
             0.1111111111111111,
             "#46039f"
            ],
            [
             0.2222222222222222,
             "#7201a8"
            ],
            [
             0.3333333333333333,
             "#9c179e"
            ],
            [
             0.4444444444444444,
             "#bd3786"
            ],
            [
             0.5555555555555556,
             "#d8576b"
            ],
            [
             0.6666666666666666,
             "#ed7953"
            ],
            [
             0.7777777777777778,
             "#fb9f3a"
            ],
            [
             0.8888888888888888,
             "#fdca26"
            ],
            [
             1,
             "#f0f921"
            ]
           ]
          },
          "colorway": [
           "#636efa",
           "#EF553B",
           "#00cc96",
           "#ab63fa",
           "#FFA15A",
           "#19d3f3",
           "#FF6692",
           "#B6E880",
           "#FF97FF",
           "#FECB52"
          ],
          "font": {
           "color": "#2a3f5f"
          },
          "geo": {
           "bgcolor": "white",
           "lakecolor": "white",
           "landcolor": "#E5ECF6",
           "showlakes": true,
           "showland": true,
           "subunitcolor": "white"
          },
          "hoverlabel": {
           "align": "left"
          },
          "hovermode": "closest",
          "mapbox": {
           "style": "light"
          },
          "paper_bgcolor": "white",
          "plot_bgcolor": "#E5ECF6",
          "polar": {
           "angularaxis": {
            "gridcolor": "white",
            "linecolor": "white",
            "ticks": ""
           },
           "bgcolor": "#E5ECF6",
           "radialaxis": {
            "gridcolor": "white",
            "linecolor": "white",
            "ticks": ""
           }
          },
          "scene": {
           "xaxis": {
            "backgroundcolor": "#E5ECF6",
            "gridcolor": "white",
            "gridwidth": 2,
            "linecolor": "white",
            "showbackground": true,
            "ticks": "",
            "zerolinecolor": "white"
           },
           "yaxis": {
            "backgroundcolor": "#E5ECF6",
            "gridcolor": "white",
            "gridwidth": 2,
            "linecolor": "white",
            "showbackground": true,
            "ticks": "",
            "zerolinecolor": "white"
           },
           "zaxis": {
            "backgroundcolor": "#E5ECF6",
            "gridcolor": "white",
            "gridwidth": 2,
            "linecolor": "white",
            "showbackground": true,
            "ticks": "",
            "zerolinecolor": "white"
           }
          },
          "shapedefaults": {
           "line": {
            "color": "#2a3f5f"
           }
          },
          "ternary": {
           "aaxis": {
            "gridcolor": "white",
            "linecolor": "white",
            "ticks": ""
           },
           "baxis": {
            "gridcolor": "white",
            "linecolor": "white",
            "ticks": ""
           },
           "bgcolor": "#E5ECF6",
           "caxis": {
            "gridcolor": "white",
            "linecolor": "white",
            "ticks": ""
           }
          },
          "title": {
           "x": 0.05
          },
          "xaxis": {
           "automargin": true,
           "gridcolor": "white",
           "linecolor": "white",
           "ticks": "",
           "title": {
            "standoff": 15
           },
           "zerolinecolor": "white",
           "zerolinewidth": 2
          },
          "yaxis": {
           "automargin": true,
           "gridcolor": "white",
           "linecolor": "white",
           "ticks": "",
           "title": {
            "standoff": 15
           },
           "zerolinecolor": "white",
           "zerolinewidth": 2
          }
         }
        },
        "title": {
         "font": {
          "color": "#4D5663"
         },
         "text": "Chi2 de las variables discretizadas"
        },
        "xaxis": {
         "gridcolor": "#E1E5ED",
         "showgrid": true,
         "tickfont": {
          "color": "#4D5663"
         },
         "title": {
          "font": {
           "color": "#4D5663"
          },
          "text": ""
         },
         "zerolinecolor": "#E1E5ED"
        },
        "yaxis": {
         "gridcolor": "#E1E5ED",
         "showgrid": true,
         "tickfont": {
          "color": "#4D5663"
         },
         "title": {
          "font": {
           "color": "#4D5663"
          },
          "text": ""
         },
         "zerolinecolor": "#E1E5ED"
        }
       }
      },
      "text/html": [
       "<div>                            <div id=\"be2dc562-0f54-462d-ab53-72a2b3b41702\" class=\"plotly-graph-div\" style=\"height:525px; width:100%;\"></div>            <script type=\"text/javascript\">                require([\"plotly\"], function(Plotly) {                    window.PLOTLYENV=window.PLOTLYENV || {};\n",
       "                    window.PLOTLYENV.BASE_URL='https://plot.ly';                                    if (document.getElementById(\"be2dc562-0f54-462d-ab53-72a2b3b41702\")) {                    Plotly.newPlot(                        \"be2dc562-0f54-462d-ab53-72a2b3b41702\",                        [{\"marker\":{\"color\":\"rgba(255, 153, 51, 0.6)\",\"line\":{\"color\":\"rgba(255, 153, 51, 1.0)\",\"width\":1}},\"name\":\"chi2\",\"orientation\":\"v\",\"text\":\"\",\"x\":[\"grade\",\"disc_annual_inc_5\",\"disc_revol_util_10\",\"disc_inq_last_6mths_7\",\"disc_inq_last_6mths_5\",\"disc_inq_last_6mths_6\",\"disc_inq_last_6mths_9\",\"disc_inq_last_6mths_10\",\"disc_inq_last_6mths_8\",\"disc_revol_util_9\",\"purpose\",\"disc_annual_inc_4\",\"disc_int_rate_5\",\"disc_revol_util_8\",\"disc_revol_util_7\",\"term\",\"home_ownership\",\"disc_revol_util_6\",\"disc_dti_5\",\"disc_revol_util_5\",\"disc_int_rate_6\",\"disc_dti_4\",\"disc_revol_util_4\",\"disc_total_rev_hi_lim_8\",\"disc_total_rev_hi_lim_10\",\"disc_inq_last_6mths_4\",\"disc_total_rev_hi_lim_5\",\"initial_list_status\",\"disc_annual_inc_10\",\"disc_tot_cur_bal_8\",\"disc_int_rate_10\",\"disc_tot_cur_bal_9\",\"disc_dti_10\",\"disc_tot_cur_bal_10\",\"disc_total_rev_hi_lim_9\",\"disc_total_rev_hi_lim_6\",\"verification_status\",\"disc_annual_inc_9\",\"disc_total_rev_hi_lim_7\",\"disc_dti_9\",\"disc_dti_8\",\"disc_int_rate_7\",\"disc_tot_cur_bal_6\",\"disc_tot_cur_bal_7\",\"disc_dti_7\",\"disc_tot_cur_bal_4\",\"disc_total_rev_hi_lim_4\",\"disc_annual_inc_8\",\"disc_dti_6\",\"disc_annual_inc_7\",\"disc_tot_cur_bal_5\",\"disc_mths_between_issued_earliest_cr_8\",\"disc_int_rate_4\",\"disc_mths_between_issued_earliest_cr_7\",\"disc_mths_between_issued_earliest_cr_4\",\"disc_int_rate_8\",\"disc_mths_between_issued_earliest_cr_6\",\"disc_annual_inc_6\",\"disc_mths_between_issued_earliest_cr_9\"],\"y\":[1783.5192302312776,1538.1895104546852,1450.833633185924,1342.9780587304554,1342.9780587304554,1342.9780587304554,1342.9780587304554,1342.9780587304554,1342.9780587304554,1312.9132920208342,1287.3000483972264,1256.586922072066,1233.804761455366,1194.6873309083635,1028.6690793836717,990.6714225407524,960.3204256627396,903.3995946667584,805.8558559646906,746.7004900313366,707.3128350710476,656.0466737583549,629.7365829039317,616.6573964358889,587.9412419752366,573.9338391926582,516.978729840152,498.00459304120477,496.9724664875762,495.47679496012375,493.0041346019873,480.2811205155469,440.3785264382765,437.708724677888,422.78698911919247,417.3675401741111,411.5366492994071,376.8241814567623,375.8792144140939,327.9663487477303,284.5473537057193,280.9010030060538,266.06257010645726,257.75044737364556,229.94198155401895,224.2625096248393,220.22469962255894,213.92022971555227,157.89907298441557,102.42030925722929,95.04452163672653,73.90604529418572,72.93302433244537,39.79674747003132,24.96626769393618,24.874979394215515,15.23324803104017,7.454498288869936,4.099098369947151],\"type\":\"bar\"}],                        {\"legend\":{\"bgcolor\":\"#F5F6F9\",\"font\":{\"color\":\"#4D5663\"}},\"paper_bgcolor\":\"#F5F6F9\",\"plot_bgcolor\":\"#F5F6F9\",\"template\":{\"data\":{\"barpolar\":[{\"marker\":{\"line\":{\"color\":\"#E5ECF6\",\"width\":0.5},\"pattern\":{\"fillmode\":\"overlay\",\"size\":10,\"solidity\":0.2}},\"type\":\"barpolar\"}],\"bar\":[{\"error_x\":{\"color\":\"#2a3f5f\"},\"error_y\":{\"color\":\"#2a3f5f\"},\"marker\":{\"line\":{\"color\":\"#E5ECF6\",\"width\":0.5},\"pattern\":{\"fillmode\":\"overlay\",\"size\":10,\"solidity\":0.2}},\"type\":\"bar\"}],\"carpet\":[{\"aaxis\":{\"endlinecolor\":\"#2a3f5f\",\"gridcolor\":\"white\",\"linecolor\":\"white\",\"minorgridcolor\":\"white\",\"startlinecolor\":\"#2a3f5f\"},\"baxis\":{\"endlinecolor\":\"#2a3f5f\",\"gridcolor\":\"white\",\"linecolor\":\"white\",\"minorgridcolor\":\"white\",\"startlinecolor\":\"#2a3f5f\"},\"type\":\"carpet\"}],\"choropleth\":[{\"colorbar\":{\"outlinewidth\":0,\"ticks\":\"\"},\"type\":\"choropleth\"}],\"contourcarpet\":[{\"colorbar\":{\"outlinewidth\":0,\"ticks\":\"\"},\"type\":\"contourcarpet\"}],\"contour\":[{\"colorbar\":{\"outlinewidth\":0,\"ticks\":\"\"},\"colorscale\":[[0.0,\"#0d0887\"],[0.1111111111111111,\"#46039f\"],[0.2222222222222222,\"#7201a8\"],[0.3333333333333333,\"#9c179e\"],[0.4444444444444444,\"#bd3786\"],[0.5555555555555556,\"#d8576b\"],[0.6666666666666666,\"#ed7953\"],[0.7777777777777778,\"#fb9f3a\"],[0.8888888888888888,\"#fdca26\"],[1.0,\"#f0f921\"]],\"type\":\"contour\"}],\"heatmapgl\":[{\"colorbar\":{\"outlinewidth\":0,\"ticks\":\"\"},\"colorscale\":[[0.0,\"#0d0887\"],[0.1111111111111111,\"#46039f\"],[0.2222222222222222,\"#7201a8\"],[0.3333333333333333,\"#9c179e\"],[0.4444444444444444,\"#bd3786\"],[0.5555555555555556,\"#d8576b\"],[0.6666666666666666,\"#ed7953\"],[0.7777777777777778,\"#fb9f3a\"],[0.8888888888888888,\"#fdca26\"],[1.0,\"#f0f921\"]],\"type\":\"heatmapgl\"}],\"heatmap\":[{\"colorbar\":{\"outlinewidth\":0,\"ticks\":\"\"},\"colorscale\":[[0.0,\"#0d0887\"],[0.1111111111111111,\"#46039f\"],[0.2222222222222222,\"#7201a8\"],[0.3333333333333333,\"#9c179e\"],[0.4444444444444444,\"#bd3786\"],[0.5555555555555556,\"#d8576b\"],[0.6666666666666666,\"#ed7953\"],[0.7777777777777778,\"#fb9f3a\"],[0.8888888888888888,\"#fdca26\"],[1.0,\"#f0f921\"]],\"type\":\"heatmap\"}],\"histogram2dcontour\":[{\"colorbar\":{\"outlinewidth\":0,\"ticks\":\"\"},\"colorscale\":[[0.0,\"#0d0887\"],[0.1111111111111111,\"#46039f\"],[0.2222222222222222,\"#7201a8\"],[0.3333333333333333,\"#9c179e\"],[0.4444444444444444,\"#bd3786\"],[0.5555555555555556,\"#d8576b\"],[0.6666666666666666,\"#ed7953\"],[0.7777777777777778,\"#fb9f3a\"],[0.8888888888888888,\"#fdca26\"],[1.0,\"#f0f921\"]],\"type\":\"histogram2dcontour\"}],\"histogram2d\":[{\"colorbar\":{\"outlinewidth\":0,\"ticks\":\"\"},\"colorscale\":[[0.0,\"#0d0887\"],[0.1111111111111111,\"#46039f\"],[0.2222222222222222,\"#7201a8\"],[0.3333333333333333,\"#9c179e\"],[0.4444444444444444,\"#bd3786\"],[0.5555555555555556,\"#d8576b\"],[0.6666666666666666,\"#ed7953\"],[0.7777777777777778,\"#fb9f3a\"],[0.8888888888888888,\"#fdca26\"],[1.0,\"#f0f921\"]],\"type\":\"histogram2d\"}],\"histogram\":[{\"marker\":{\"pattern\":{\"fillmode\":\"overlay\",\"size\":10,\"solidity\":0.2}},\"type\":\"histogram\"}],\"mesh3d\":[{\"colorbar\":{\"outlinewidth\":0,\"ticks\":\"\"},\"type\":\"mesh3d\"}],\"parcoords\":[{\"line\":{\"colorbar\":{\"outlinewidth\":0,\"ticks\":\"\"}},\"type\":\"parcoords\"}],\"pie\":[{\"automargin\":true,\"type\":\"pie\"}],\"scatter3d\":[{\"line\":{\"colorbar\":{\"outlinewidth\":0,\"ticks\":\"\"}},\"marker\":{\"colorbar\":{\"outlinewidth\":0,\"ticks\":\"\"}},\"type\":\"scatter3d\"}],\"scattercarpet\":[{\"marker\":{\"colorbar\":{\"outlinewidth\":0,\"ticks\":\"\"}},\"type\":\"scattercarpet\"}],\"scattergeo\":[{\"marker\":{\"colorbar\":{\"outlinewidth\":0,\"ticks\":\"\"}},\"type\":\"scattergeo\"}],\"scattergl\":[{\"marker\":{\"colorbar\":{\"outlinewidth\":0,\"ticks\":\"\"}},\"type\":\"scattergl\"}],\"scattermapbox\":[{\"marker\":{\"colorbar\":{\"outlinewidth\":0,\"ticks\":\"\"}},\"type\":\"scattermapbox\"}],\"scatterpolargl\":[{\"marker\":{\"colorbar\":{\"outlinewidth\":0,\"ticks\":\"\"}},\"type\":\"scatterpolargl\"}],\"scatterpolar\":[{\"marker\":{\"colorbar\":{\"outlinewidth\":0,\"ticks\":\"\"}},\"type\":\"scatterpolar\"}],\"scatter\":[{\"fillpattern\":{\"fillmode\":\"overlay\",\"size\":10,\"solidity\":0.2},\"type\":\"scatter\"}],\"scatterternary\":[{\"marker\":{\"colorbar\":{\"outlinewidth\":0,\"ticks\":\"\"}},\"type\":\"scatterternary\"}],\"surface\":[{\"colorbar\":{\"outlinewidth\":0,\"ticks\":\"\"},\"colorscale\":[[0.0,\"#0d0887\"],[0.1111111111111111,\"#46039f\"],[0.2222222222222222,\"#7201a8\"],[0.3333333333333333,\"#9c179e\"],[0.4444444444444444,\"#bd3786\"],[0.5555555555555556,\"#d8576b\"],[0.6666666666666666,\"#ed7953\"],[0.7777777777777778,\"#fb9f3a\"],[0.8888888888888888,\"#fdca26\"],[1.0,\"#f0f921\"]],\"type\":\"surface\"}],\"table\":[{\"cells\":{\"fill\":{\"color\":\"#EBF0F8\"},\"line\":{\"color\":\"white\"}},\"header\":{\"fill\":{\"color\":\"#C8D4E3\"},\"line\":{\"color\":\"white\"}},\"type\":\"table\"}]},\"layout\":{\"annotationdefaults\":{\"arrowcolor\":\"#2a3f5f\",\"arrowhead\":0,\"arrowwidth\":1},\"autotypenumbers\":\"strict\",\"coloraxis\":{\"colorbar\":{\"outlinewidth\":0,\"ticks\":\"\"}},\"colorscale\":{\"diverging\":[[0,\"#8e0152\"],[0.1,\"#c51b7d\"],[0.2,\"#de77ae\"],[0.3,\"#f1b6da\"],[0.4,\"#fde0ef\"],[0.5,\"#f7f7f7\"],[0.6,\"#e6f5d0\"],[0.7,\"#b8e186\"],[0.8,\"#7fbc41\"],[0.9,\"#4d9221\"],[1,\"#276419\"]],\"sequential\":[[0.0,\"#0d0887\"],[0.1111111111111111,\"#46039f\"],[0.2222222222222222,\"#7201a8\"],[0.3333333333333333,\"#9c179e\"],[0.4444444444444444,\"#bd3786\"],[0.5555555555555556,\"#d8576b\"],[0.6666666666666666,\"#ed7953\"],[0.7777777777777778,\"#fb9f3a\"],[0.8888888888888888,\"#fdca26\"],[1.0,\"#f0f921\"]],\"sequentialminus\":[[0.0,\"#0d0887\"],[0.1111111111111111,\"#46039f\"],[0.2222222222222222,\"#7201a8\"],[0.3333333333333333,\"#9c179e\"],[0.4444444444444444,\"#bd3786\"],[0.5555555555555556,\"#d8576b\"],[0.6666666666666666,\"#ed7953\"],[0.7777777777777778,\"#fb9f3a\"],[0.8888888888888888,\"#fdca26\"],[1.0,\"#f0f921\"]]},\"colorway\":[\"#636efa\",\"#EF553B\",\"#00cc96\",\"#ab63fa\",\"#FFA15A\",\"#19d3f3\",\"#FF6692\",\"#B6E880\",\"#FF97FF\",\"#FECB52\"],\"font\":{\"color\":\"#2a3f5f\"},\"geo\":{\"bgcolor\":\"white\",\"lakecolor\":\"white\",\"landcolor\":\"#E5ECF6\",\"showlakes\":true,\"showland\":true,\"subunitcolor\":\"white\"},\"hoverlabel\":{\"align\":\"left\"},\"hovermode\":\"closest\",\"mapbox\":{\"style\":\"light\"},\"paper_bgcolor\":\"white\",\"plot_bgcolor\":\"#E5ECF6\",\"polar\":{\"angularaxis\":{\"gridcolor\":\"white\",\"linecolor\":\"white\",\"ticks\":\"\"},\"bgcolor\":\"#E5ECF6\",\"radialaxis\":{\"gridcolor\":\"white\",\"linecolor\":\"white\",\"ticks\":\"\"}},\"scene\":{\"xaxis\":{\"backgroundcolor\":\"#E5ECF6\",\"gridcolor\":\"white\",\"gridwidth\":2,\"linecolor\":\"white\",\"showbackground\":true,\"ticks\":\"\",\"zerolinecolor\":\"white\"},\"yaxis\":{\"backgroundcolor\":\"#E5ECF6\",\"gridcolor\":\"white\",\"gridwidth\":2,\"linecolor\":\"white\",\"showbackground\":true,\"ticks\":\"\",\"zerolinecolor\":\"white\"},\"zaxis\":{\"backgroundcolor\":\"#E5ECF6\",\"gridcolor\":\"white\",\"gridwidth\":2,\"linecolor\":\"white\",\"showbackground\":true,\"ticks\":\"\",\"zerolinecolor\":\"white\"}},\"shapedefaults\":{\"line\":{\"color\":\"#2a3f5f\"}},\"ternary\":{\"aaxis\":{\"gridcolor\":\"white\",\"linecolor\":\"white\",\"ticks\":\"\"},\"baxis\":{\"gridcolor\":\"white\",\"linecolor\":\"white\",\"ticks\":\"\"},\"bgcolor\":\"#E5ECF6\",\"caxis\":{\"gridcolor\":\"white\",\"linecolor\":\"white\",\"ticks\":\"\"}},\"title\":{\"x\":0.05},\"xaxis\":{\"automargin\":true,\"gridcolor\":\"white\",\"linecolor\":\"white\",\"ticks\":\"\",\"title\":{\"standoff\":15},\"zerolinecolor\":\"white\",\"zerolinewidth\":2},\"yaxis\":{\"automargin\":true,\"gridcolor\":\"white\",\"linecolor\":\"white\",\"ticks\":\"\",\"title\":{\"standoff\":15},\"zerolinecolor\":\"white\",\"zerolinewidth\":2}}},\"title\":{\"font\":{\"color\":\"#4D5663\"},\"text\":\"Chi2 de las variables discretizadas\"},\"xaxis\":{\"gridcolor\":\"#E1E5ED\",\"showgrid\":true,\"tickfont\":{\"color\":\"#4D5663\"},\"title\":{\"font\":{\"color\":\"#4D5663\"},\"text\":\"\"},\"zerolinecolor\":\"#E1E5ED\"},\"yaxis\":{\"gridcolor\":\"#E1E5ED\",\"showgrid\":true,\"tickfont\":{\"color\":\"#4D5663\"},\"title\":{\"font\":{\"color\":\"#4D5663\"},\"text\":\"\"},\"zerolinecolor\":\"#E1E5ED\"}},                        {\"showLink\": true, \"linkText\": \"Export to plot.ly\", \"plotlyServerURL\": \"https://plot.ly\", \"responsive\": true}                    ).then(function(){\n",
       "                            \n",
       "var gd = document.getElementById('be2dc562-0f54-462d-ab53-72a2b3b41702');\n",
       "var x = new MutationObserver(function (mutations, observer) {{\n",
       "        var display = window.getComputedStyle(gd).display;\n",
       "        if (!display || display === 'none') {{\n",
       "            console.log([gd, 'removed!']);\n",
       "            Plotly.purge(gd);\n",
       "            observer.disconnect();\n",
       "        }}\n",
       "}});\n",
       "\n",
       "// Listen for the removal of the full notebook cells\n",
       "var notebookContainer = gd.closest('#notebook-container');\n",
       "if (notebookContainer) {{\n",
       "    x.observe(notebookContainer, {childList: true});\n",
       "}}\n",
       "\n",
       "// Listen for the clearing of the current output cell\n",
       "var outputEl = gd.closest('.output');\n",
       "if (outputEl) {{\n",
       "    x.observe(outputEl, {childList: true});\n",
       "}}\n",
       "\n",
       "                        })                };                });            </script>        </div>"
      ]
     },
     "metadata": {},
     "output_type": "display_data"
    }
   ],
   "source": [
    "best_chi2=pd.DataFrame({'variable':chi2_test.feature_names_in_,'chi2':chi2_test.scores_,'p-value':chi2_test.pvalues_})\\\n",
    "    .sort_values('chi2',ascending=False).reset_index(drop=True)\n",
    "best_chi2=best_chi2[best_chi2['p-value']<0.05]\n",
    "best_chi2.iplot(kind='bar',x='variable',y='chi2',title='Chi2 de las variables discretizadas')"
   ]
  },
  {
   "cell_type": "code",
   "execution_count": 8,
   "metadata": {},
   "outputs": [],
   "source": [
    "# variables con iv>.02 y chi2_p-value<.05 \n",
    "best=best_iv.merge(best_chi2,on='variable',how='inner').sort_values(by=['iv','chi2'],ascending=[False,False])"
   ]
  },
  {
   "cell_type": "code",
   "execution_count": 9,
   "metadata": {},
   "outputs": [],
   "source": [
    "from varclushi import VarClusHi"
   ]
  },
  {
   "cell_type": "code",
   "execution_count": 10,
   "metadata": {},
   "outputs": [],
   "source": [
    "vc = VarClusHi(df=train,feat_list=[f'woe_{x}' for x in best['variable']]).varclus()"
   ]
  },
  {
   "cell_type": "code",
   "execution_count": 11,
   "metadata": {},
   "outputs": [],
   "source": [
    "best_var=vc.rsquare.sort_values(by=['Cluster','RS_Ratio'])\n",
    "best_var['Variable']=best_var['Variable'].apply(lambda x: x[4:])\n",
    "best_var=best_var.merge(best,left_on='Variable',right_on='variable',how='inner').drop('variable',axis=1)\\\n",
    "    .sort_values(by=['Cluster','iv','chi2'],ascending=[True,False,False]).reset_index(drop=True).groupby('Cluster').first()['Variable'].tolist()"
   ]
  },
  {
   "cell_type": "code",
   "execution_count": 12,
   "metadata": {},
   "outputs": [
    {
     "data": {
      "text/plain": [
       "['woe_disc_tot_cur_bal_10',\n",
       " 'woe_disc_int_rate_10',\n",
       " 'woe_disc_inq_last_6mths_5',\n",
       " 'woe_disc_dti_9',\n",
       " 'woe_disc_annual_inc_10',\n",
       " 'woe_disc_revol_util_8',\n",
       " 'woe_disc_mths_between_issued_earliest_cr_8',\n",
       " 'woe_disc_total_rev_hi_lim_10',\n",
       " 'woe_term',\n",
       " 'woe_purpose']"
      ]
     },
     "execution_count": 12,
     "metadata": {},
     "output_type": "execute_result"
    }
   ],
   "source": [
    "best_var=[*map(lambda x:f'woe_{x}',best_var)]\n",
    "best_var"
   ]
  },
  {
   "attachments": {},
   "cell_type": "markdown",
   "metadata": {},
   "source": [
    "## Over-sampling los datos de entrenamiento"
   ]
  },
  {
   "cell_type": "code",
   "execution_count": 14,
   "metadata": {},
   "outputs": [],
   "source": [
    "ros = RandomOverSampler(random_state=123)\n",
    "train_ovs=pd.concat(ros.fit_resample(train[best_var], train[target]),axis=1)"
   ]
  },
  {
   "cell_type": "code",
   "execution_count": 15,
   "metadata": {},
   "outputs": [
    {
     "data": {
      "text/plain": [
       "0    0.5\n",
       "1    0.5\n",
       "Name: target, dtype: float64"
      ]
     },
     "execution_count": 15,
     "metadata": {},
     "output_type": "execute_result"
    }
   ],
   "source": [
    "train_ovs.target.value_counts(1)\n",
    "# muestra balanceada, oversampling la clase 1 (malos)"
   ]
  },
  {
   "attachments": {},
   "cell_type": "markdown",
   "metadata": {},
   "source": [
    "## Regresión logística en datos de entrenamiento"
   ]
  },
  {
   "cell_type": "code",
   "execution_count": 17,
   "metadata": {},
   "outputs": [
    {
     "data": {
      "text/html": [
       "<style>#sk-container-id-2 {color: black;background-color: white;}#sk-container-id-2 pre{padding: 0;}#sk-container-id-2 div.sk-toggleable {background-color: white;}#sk-container-id-2 label.sk-toggleable__label {cursor: pointer;display: block;width: 100%;margin-bottom: 0;padding: 0.3em;box-sizing: border-box;text-align: center;}#sk-container-id-2 label.sk-toggleable__label-arrow:before {content: \"▸\";float: left;margin-right: 0.25em;color: #696969;}#sk-container-id-2 label.sk-toggleable__label-arrow:hover:before {color: black;}#sk-container-id-2 div.sk-estimator:hover label.sk-toggleable__label-arrow:before {color: black;}#sk-container-id-2 div.sk-toggleable__content {max-height: 0;max-width: 0;overflow: hidden;text-align: left;background-color: #f0f8ff;}#sk-container-id-2 div.sk-toggleable__content pre {margin: 0.2em;color: black;border-radius: 0.25em;background-color: #f0f8ff;}#sk-container-id-2 input.sk-toggleable__control:checked~div.sk-toggleable__content {max-height: 200px;max-width: 100%;overflow: auto;}#sk-container-id-2 input.sk-toggleable__control:checked~label.sk-toggleable__label-arrow:before {content: \"▾\";}#sk-container-id-2 div.sk-estimator input.sk-toggleable__control:checked~label.sk-toggleable__label {background-color: #d4ebff;}#sk-container-id-2 div.sk-label input.sk-toggleable__control:checked~label.sk-toggleable__label {background-color: #d4ebff;}#sk-container-id-2 input.sk-hidden--visually {border: 0;clip: rect(1px 1px 1px 1px);clip: rect(1px, 1px, 1px, 1px);height: 1px;margin: -1px;overflow: hidden;padding: 0;position: absolute;width: 1px;}#sk-container-id-2 div.sk-estimator {font-family: monospace;background-color: #f0f8ff;border: 1px dotted black;border-radius: 0.25em;box-sizing: border-box;margin-bottom: 0.5em;}#sk-container-id-2 div.sk-estimator:hover {background-color: #d4ebff;}#sk-container-id-2 div.sk-parallel-item::after {content: \"\";width: 100%;border-bottom: 1px solid gray;flex-grow: 1;}#sk-container-id-2 div.sk-label:hover label.sk-toggleable__label {background-color: #d4ebff;}#sk-container-id-2 div.sk-serial::before {content: \"\";position: absolute;border-left: 1px solid gray;box-sizing: border-box;top: 0;bottom: 0;left: 50%;z-index: 0;}#sk-container-id-2 div.sk-serial {display: flex;flex-direction: column;align-items: center;background-color: white;padding-right: 0.2em;padding-left: 0.2em;position: relative;}#sk-container-id-2 div.sk-item {position: relative;z-index: 1;}#sk-container-id-2 div.sk-parallel {display: flex;align-items: stretch;justify-content: center;background-color: white;position: relative;}#sk-container-id-2 div.sk-item::before, #sk-container-id-2 div.sk-parallel-item::before {content: \"\";position: absolute;border-left: 1px solid gray;box-sizing: border-box;top: 0;bottom: 0;left: 50%;z-index: -1;}#sk-container-id-2 div.sk-parallel-item {display: flex;flex-direction: column;z-index: 1;position: relative;background-color: white;}#sk-container-id-2 div.sk-parallel-item:first-child::after {align-self: flex-end;width: 50%;}#sk-container-id-2 div.sk-parallel-item:last-child::after {align-self: flex-start;width: 50%;}#sk-container-id-2 div.sk-parallel-item:only-child::after {width: 0;}#sk-container-id-2 div.sk-dashed-wrapped {border: 1px dashed gray;margin: 0 0.4em 0.5em 0.4em;box-sizing: border-box;padding-bottom: 0.4em;background-color: white;}#sk-container-id-2 div.sk-label label {font-family: monospace;font-weight: bold;display: inline-block;line-height: 1.2em;}#sk-container-id-2 div.sk-label-container {text-align: center;}#sk-container-id-2 div.sk-container {/* jupyter's `normalize.less` sets `[hidden] { display: none; }` but bootstrap.min.css set `[hidden] { display: none !important; }` so we also need the `!important` here to be able to override the default hidden behavior on the sphinx rendered scikit-learn.org. See: https://github.com/scikit-learn/scikit-learn/issues/21755 */display: inline-block !important;position: relative;}#sk-container-id-2 div.sk-text-repr-fallback {display: none;}</style><div id=\"sk-container-id-2\" class=\"sk-top-container\"><div class=\"sk-text-repr-fallback\"><pre>LogisticRegression()</pre><b>In a Jupyter environment, please rerun this cell to show the HTML representation or trust the notebook. <br />On GitHub, the HTML representation is unable to render, please try loading this page with nbviewer.org.</b></div><div class=\"sk-container\" hidden><div class=\"sk-item\"><div class=\"sk-estimator sk-toggleable\"><input class=\"sk-toggleable__control sk-hidden--visually\" id=\"sk-estimator-id-2\" type=\"checkbox\" checked><label for=\"sk-estimator-id-2\" class=\"sk-toggleable__label sk-toggleable__label-arrow\">LogisticRegression</label><div class=\"sk-toggleable__content\"><pre>LogisticRegression()</pre></div></div></div></div></div>"
      ],
      "text/plain": [
       "LogisticRegression()"
      ]
     },
     "execution_count": 17,
     "metadata": {},
     "output_type": "execute_result"
    }
   ],
   "source": [
    "lr=LogisticRegression()\n",
    "lr.fit(train_ovs[best_var],train_ovs['target'])"
   ]
  },
  {
   "cell_type": "code",
   "execution_count": 18,
   "metadata": {},
   "outputs": [
    {
     "data": {
      "text/plain": [
       "(array([-0.00517739]),\n",
       " array([[-0.65962218, -0.86316683, -0.60650077, -0.65598451, -0.52671732,\n",
       "         -0.17644136, -0.34906373, -0.40598703, -0.21398964, -0.49390327]]))"
      ]
     },
     "execution_count": 18,
     "metadata": {},
     "output_type": "execute_result"
    }
   ],
   "source": [
    "lr.intercept_,lr.coef_"
   ]
  },
  {
   "attachments": {},
   "cell_type": "markdown",
   "metadata": {},
   "source": [
    "## Desempeño del modelo en datos de entrenamiento"
   ]
  },
  {
   "cell_type": "code",
   "execution_count": 20,
   "metadata": {},
   "outputs": [
    {
     "data": {
      "text/plain": [
       "0.6317792660316937"
      ]
     },
     "execution_count": 20,
     "metadata": {},
     "output_type": "execute_result"
    }
   ],
   "source": [
    "accuracy_score(train_ovs['target'],lr.predict(train_ovs[best_var]))"
   ]
  },
  {
   "cell_type": "code",
   "execution_count": 21,
   "metadata": {},
   "outputs": [
    {
     "data": {
      "text/plain": [
       "<Axes: title={'center': 'Confusion Matrix'}, xlabel='Predicted label', ylabel='True label'>"
      ]
     },
     "execution_count": 21,
     "metadata": {},
     "output_type": "execute_result"
    },
    {
     "data": {
      "image/png": "[encoded data removed]",
      "text/plain": [
       "<Figure size 640x480 with 2 Axes>"
      ]
     },
     "metadata": {},
     "output_type": "display_data"
    }
   ],
   "source": [
    "plot_confusion_matrix(train['target'],lr.predict(train[best_var]))\n",
    "# predice todos como buenos, lo logra distinguir los clientes malos"
   ]
  },
  {
   "cell_type": "code",
   "execution_count": 22,
   "metadata": {},
   "outputs": [
    {
     "data": {
      "text/plain": [
       "<Axes: title={'center': 'ROC Curves'}, xlabel='False Positive Rate', ylabel='True Positive Rate'>"
      ]
     },
     "execution_count": 22,
     "metadata": {},
     "output_type": "execute_result"
    },
    {
     "data": {
      "image/png": "[encoded data removed]",
      "text/plain": [
       "<Figure size 640x480 with 1 Axes>"
      ]
     },
     "metadata": {},
     "output_type": "display_data"
    }
   ],
   "source": [
    "plot_roc_curve(train['target'],lr.predict_proba(train[best_var]),curves=('each_class'))"
   ]
  },
  {
   "cell_type": "code",
   "execution_count": 23,
   "metadata": {},
   "outputs": [
    {
     "data": {
      "text/plain": [
       "<Axes: title={'center': 'KS Statistic Plot'}, xlabel='Threshold', ylabel='Percentage below threshold'>"
      ]
     },
     "execution_count": 23,
     "metadata": {},
     "output_type": "execute_result"
    },
    {
     "data": {
      "image/png": "[encoded data removed]",
      "text/plain": [
       "<Figure size 640x480 with 1 Axes>"
      ]
     },
     "metadata": {},
     "output_type": "display_data"
    }
   ],
   "source": [
    "plot_ks_statistic(train['target'],lr.predict_proba(train[best_var]))"
   ]
  },
  {
   "attachments": {},
   "cell_type": "markdown",
   "metadata": {},
   "source": [
    "## Desempeño del modelo en datos de entrenamiento"
   ]
  },
  {
   "cell_type": "code",
   "execution_count": 24,
   "metadata": {},
   "outputs": [],
   "source": [
    "test=pd.read_csv('~/test_discretizado.csv')"
   ]
  },
  {
   "cell_type": "code",
   "execution_count": 25,
   "metadata": {},
   "outputs": [
    {
     "data": {
      "text/plain": [
       "0.6052070972077263"
      ]
     },
     "execution_count": 25,
     "metadata": {},
     "output_type": "execute_result"
    }
   ],
   "source": [
    "accuracy_score(test['target'],lr.predict(test[best_var]))"
   ]
  },
  {
   "cell_type": "code",
   "execution_count": 26,
   "metadata": {},
   "outputs": [
    {
     "data": {
      "text/plain": [
       "0    0.890697\n",
       "1    0.109303\n",
       "Name: target, dtype: float64"
      ]
     },
     "execution_count": 26,
     "metadata": {},
     "output_type": "execute_result"
    }
   ],
   "source": [
    "test.target.value_counts(normalize=True)"
   ]
  },
  {
   "cell_type": "code",
   "execution_count": 27,
   "metadata": {},
   "outputs": [
    {
     "data": {
      "text/plain": [
       "<Axes: title={'center': 'Confusion Matrix'}, xlabel='Predicted label', ylabel='True label'>"
      ]
     },
     "execution_count": 27,
     "metadata": {},
     "output_type": "execute_result"
    },
    {
     "data": {
      "image/png": "[encoded data removed]",
      "text/plain": [
       "<Figure size 640x480 with 2 Axes>"
      ]
     },
     "metadata": {},
     "output_type": "display_data"
    }
   ],
   "source": [
    "plot_confusion_matrix(test['target'],lr.predict(test[best_var]))\n",
    "# predice todos como buenos, lo logra distinguir los clientes malos"
   ]
  },
  {
   "cell_type": "code",
   "execution_count": 28,
   "metadata": {},
   "outputs": [
    {
     "data": {
      "text/plain": [
       "<Axes: title={'center': 'ROC Curves'}, xlabel='False Positive Rate', ylabel='True Positive Rate'>"
      ]
     },
     "execution_count": 28,
     "metadata": {},
     "output_type": "execute_result"
    },
    {
     "data": {
      "image/png": "[encoded data removed]",
      "text/plain": [
       "<Figure size 640x480 with 1 Axes>"
      ]
     },
     "metadata": {},
     "output_type": "display_data"
    }
   ],
   "source": [
    "plot_roc_curve(test['target'],lr.predict_proba(test[best_var]),curves=('each_class'))"
   ]
  },
  {
   "cell_type": "code",
   "execution_count": 29,
   "metadata": {},
   "outputs": [
    {
     "data": {
      "text/plain": [
       "<Axes: title={'center': 'KS Statistic Plot'}, xlabel='Threshold', ylabel='Percentage below threshold'>"
      ]
     },
     "execution_count": 29,
     "metadata": {},
     "output_type": "execute_result"
    },
    {
     "data": {
      "image/png": "[encoded data removed]",
      "text/plain": [
       "<Figure size 640x480 with 1 Axes>"
      ]
     },
     "metadata": {},
     "output_type": "display_data"
    }
   ],
   "source": [
    "plot_ks_statistic(test['target'],lr.predict_proba(test[best_var]))"
   ]
  }
 ],
 "metadata": {
  "kernelspec": {
   "display_name": "amv",
   "language": "python",
   "name": "python3"
  },
  "language_info": {
   "codemirror_mode": {
    "name": "ipython",
    "version": 3
   },
   "file_extension": ".py",
   "mimetype": "text/x-python",
   "name": "python",
   "nbconvert_exporter": "python",
   "pygments_lexer": "ipython3",
   "version": "3.10.6"
  },
  "orig_nbformat": 4
 },
 "nbformat": 4,
 "nbformat_minor": 2
}
